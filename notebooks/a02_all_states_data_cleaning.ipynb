{
 "cells": [
  {
   "cell_type": "markdown",
   "metadata": {
    "toc": true
   },
   "source": [
    "<h1>Table of Contents<span class=\"tocSkip\"></span></h1>\n",
    "<div class=\"toc\"><ul class=\"toc-item\"><li><span><a href=\"#Description\" data-toc-modified-id=\"Description-1\"><span class=\"toc-item-num\">1&nbsp;&nbsp;</span>Description</a></span></li><li><span><a href=\"#Imports\" data-toc-modified-id=\"Imports-2\"><span class=\"toc-item-num\">2&nbsp;&nbsp;</span>Imports</a></span></li><li><span><a href=\"#Load-the-data\" data-toc-modified-id=\"Load-the-data-3\"><span class=\"toc-item-num\">3&nbsp;&nbsp;</span>Load the data</a></span></li><li><span><a href=\"#Data-Manipulation\" data-toc-modified-id=\"Data-Manipulation-4\"><span class=\"toc-item-num\">4&nbsp;&nbsp;</span>Data Manipulation</a></span><ul class=\"toc-item\"><li><span><a href=\"#Transform-skewed-numerical-features\" data-toc-modified-id=\"Transform-skewed-numerical-features-4.1\"><span class=\"toc-item-num\">4.1&nbsp;&nbsp;</span>Transform skewed numerical features</a></span></li><li><span><a href=\"#Log-transform-Target\" data-toc-modified-id=\"Log-transform-Target-4.2\"><span class=\"toc-item-num\">4.2&nbsp;&nbsp;</span>Log transform Target</a></span></li></ul></li><li><span><a href=\"#Categorical-features\" data-toc-modified-id=\"Categorical-features-5\"><span class=\"toc-item-num\">5&nbsp;&nbsp;</span>Categorical features</a></span></li><li><span><a href=\"#Save-the-clean-data\" data-toc-modified-id=\"Save-the-clean-data-6\"><span class=\"toc-item-num\">6&nbsp;&nbsp;</span>Save the clean data</a></span></li></ul></div>"
   ]
  },
  {
   "cell_type": "markdown",
   "metadata": {},
   "source": [
    "# Description\n",
    "[The Allstate Corporation](https://www.allstate.com/) is an American insurance company that is in the United States. The company also has personal lines insurance operations in Canada. \n",
    "\n",
    "**Data Source**\n",
    "Kaggle: https://www.kaggle.com/c/allstate-claims-severity/data"
   ]
  },
  {
   "cell_type": "markdown",
   "metadata": {},
   "source": [
    "# Imports"
   ]
  },
  {
   "cell_type": "code",
   "execution_count": 1,
   "metadata": {
    "ExecuteTime": {
     "end_time": "2020-09-12T19:09:37.483028Z",
     "start_time": "2020-09-12T19:09:35.329000Z"
    }
   },
   "outputs": [
    {
     "data": {
      "text/plain": [
       "[('numpy', '1.18.4'), ('pandas', '1.1.0'), ('seaborn', '0.10.1')]"
      ]
     },
     "execution_count": 1,
     "metadata": {},
     "output_type": "execute_result"
    }
   ],
   "source": [
    "import numpy as np\n",
    "import pandas as pd\n",
    "import seaborn as sns\n",
    "pd.plotting.register_matplotlib_converters()\n",
    "\n",
    "from tqdm import tqdm_notebook as tqdm\n",
    "import matplotlib.pyplot as plt\n",
    "\n",
    "%matplotlib inline\n",
    "%config InlineBackend.figure_format = 'retina'\n",
    "plt.style.use('ggplot') \n",
    "\n",
    "# random state\n",
    "SEED=100\n",
    "np.random.seed(SEED)\n",
    "\n",
    "[(x.__name__,x.__version__) for x in [np,pd,sns]]"
   ]
  },
  {
   "cell_type": "code",
   "execution_count": 2,
   "metadata": {
    "ExecuteTime": {
     "end_time": "2020-09-12T19:09:37.490823Z",
     "start_time": "2020-09-12T19:09:37.487211Z"
    }
   },
   "outputs": [],
   "source": [
    "from scipy.special import boxcox1p"
   ]
  },
  {
   "cell_type": "markdown",
   "metadata": {},
   "source": [
    "# Load the data"
   ]
  },
  {
   "cell_type": "code",
   "execution_count": null,
   "metadata": {},
   "outputs": [],
   "source": [
    "# note: right click compress train.csv does not work for pd.read_csv\n",
    "# use: zip train.csv.zip train.csv"
   ]
  },
  {
   "cell_type": "code",
   "execution_count": 6,
   "metadata": {
    "ExecuteTime": {
     "end_time": "2020-09-12T19:12:32.524340Z",
     "start_time": "2020-09-12T19:12:29.032417Z"
    }
   },
   "outputs": [
    {
     "name": "stdout",
     "output_type": "stream",
     "text": [
      "(188318, 132)\n"
     ]
    },
    {
     "data": {
      "text/html": [
       "<div>\n",
       "<style scoped>\n",
       "    .dataframe tbody tr th:only-of-type {\n",
       "        vertical-align: middle;\n",
       "    }\n",
       "\n",
       "    .dataframe tbody tr th {\n",
       "        vertical-align: top;\n",
       "    }\n",
       "\n",
       "    .dataframe thead th {\n",
       "        text-align: right;\n",
       "    }\n",
       "</style>\n",
       "<table border=\"1\" class=\"dataframe\">\n",
       "  <thead>\n",
       "    <tr style=\"text-align: right;\">\n",
       "      <th></th>\n",
       "      <th>id</th>\n",
       "      <th>cat1</th>\n",
       "      <th>cat2</th>\n",
       "      <th>cat3</th>\n",
       "      <th>cat4</th>\n",
       "      <th>cat5</th>\n",
       "      <th>cat6</th>\n",
       "      <th>cat7</th>\n",
       "      <th>cat8</th>\n",
       "      <th>cat9</th>\n",
       "      <th>...</th>\n",
       "      <th>cont6</th>\n",
       "      <th>cont7</th>\n",
       "      <th>cont8</th>\n",
       "      <th>cont9</th>\n",
       "      <th>cont10</th>\n",
       "      <th>cont11</th>\n",
       "      <th>cont12</th>\n",
       "      <th>cont13</th>\n",
       "      <th>cont14</th>\n",
       "      <th>loss</th>\n",
       "    </tr>\n",
       "  </thead>\n",
       "  <tbody>\n",
       "    <tr>\n",
       "      <th>0</th>\n",
       "      <td>1</td>\n",
       "      <td>A</td>\n",
       "      <td>B</td>\n",
       "      <td>A</td>\n",
       "      <td>B</td>\n",
       "      <td>A</td>\n",
       "      <td>A</td>\n",
       "      <td>A</td>\n",
       "      <td>A</td>\n",
       "      <td>B</td>\n",
       "      <td>...</td>\n",
       "      <td>0.718367</td>\n",
       "      <td>0.335060</td>\n",
       "      <td>0.30260</td>\n",
       "      <td>0.67135</td>\n",
       "      <td>0.83510</td>\n",
       "      <td>0.569745</td>\n",
       "      <td>0.594646</td>\n",
       "      <td>0.822493</td>\n",
       "      <td>0.714843</td>\n",
       "      <td>2213.18</td>\n",
       "    </tr>\n",
       "    <tr>\n",
       "      <th>1</th>\n",
       "      <td>2</td>\n",
       "      <td>A</td>\n",
       "      <td>B</td>\n",
       "      <td>A</td>\n",
       "      <td>A</td>\n",
       "      <td>A</td>\n",
       "      <td>A</td>\n",
       "      <td>A</td>\n",
       "      <td>A</td>\n",
       "      <td>B</td>\n",
       "      <td>...</td>\n",
       "      <td>0.438917</td>\n",
       "      <td>0.436585</td>\n",
       "      <td>0.60087</td>\n",
       "      <td>0.35127</td>\n",
       "      <td>0.43919</td>\n",
       "      <td>0.338312</td>\n",
       "      <td>0.366307</td>\n",
       "      <td>0.611431</td>\n",
       "      <td>0.304496</td>\n",
       "      <td>1283.60</td>\n",
       "    </tr>\n",
       "  </tbody>\n",
       "</table>\n",
       "<p>2 rows × 132 columns</p>\n",
       "</div>"
      ],
      "text/plain": [
       "   id cat1 cat2 cat3 cat4 cat5 cat6 cat7 cat8 cat9  ...     cont6     cont7  \\\n",
       "0   1    A    B    A    B    A    A    A    A    B  ...  0.718367  0.335060   \n",
       "1   2    A    B    A    A    A    A    A    A    B  ...  0.438917  0.436585   \n",
       "\n",
       "     cont8    cont9   cont10    cont11    cont12    cont13    cont14     loss  \n",
       "0  0.30260  0.67135  0.83510  0.569745  0.594646  0.822493  0.714843  2213.18  \n",
       "1  0.60087  0.35127  0.43919  0.338312  0.366307  0.611431  0.304496  1283.60  \n",
       "\n",
       "[2 rows x 132 columns]"
      ]
     },
     "execution_count": 6,
     "metadata": {},
     "output_type": "execute_result"
    }
   ],
   "source": [
    "df_train = pd.read_csv('../data/raw/train.csv.zip')\n",
    "df_test = pd.read_csv('../data/raw/test.csv.zip')\n",
    "\n",
    "print(df_train.shape)\n",
    "df_train.head(2)"
   ]
  },
  {
   "cell_type": "code",
   "execution_count": 7,
   "metadata": {
    "ExecuteTime": {
     "end_time": "2020-09-12T19:12:32.532198Z",
     "start_time": "2020-09-12T19:12:32.527157Z"
    }
   },
   "outputs": [
    {
     "data": {
      "text/plain": [
       "((188318, 132), (125546, 131))"
      ]
     },
     "execution_count": 7,
     "metadata": {},
     "output_type": "execute_result"
    }
   ],
   "source": [
    "df_train.shape, df_test.shape"
   ]
  },
  {
   "cell_type": "code",
   "execution_count": 8,
   "metadata": {
    "ExecuteTime": {
     "end_time": "2020-09-12T19:12:32.550611Z",
     "start_time": "2020-09-12T19:12:32.535337Z"
    }
   },
   "outputs": [
    {
     "data": {
      "text/plain": [
       "Index(['loss'], dtype='object')"
      ]
     },
     "execution_count": 8,
     "metadata": {},
     "output_type": "execute_result"
    }
   ],
   "source": [
    "df_train.columns.difference(df_test.columns)"
   ]
  },
  {
   "cell_type": "markdown",
   "metadata": {},
   "source": [
    "# Data Manipulation"
   ]
  },
  {
   "cell_type": "markdown",
   "metadata": {},
   "source": [
    "## Transform skewed numerical features"
   ]
  },
  {
   "cell_type": "code",
   "execution_count": 9,
   "metadata": {
    "ExecuteTime": {
     "end_time": "2020-09-12T19:12:33.223633Z",
     "start_time": "2020-09-12T19:12:32.553111Z"
    }
   },
   "outputs": [
    {
     "data": {
      "text/plain": [
       "id       -0.002155\n",
       "cont1     0.516424\n",
       "cont2    -0.310941\n",
       "cont3    -0.010002\n",
       "cont4     0.416096\n",
       "cont5     0.681622\n",
       "cont6     0.461214\n",
       "cont7     0.826053\n",
       "cont8     0.676634\n",
       "cont9     1.072429\n",
       "cont10    0.355001\n",
       "cont11    0.280821\n",
       "cont12    0.291992\n",
       "cont13    0.380742\n",
       "cont14    0.248674\n",
       "loss      3.794958\n",
       "dtype: float64"
      ]
     },
     "execution_count": 9,
     "metadata": {},
     "output_type": "execute_result"
    }
   ],
   "source": [
    "s = df_train.skew()\n",
    "s"
   ]
  },
  {
   "cell_type": "code",
   "execution_count": 10,
   "metadata": {
    "ExecuteTime": {
     "end_time": "2020-09-12T19:12:33.251535Z",
     "start_time": "2020-09-12T19:12:33.226188Z"
    }
   },
   "outputs": [
    {
     "name": "stdout",
     "output_type": "stream",
     "text": [
      "['cont1', 'cont2', 'cont4', 'cont5', 'cont6', 'cont7', 'cont8', 'cont9', 'cont10', 'cont11', 'cont12', 'cont13', 'loss']\n"
     ]
    }
   ],
   "source": [
    "# boxcox transform high skewed variables\n",
    "threshold = 0.25\n",
    "cols_hight_skew = s[s.abs()>threshold].index.tolist()\n",
    "\n",
    "print(cols_hight_skew)"
   ]
  },
  {
   "cell_type": "code",
   "execution_count": 11,
   "metadata": {
    "ExecuteTime": {
     "end_time": "2020-09-12T19:12:33.261279Z",
     "start_time": "2020-09-12T19:12:33.254221Z"
    }
   },
   "outputs": [],
   "source": [
    "from scipy.special import boxcox1p"
   ]
  },
  {
   "cell_type": "code",
   "execution_count": 12,
   "metadata": {
    "ExecuteTime": {
     "end_time": "2020-09-12T19:12:33.385583Z",
     "start_time": "2020-09-12T19:12:33.263356Z"
    }
   },
   "outputs": [
    {
     "name": "stdout",
     "output_type": "stream",
     "text": [
      "['cont1', 'cont2', 'cont3', 'cont4', 'cont5', 'cont6', 'cont7', 'cont8', 'cont9', 'cont10', 'cont11', 'cont12', 'cont13', 'cont14']\n"
     ]
    }
   ],
   "source": [
    "cols_cont = [i for i in df_train.columns \n",
    "             if i.startswith('cont')]\n",
    "print(cols_cont)\n",
    "\n",
    "threshold = 0.25\n",
    "for c in cols_cont:\n",
    "    df_train[c+'_boxcox1p'] = boxcox1p(df_train[c].to_numpy(),\n",
    "                                       threshold)\n",
    "    df_test[c+'_boxcox1p'] = boxcox1p(df_test[c].to_numpy(),\n",
    "                                       threshold)"
   ]
  },
  {
   "cell_type": "markdown",
   "metadata": {},
   "source": [
    "## Log transform Target"
   ]
  },
  {
   "cell_type": "code",
   "execution_count": 13,
   "metadata": {
    "ExecuteTime": {
     "end_time": "2020-09-12T19:12:33.396962Z",
     "start_time": "2020-09-12T19:12:33.389373Z"
    }
   },
   "outputs": [],
   "source": [
    "df_train['loss_log1p'] = np.log1p(df_train['loss'])"
   ]
  },
  {
   "cell_type": "markdown",
   "metadata": {},
   "source": [
    "# Categorical features"
   ]
  },
  {
   "cell_type": "code",
   "execution_count": 14,
   "metadata": {
    "ExecuteTime": {
     "end_time": "2020-09-12T19:12:33.405579Z",
     "start_time": "2020-09-12T19:12:33.400926Z"
    }
   },
   "outputs": [
    {
     "name": "stdout",
     "output_type": "stream",
     "text": [
      "['cat1', 'cat2', 'cat3', 'cat4', 'cat5', 'cat6', 'cat7', 'cat8', 'cat9', 'cat10', 'cat11', 'cat12', 'cat13', 'cat14', 'cat15', 'cat16', 'cat17', 'cat18', 'cat19', 'cat20', 'cat21', 'cat22', 'cat23', 'cat24', 'cat25', 'cat26', 'cat27', 'cat28', 'cat29', 'cat30', 'cat31', 'cat32', 'cat33', 'cat34', 'cat35', 'cat36', 'cat37', 'cat38', 'cat39', 'cat40', 'cat41', 'cat42', 'cat43', 'cat44', 'cat45', 'cat46', 'cat47', 'cat48', 'cat49', 'cat50', 'cat51', 'cat52', 'cat53', 'cat54', 'cat55', 'cat56', 'cat57', 'cat58', 'cat59', 'cat60', 'cat61', 'cat62', 'cat63', 'cat64', 'cat65', 'cat66', 'cat67', 'cat68', 'cat69', 'cat70', 'cat71', 'cat72', 'cat73', 'cat74', 'cat75', 'cat76', 'cat77', 'cat78', 'cat79', 'cat80', 'cat81', 'cat82', 'cat83', 'cat84', 'cat85', 'cat86', 'cat87', 'cat88', 'cat89', 'cat90', 'cat91', 'cat92', 'cat93', 'cat94', 'cat95', 'cat96', 'cat97', 'cat98', 'cat99', 'cat100', 'cat101', 'cat102', 'cat103', 'cat104', 'cat105', 'cat106', 'cat107', 'cat108', 'cat109', 'cat110', 'cat111', 'cat112', 'cat113', 'cat114', 'cat115', 'cat116']\n"
     ]
    }
   ],
   "source": [
    "cols_cat = [i for i in df_train.columns\n",
    "           if i.startswith('cat')]\n",
    "\n",
    "print(cols_cat)"
   ]
  },
  {
   "cell_type": "code",
   "execution_count": 15,
   "metadata": {
    "ExecuteTime": {
     "end_time": "2020-09-12T19:12:34.399133Z",
     "start_time": "2020-09-12T19:12:33.408167Z"
    }
   },
   "outputs": [
    {
     "data": {
      "text/plain": [
       "cat99      16\n",
       "cat100     15\n",
       "cat101     19\n",
       "cat103     13\n",
       "cat104     17\n",
       "cat105     20\n",
       "cat106     17\n",
       "cat107     20\n",
       "cat108     11\n",
       "cat109     84\n",
       "cat110    131\n",
       "cat111     16\n",
       "cat112     51\n",
       "cat113     61\n",
       "cat114     19\n",
       "cat115     23\n",
       "cat116    326\n",
       "dtype: int64"
      ]
     },
     "execution_count": 15,
     "metadata": {},
     "output_type": "execute_result"
    }
   ],
   "source": [
    "df_train[cols_cat].nunique()[lambda x: x>10]"
   ]
  },
  {
   "cell_type": "code",
   "execution_count": 16,
   "metadata": {
    "ExecuteTime": {
     "end_time": "2020-09-12T19:12:35.285041Z",
     "start_time": "2020-09-12T19:12:34.401089Z"
    }
   },
   "outputs": [
    {
     "name": "stdout",
     "output_type": "stream",
     "text": [
      "['cat109', 'cat110', 'cat112', 'cat113', 'cat116']\n"
     ]
    }
   ],
   "source": [
    "large_cats = df_train[cols_cat].nunique()[lambda x: x>50].index.tolist()\n",
    "\n",
    "print(large_cats)"
   ]
  },
  {
   "cell_type": "code",
   "execution_count": 17,
   "metadata": {
    "ExecuteTime": {
     "end_time": "2020-09-12T19:12:36.165439Z",
     "start_time": "2020-09-12T19:12:35.288706Z"
    }
   },
   "outputs": [],
   "source": [
    "small_cats = df_train[cols_cat].nunique()[lambda x: x<=50].index.tolist()"
   ]
  },
  {
   "cell_type": "code",
   "execution_count": 18,
   "metadata": {
    "ExecuteTime": {
     "end_time": "2020-09-12T19:12:36.191397Z",
     "start_time": "2020-09-12T19:12:36.167565Z"
    }
   },
   "outputs": [
    {
     "data": {
      "text/plain": [
       "BI    81.202009\n",
       "AB    11.646789\n",
       "BU     1.668454\n",
       "K      1.592519\n",
       "G      0.718466\n",
       "BQ     0.566595\n",
       "N      0.244799\n",
       "M      0.236833\n",
       "BO     0.174704\n",
       "BH     0.136471\n",
       "D      0.113638\n",
       "AR     0.110451\n",
       "AT     0.106203\n",
       "Name: cat109, dtype: float64"
      ]
     },
     "execution_count": 18,
     "metadata": {},
     "output_type": "execute_result"
    }
   ],
   "source": [
    "df_train[large_cats[0]].value_counts(normalize=True).mul(100)[lambda x: x>0.1]"
   ]
  },
  {
   "cell_type": "code",
   "execution_count": 19,
   "metadata": {
    "ExecuteTime": {
     "end_time": "2020-09-12T19:12:36.196920Z",
     "start_time": "2020-09-12T19:12:36.193484Z"
    }
   },
   "outputs": [],
   "source": [
    "# very few categories have 99.9% of the values."
   ]
  },
  {
   "cell_type": "code",
   "execution_count": 20,
   "metadata": {
    "ExecuteTime": {
     "end_time": "2020-09-12T19:12:36.272099Z",
     "start_time": "2020-09-12T19:12:36.199818Z"
    }
   },
   "outputs": [
    {
     "data": {
      "text/plain": [
       "14"
      ]
     },
     "execution_count": 20,
     "metadata": {},
     "output_type": "execute_result"
    }
   ],
   "source": [
    "cat = large_cats[0]\n",
    "idx_keep = df_train[cat].value_counts(normalize=True).mul(100)[lambda x: x>0.1].index.tolist()\n",
    "\n",
    "cond_train = df_train[cat].isin(idx_keep)\n",
    "df_train.loc[~cond_train,cat] = 'Others'\n",
    "\n",
    "cond_test = df_test[cat].isin(idx_keep)\n",
    "df_test.loc[~cond_test,cat] = 'Others'\n",
    "\n",
    "df_train[cat].nunique()"
   ]
  },
  {
   "cell_type": "code",
   "execution_count": 21,
   "metadata": {
    "ExecuteTime": {
     "end_time": "2020-09-12T19:12:36.278425Z",
     "start_time": "2020-09-12T19:12:36.274684Z"
    }
   },
   "outputs": [],
   "source": [
    "# another cat"
   ]
  },
  {
   "cell_type": "code",
   "execution_count": 22,
   "metadata": {
    "ExecuteTime": {
     "end_time": "2020-09-12T19:12:36.331315Z",
     "start_time": "2020-09-12T19:12:36.280446Z"
    }
   },
   "outputs": [
    {
     "data": {
      "text/plain": [
       "40"
      ]
     },
     "execution_count": 22,
     "metadata": {},
     "output_type": "execute_result"
    }
   ],
   "source": [
    "cat = large_cats[1]\n",
    "\n",
    "# display(df_train[cat].value_counts(normalize=True).mul(100)[lambda x: x>0.1])\n",
    "\n",
    "idx_keep = df_train[cat].value_counts(normalize=True).mul(100)[lambda x: x>0.1].index.tolist()\n",
    "\n",
    "\n",
    "cond_train = df_train[cat].isin(idx_keep)\n",
    "df_train.loc[~cond_train,cat] = 'Others'\n",
    "\n",
    "cond_test = df_test[cat].isin(idx_keep)\n",
    "df_test.loc[~cond_test,cat] = 'Others'\n",
    "\n",
    "df_train[cat].nunique()"
   ]
  },
  {
   "cell_type": "code",
   "execution_count": 23,
   "metadata": {
    "ExecuteTime": {
     "end_time": "2020-09-12T19:12:36.376105Z",
     "start_time": "2020-09-12T19:12:36.333056Z"
    }
   },
   "outputs": [
    {
     "data": {
      "text/plain": [
       "50"
      ]
     },
     "execution_count": 23,
     "metadata": {},
     "output_type": "execute_result"
    }
   ],
   "source": [
    "cat = large_cats[2]\n",
    "\n",
    "# display(df_train[cat].value_counts(normalize=True).mul(100)[lambda x: x>0.1])\n",
    "\n",
    "idx_keep = df_train[cat].value_counts(normalize=True).mul(100)[lambda x: x>0.1].index.tolist()\n",
    "\n",
    "\n",
    "cond_train = df_train[cat].isin(idx_keep)\n",
    "df_train.loc[~cond_train,cat] = 'Others'\n",
    "\n",
    "cond_test = df_test[cat].isin(idx_keep)\n",
    "df_test.loc[~cond_test,cat] = 'Others'\n",
    "\n",
    "df_train[cat].nunique()"
   ]
  },
  {
   "cell_type": "code",
   "execution_count": 24,
   "metadata": {
    "ExecuteTime": {
     "end_time": "2020-09-12T19:12:36.426359Z",
     "start_time": "2020-09-12T19:12:36.378386Z"
    }
   },
   "outputs": [
    {
     "data": {
      "text/plain": [
       "42"
      ]
     },
     "execution_count": 24,
     "metadata": {},
     "output_type": "execute_result"
    }
   ],
   "source": [
    "cat = large_cats[3]\n",
    "\n",
    "# display(df_train[cat].value_counts(normalize=True).mul(100)[lambda x: x>0.1])\n",
    "\n",
    "idx_keep = df_train[cat].value_counts(normalize=True).mul(100)[lambda x: x>0.1].index.tolist()\n",
    "\n",
    "cond_train = df_train[cat].isin(idx_keep)\n",
    "df_train.loc[~cond_train,cat] = 'Others'\n",
    "\n",
    "cond_test = df_test[cat].isin(idx_keep)\n",
    "df_test.loc[~cond_test,cat] = 'Others'\n",
    "\n",
    "df_train[cat].nunique()"
   ]
  },
  {
   "cell_type": "code",
   "execution_count": 25,
   "metadata": {
    "ExecuteTime": {
     "end_time": "2020-09-12T19:12:36.522471Z",
     "start_time": "2020-09-12T19:12:36.428195Z"
    }
   },
   "outputs": [
    {
     "data": {
      "text/plain": [
       "37"
      ]
     },
     "execution_count": 25,
     "metadata": {},
     "output_type": "execute_result"
    }
   ],
   "source": [
    "cat = large_cats[4]\n",
    "\n",
    "# display(df_train[cat].value_counts(normalize=True).mul(100)[lambda x: x>0.5])\n",
    "\n",
    "idx_keep = df_train[cat].value_counts(normalize=True).mul(100)[lambda x: x>0.5].index.tolist()\n",
    "\n",
    "cond_train = df_train[cat].isin(idx_keep)\n",
    "df_train.loc[~cond_train,cat] = 'Others'\n",
    "\n",
    "cond_test = df_test[cat].isin(idx_keep)\n",
    "df_test.loc[~cond_test,cat] = 'Others'\n",
    "\n",
    "df_train[cat].nunique()"
   ]
  },
  {
   "cell_type": "code",
   "execution_count": 26,
   "metadata": {
    "ExecuteTime": {
     "end_time": "2020-09-12T19:12:37.812134Z",
     "start_time": "2020-09-12T19:12:36.527295Z"
    }
   },
   "outputs": [
    {
     "data": {
      "text/html": [
       "<div>\n",
       "<style scoped>\n",
       "    .dataframe tbody tr th:only-of-type {\n",
       "        vertical-align: middle;\n",
       "    }\n",
       "\n",
       "    .dataframe tbody tr th {\n",
       "        vertical-align: top;\n",
       "    }\n",
       "\n",
       "    .dataframe thead th {\n",
       "        text-align: right;\n",
       "    }\n",
       "</style>\n",
       "<table border=\"1\" class=\"dataframe\">\n",
       "  <thead>\n",
       "    <tr style=\"text-align: right;\">\n",
       "      <th></th>\n",
       "      <th>dummy_cat1_A</th>\n",
       "      <th>dummy_cat1_B</th>\n",
       "    </tr>\n",
       "  </thead>\n",
       "  <tbody>\n",
       "    <tr>\n",
       "      <th>0</th>\n",
       "      <td>1</td>\n",
       "      <td>0</td>\n",
       "    </tr>\n",
       "    <tr>\n",
       "      <th>1</th>\n",
       "      <td>1</td>\n",
       "      <td>0</td>\n",
       "    </tr>\n",
       "  </tbody>\n",
       "</table>\n",
       "</div>"
      ],
      "text/plain": [
       "   dummy_cat1_A  dummy_cat1_B\n",
       "0             1             0\n",
       "1             1             0"
      ]
     },
     "execution_count": 26,
     "metadata": {},
     "output_type": "execute_result"
    }
   ],
   "source": [
    "df_dummies_train = pd.concat([\n",
    "    pd.get_dummies(df_train[cat],prefix='dummy_'+cat)\n",
    "    for cat in cols_cat\n",
    "], axis=1)\n",
    "\n",
    "df_dummies_train.iloc[:2,:2]"
   ]
  },
  {
   "cell_type": "code",
   "execution_count": 27,
   "metadata": {
    "ExecuteTime": {
     "end_time": "2020-09-12T19:12:38.663411Z",
     "start_time": "2020-09-12T19:12:37.814506Z"
    }
   },
   "outputs": [],
   "source": [
    "df_dummies_test = pd.concat([\n",
    "    pd.get_dummies(df_test[cat],prefix='dummy_'+cat)\n",
    "    for cat in cols_cat\n",
    "], axis=1)"
   ]
  },
  {
   "cell_type": "code",
   "execution_count": 28,
   "metadata": {
    "ExecuteTime": {
     "end_time": "2020-09-12T19:12:39.379857Z",
     "start_time": "2020-09-12T19:12:38.669985Z"
    }
   },
   "outputs": [],
   "source": [
    "df_train = pd.concat([df_train, df_dummies_train ],axis=1)\n",
    "df_test = pd.concat([df_test, df_dummies_test ],axis=1)"
   ]
  },
  {
   "cell_type": "code",
   "execution_count": 29,
   "metadata": {
    "ExecuteTime": {
     "end_time": "2020-09-12T19:12:39.393528Z",
     "start_time": "2020-09-12T19:12:39.384812Z"
    }
   },
   "outputs": [
    {
     "data": {
      "text/plain": [
       "((188318, 816), (125546, 811))"
      ]
     },
     "execution_count": 29,
     "metadata": {},
     "output_type": "execute_result"
    }
   ],
   "source": [
    "df_train.shape, df_test.shape"
   ]
  },
  {
   "cell_type": "code",
   "execution_count": 30,
   "metadata": {
    "ExecuteTime": {
     "end_time": "2020-09-12T19:12:39.406529Z",
     "start_time": "2020-09-12T19:12:39.395804Z"
    }
   },
   "outputs": [
    {
     "data": {
      "text/plain": [
       "Index(['dummy_cat101_N', 'dummy_cat101_U', 'dummy_cat102_H', 'dummy_cat102_J',\n",
       "       'dummy_cat105_R', 'dummy_cat105_S', 'dummy_cat111_D', 'dummy_cat114_X',\n",
       "       'dummy_cat89_I', 'dummy_cat90_G', 'dummy_cat92_F', 'loss',\n",
       "       'loss_log1p'],\n",
       "      dtype='object')"
      ]
     },
     "execution_count": 30,
     "metadata": {},
     "output_type": "execute_result"
    }
   ],
   "source": [
    "df_train.columns.difference(df_test.columns)"
   ]
  },
  {
   "cell_type": "markdown",
   "metadata": {},
   "source": [
    "# Save the clean data"
   ]
  },
  {
   "cell_type": "code",
   "execution_count": 39,
   "metadata": {
    "ExecuteTime": {
     "end_time": "2020-09-12T19:21:27.871693Z",
     "start_time": "2020-09-12T19:20:32.276415Z"
    }
   },
   "outputs": [
    {
     "name": "stdout",
     "output_type": "stream",
     "text": [
      "CPU times: user 53.2 s, sys: 936 ms, total: 54.1 s\n",
      "Wall time: 55.6 s\n"
     ]
    }
   ],
   "source": [
    "%%time\n",
    "df_train.to_csv('../data/processed/train_cleaned_encoded.csv.zip',index=False)\n",
    "df_test.to_csv('../data/processed/test_cleaned_encoded.csv.zip',index=False)"
   ]
  },
  {
   "cell_type": "code",
   "execution_count": 40,
   "metadata": {
    "ExecuteTime": {
     "end_time": "2020-09-12T19:21:28.250566Z",
     "start_time": "2020-09-12T19:21:28.116762Z"
    }
   },
   "outputs": [
    {
     "name": "stdout",
     "output_type": "stream",
     "text": [
      "test_cleaned_encoded.csv.zip  train_cleaned_encoded.csv.zip\r\n"
     ]
    }
   ],
   "source": [
    "!ls ../data/processed/"
   ]
  },
  {
   "cell_type": "code",
   "execution_count": 41,
   "metadata": {
    "ExecuteTime": {
     "end_time": "2020-09-12T19:21:28.608309Z",
     "start_time": "2020-09-12T19:21:28.485483Z"
    }
   },
   "outputs": [
    {
     "name": "stdout",
     "output_type": "stream",
     "text": [
      " 55M\t../data/processed/train_cleaned_encoded.csv.zip\r\n"
     ]
    }
   ],
   "source": [
    "!du -sh ../data/processed/train_cleaned_encoded.csv.zip"
   ]
  },
  {
   "cell_type": "code",
   "execution_count": 36,
   "metadata": {
    "ExecuteTime": {
     "end_time": "2020-09-12T19:17:27.988771Z",
     "start_time": "2020-09-12T19:17:27.984419Z"
    }
   },
   "outputs": [],
   "source": [
    "# df_train.to_hdf('../data/processed/df_train.h5',\n",
    "#                 key='df_train', mode='w',\n",
    "#                complib='bzip2')\n",
    "\n",
    "### size: 236.8 MB "
   ]
  },
  {
   "cell_type": "code",
   "execution_count": 37,
   "metadata": {
    "ExecuteTime": {
     "end_time": "2020-09-12T19:18:48.667084Z",
     "start_time": "2020-09-12T19:18:47.024438Z"
    }
   },
   "outputs": [],
   "source": [
    "# df_train.to_feather('../data/processed/df_train.feather')\n",
    "\n",
    "### size: 134.8 MB "
   ]
  },
  {
   "cell_type": "code",
   "execution_count": null,
   "metadata": {},
   "outputs": [],
   "source": []
  }
 ],
 "metadata": {
  "kernelspec": {
   "display_name": "Python (dataSc)",
   "language": "python",
   "name": "datasc"
  },
  "language_info": {
   "codemirror_mode": {
    "name": "ipython",
    "version": 3
   },
   "file_extension": ".py",
   "mimetype": "text/x-python",
   "name": "python",
   "nbconvert_exporter": "python",
   "pygments_lexer": "ipython3",
   "version": "3.7.7"
  },
  "toc": {
   "base_numbering": 1,
   "nav_menu": {},
   "number_sections": true,
   "sideBar": true,
   "skip_h1_title": false,
   "title_cell": "Table of Contents",
   "title_sidebar": "Contents",
   "toc_cell": true,
   "toc_position": {},
   "toc_section_display": true,
   "toc_window_display": true
  },
  "varInspector": {
   "cols": {
    "lenName": 16,
    "lenType": 16,
    "lenVar": 40
   },
   "kernels_config": {
    "python": {
     "delete_cmd_postfix": "",
     "delete_cmd_prefix": "del ",
     "library": "var_list.py",
     "varRefreshCmd": "print(var_dic_list())"
    },
    "r": {
     "delete_cmd_postfix": ") ",
     "delete_cmd_prefix": "rm(",
     "library": "var_list.r",
     "varRefreshCmd": "cat(var_dic_list()) "
    }
   },
   "types_to_exclude": [
    "module",
    "function",
    "builtin_function_or_method",
    "instance",
    "_Feature"
   ],
   "window_display": false
  }
 },
 "nbformat": 4,
 "nbformat_minor": 2
}
