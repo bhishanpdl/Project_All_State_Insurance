{
 "cells": [
  {
   "cell_type": "markdown",
   "metadata": {
    "toc": true
   },
   "source": [
    "<h1>Table of Contents<span class=\"tocSkip\"></span></h1>\n",
    "<div class=\"toc\"><ul class=\"toc-item\"><li><span><a href=\"#Description\" data-toc-modified-id=\"Description-1\"><span class=\"toc-item-num\">1&nbsp;&nbsp;</span>Description</a></span></li><li><span><a href=\"#Imports\" data-toc-modified-id=\"Imports-2\"><span class=\"toc-item-num\">2&nbsp;&nbsp;</span>Imports</a></span></li><li><span><a href=\"#Load-the-data\" data-toc-modified-id=\"Load-the-data-3\"><span class=\"toc-item-num\">3&nbsp;&nbsp;</span>Load the data</a></span></li><li><span><a href=\"#Data-Preparation\" data-toc-modified-id=\"Data-Preparation-4\"><span class=\"toc-item-num\">4&nbsp;&nbsp;</span>Data Preparation</a></span></li><li><span><a href=\"#Train-Validation-Split\" data-toc-modified-id=\"Train-Validation-Split-5\"><span class=\"toc-item-num\">5&nbsp;&nbsp;</span>Train-Validation Split</a></span></li><li><span><a href=\"#Scale-the-data\" data-toc-modified-id=\"Scale-the-data-6\"><span class=\"toc-item-num\">6&nbsp;&nbsp;</span>Scale the data</a></span></li><li><span><a href=\"#Modelling\" data-toc-modified-id=\"Modelling-7\"><span class=\"toc-item-num\">7&nbsp;&nbsp;</span>Modelling</a></span><ul class=\"toc-item\"><li><span><a href=\"#Wrapper-Functions\" data-toc-modified-id=\"Wrapper-Functions-7.1\"><span class=\"toc-item-num\">7.1&nbsp;&nbsp;</span>Wrapper Functions</a></span></li><li><span><a href=\"#Modelling:-Random-Forest\" data-toc-modified-id=\"Modelling:-Random-Forest-7.2\"><span class=\"toc-item-num\">7.2&nbsp;&nbsp;</span>Modelling: Random Forest</a></span></li><li><span><a href=\"#Modelling:-XGBoost\" data-toc-modified-id=\"Modelling:-XGBoost-7.3\"><span class=\"toc-item-num\">7.3&nbsp;&nbsp;</span>Modelling: XGBoost</a></span></li><li><span><a href=\"#Modelling:-Extra-Trees-Regressor\" data-toc-modified-id=\"Modelling:-Extra-Trees-Regressor-7.4\"><span class=\"toc-item-num\">7.4&nbsp;&nbsp;</span>Modelling: Extra Trees Regressor</a></span></li><li><span><a href=\"#Stacking-multiple-models\" data-toc-modified-id=\"Stacking-multiple-models-7.5\"><span class=\"toc-item-num\">7.5&nbsp;&nbsp;</span>Stacking multiple models</a></span></li><li><span><a href=\"#Model-Estimation-on-Test-Set\" data-toc-modified-id=\"Model-Estimation-on-Test-Set-7.6\"><span class=\"toc-item-num\">7.6&nbsp;&nbsp;</span>Model Estimation on Test Set</a></span></li></ul></li><li><span><a href=\"#Time-Taken\" data-toc-modified-id=\"Time-Taken-8\"><span class=\"toc-item-num\">8&nbsp;&nbsp;</span>Time Taken</a></span></li></ul></div>"
   ]
  },
  {
   "cell_type": "markdown",
   "metadata": {},
   "source": [
    "# Description\n",
    "[The Allstate Corporation](https://www.allstate.com/) is an American insurance company that is in the United States. The company also has personal lines insurance operations in Canada. \n",
    "\n",
    "**References**\n",
    "- https://www.kaggle.com/c/allstate-claims-severity/data\n",
    "- https://www.kaggle.com/sharmasanthosh/exploratory-study-on-ml-algorithms\n",
    "- https://www.kaggle.com/mmueller/stacking-starter"
   ]
  },
  {
   "cell_type": "markdown",
   "metadata": {},
   "source": [
    "# Imports"
   ]
  },
  {
   "cell_type": "code",
   "execution_count": 1,
   "metadata": {
    "ExecuteTime": {
     "end_time": "2020-09-12T19:44:54.906824Z",
     "start_time": "2020-09-12T19:44:54.903734Z"
    }
   },
   "outputs": [],
   "source": [
    "import time\n",
    "\n",
    "time_start_notebook = time.time()"
   ]
  },
  {
   "cell_type": "code",
   "execution_count": 2,
   "metadata": {
    "ExecuteTime": {
     "end_time": "2020-09-12T19:44:56.443402Z",
     "start_time": "2020-09-12T19:44:54.908869Z"
    }
   },
   "outputs": [
    {
     "data": {
      "text/plain": [
       "[('numpy', '1.18.4'), ('pandas', '1.1.0'), ('seaborn', '0.10.1')]"
      ]
     },
     "execution_count": 2,
     "metadata": {},
     "output_type": "execute_result"
    }
   ],
   "source": [
    "import numpy as np\n",
    "import pandas as pd\n",
    "import seaborn as sns\n",
    "\n",
    "from tqdm import tqdm_notebook as tqdm\n",
    "import matplotlib.pyplot as plt\n",
    "\n",
    "%matplotlib inline\n",
    "%config InlineBackend.figure_format = 'retina'\n",
    "plt.style.use('ggplot') \n",
    "\n",
    "# random state\n",
    "SEED=100\n",
    "\n",
    "[(x.__name__,x.__version__) for x in [np,pd,sns]]"
   ]
  },
  {
   "cell_type": "code",
   "execution_count": 3,
   "metadata": {
    "ExecuteTime": {
     "end_time": "2020-09-12T19:44:56.450501Z",
     "start_time": "2020-09-12T19:44:56.445884Z"
    }
   },
   "outputs": [],
   "source": [
    "from scipy.special import boxcox1p"
   ]
  },
  {
   "cell_type": "code",
   "execution_count": 4,
   "metadata": {
    "ExecuteTime": {
     "end_time": "2020-09-12T19:44:56.538948Z",
     "start_time": "2020-09-12T19:44:56.452861Z"
    }
   },
   "outputs": [
    {
     "name": "stdout",
     "output_type": "stream",
     "text": [
      "[('scipy', '1.4.1'), ('sklearn', '0.23.1')]\n"
     ]
    }
   ],
   "source": [
    "import scipy\n",
    "import sklearn\n",
    "\n",
    "print([(x.__name__,x.__version__) for x in [scipy, sklearn]])"
   ]
  },
  {
   "cell_type": "code",
   "execution_count": 5,
   "metadata": {
    "ExecuteTime": {
     "end_time": "2020-09-12T19:44:56.601052Z",
     "start_time": "2020-09-12T19:44:56.544951Z"
    }
   },
   "outputs": [],
   "source": [
    "# scale and split\n",
    "from sklearn.preprocessing import StandardScaler\n",
    "from sklearn.model_selection import train_test_split"
   ]
  },
  {
   "cell_type": "code",
   "execution_count": 6,
   "metadata": {
    "ExecuteTime": {
     "end_time": "2020-09-12T19:44:56.703220Z",
     "start_time": "2020-09-12T19:44:56.608912Z"
    }
   },
   "outputs": [],
   "source": [
    "# regressors\n",
    "from sklearn import linear_model\n",
    "from sklearn.linear_model import LinearRegression\n",
    "from sklearn.linear_model import Lasso\n",
    "from sklearn.linear_model import ElasticNet\n",
    "from sklearn.tree import DecisionTreeRegressor\n",
    "from sklearn.neighbors import KNeighborsRegressor\n",
    "from sklearn.ensemble import RandomForestRegressor\n",
    "from sklearn.ensemble import ExtraTreesRegressor\n",
    "from sklearn.ensemble import GradientBoostingRegressor"
   ]
  },
  {
   "cell_type": "code",
   "execution_count": 7,
   "metadata": {
    "ExecuteTime": {
     "end_time": "2020-09-12T19:44:56.711048Z",
     "start_time": "2020-09-12T19:44:56.706216Z"
    }
   },
   "outputs": [],
   "source": [
    "# pipeline\n",
    "from sklearn.pipeline import Pipeline"
   ]
  },
  {
   "cell_type": "code",
   "execution_count": 8,
   "metadata": {
    "ExecuteTime": {
     "end_time": "2020-09-12T19:44:56.718287Z",
     "start_time": "2020-09-12T19:44:56.713485Z"
    }
   },
   "outputs": [],
   "source": [
    "# metrics\n",
    "from sklearn import metrics\n",
    "from sklearn.metrics import mean_squared_error\n",
    "from sklearn.metrics import mean_absolute_error"
   ]
  },
  {
   "cell_type": "code",
   "execution_count": 9,
   "metadata": {
    "ExecuteTime": {
     "end_time": "2020-09-12T19:44:56.725020Z",
     "start_time": "2020-09-12T19:44:56.720882Z"
    }
   },
   "outputs": [],
   "source": [
    "# cross validation\n",
    "from sklearn.model_selection import KFold, StratifiedKFold\n",
    "from sklearn.model_selection import cross_val_score"
   ]
  },
  {
   "cell_type": "code",
   "execution_count": 10,
   "metadata": {
    "ExecuteTime": {
     "end_time": "2020-09-12T19:44:57.313040Z",
     "start_time": "2020-09-12T19:44:56.727303Z"
    }
   },
   "outputs": [],
   "source": [
    "# classifier\n",
    "import xgboost as xgb"
   ]
  },
  {
   "cell_type": "code",
   "execution_count": 11,
   "metadata": {
    "ExecuteTime": {
     "end_time": "2020-09-12T19:44:57.326035Z",
     "start_time": "2020-09-12T19:44:57.319336Z"
    }
   },
   "outputs": [],
   "source": [
    "# six and pickle\n",
    "import six\n",
    "import pickle\n",
    "import joblib"
   ]
  },
  {
   "cell_type": "code",
   "execution_count": 12,
   "metadata": {
    "ExecuteTime": {
     "end_time": "2020-09-12T19:44:57.372142Z",
     "start_time": "2020-09-12T19:44:57.332235Z"
    }
   },
   "outputs": [],
   "source": [
    "%load_ext autoreload"
   ]
  },
  {
   "cell_type": "code",
   "execution_count": 13,
   "metadata": {
    "ExecuteTime": {
     "end_time": "2020-09-12T19:44:57.380464Z",
     "start_time": "2020-09-12T19:44:57.375697Z"
    }
   },
   "outputs": [],
   "source": [
    "%autoreload 2"
   ]
  },
  {
   "cell_type": "code",
   "execution_count": 14,
   "metadata": {
    "ExecuteTime": {
     "end_time": "2020-09-12T19:44:58.179800Z",
     "start_time": "2020-09-12T19:44:57.382535Z"
    }
   },
   "outputs": [],
   "source": [
    "# my personal library\n",
    "from bhishan import bp"
   ]
  },
  {
   "cell_type": "markdown",
   "metadata": {},
   "source": [
    "# Load the data"
   ]
  },
  {
   "cell_type": "code",
   "execution_count": 15,
   "metadata": {
    "ExecuteTime": {
     "end_time": "2020-09-12T19:45:19.282034Z",
     "start_time": "2020-09-12T19:44:58.181915Z"
    }
   },
   "outputs": [
    {
     "name": "stdout",
     "output_type": "stream",
     "text": [
      "(188318, 816)\n"
     ]
    },
    {
     "data": {
      "text/html": [
       "<div>\n",
       "<style scoped>\n",
       "    .dataframe tbody tr th:only-of-type {\n",
       "        vertical-align: middle;\n",
       "    }\n",
       "\n",
       "    .dataframe tbody tr th {\n",
       "        vertical-align: top;\n",
       "    }\n",
       "\n",
       "    .dataframe thead th {\n",
       "        text-align: right;\n",
       "    }\n",
       "</style>\n",
       "<table border=\"1\" class=\"dataframe\">\n",
       "  <thead>\n",
       "    <tr style=\"text-align: right;\">\n",
       "      <th></th>\n",
       "      <th>id</th>\n",
       "      <th>cat1</th>\n",
       "      <th>cat2</th>\n",
       "      <th>cat3</th>\n",
       "      <th>cat4</th>\n",
       "      <th>cat5</th>\n",
       "      <th>cat6</th>\n",
       "      <th>cat7</th>\n",
       "      <th>cat8</th>\n",
       "      <th>cat9</th>\n",
       "      <th>...</th>\n",
       "      <th>dummy_cat116_KC</th>\n",
       "      <th>dummy_cat116_KW</th>\n",
       "      <th>dummy_cat116_LB</th>\n",
       "      <th>dummy_cat116_LF</th>\n",
       "      <th>dummy_cat116_LM</th>\n",
       "      <th>dummy_cat116_LN</th>\n",
       "      <th>dummy_cat116_LO</th>\n",
       "      <th>dummy_cat116_LY</th>\n",
       "      <th>dummy_cat116_MD</th>\n",
       "      <th>dummy_cat116_Others</th>\n",
       "    </tr>\n",
       "  </thead>\n",
       "  <tbody>\n",
       "    <tr>\n",
       "      <th>0</th>\n",
       "      <td>1</td>\n",
       "      <td>A</td>\n",
       "      <td>B</td>\n",
       "      <td>A</td>\n",
       "      <td>B</td>\n",
       "      <td>A</td>\n",
       "      <td>A</td>\n",
       "      <td>A</td>\n",
       "      <td>A</td>\n",
       "      <td>B</td>\n",
       "      <td>...</td>\n",
       "      <td>0</td>\n",
       "      <td>0</td>\n",
       "      <td>1</td>\n",
       "      <td>0</td>\n",
       "      <td>0</td>\n",
       "      <td>0</td>\n",
       "      <td>0</td>\n",
       "      <td>0</td>\n",
       "      <td>0</td>\n",
       "      <td>0</td>\n",
       "    </tr>\n",
       "    <tr>\n",
       "      <th>1</th>\n",
       "      <td>2</td>\n",
       "      <td>A</td>\n",
       "      <td>B</td>\n",
       "      <td>A</td>\n",
       "      <td>A</td>\n",
       "      <td>A</td>\n",
       "      <td>A</td>\n",
       "      <td>A</td>\n",
       "      <td>A</td>\n",
       "      <td>B</td>\n",
       "      <td>...</td>\n",
       "      <td>0</td>\n",
       "      <td>0</td>\n",
       "      <td>0</td>\n",
       "      <td>0</td>\n",
       "      <td>0</td>\n",
       "      <td>0</td>\n",
       "      <td>0</td>\n",
       "      <td>0</td>\n",
       "      <td>0</td>\n",
       "      <td>0</td>\n",
       "    </tr>\n",
       "    <tr>\n",
       "      <th>188316</th>\n",
       "      <td>587632</td>\n",
       "      <td>A</td>\n",
       "      <td>B</td>\n",
       "      <td>A</td>\n",
       "      <td>A</td>\n",
       "      <td>A</td>\n",
       "      <td>A</td>\n",
       "      <td>A</td>\n",
       "      <td>A</td>\n",
       "      <td>B</td>\n",
       "      <td>...</td>\n",
       "      <td>0</td>\n",
       "      <td>0</td>\n",
       "      <td>0</td>\n",
       "      <td>0</td>\n",
       "      <td>0</td>\n",
       "      <td>0</td>\n",
       "      <td>0</td>\n",
       "      <td>0</td>\n",
       "      <td>1</td>\n",
       "      <td>0</td>\n",
       "    </tr>\n",
       "    <tr>\n",
       "      <th>188317</th>\n",
       "      <td>587633</td>\n",
       "      <td>B</td>\n",
       "      <td>A</td>\n",
       "      <td>A</td>\n",
       "      <td>B</td>\n",
       "      <td>A</td>\n",
       "      <td>A</td>\n",
       "      <td>A</td>\n",
       "      <td>A</td>\n",
       "      <td>A</td>\n",
       "      <td>...</td>\n",
       "      <td>0</td>\n",
       "      <td>0</td>\n",
       "      <td>0</td>\n",
       "      <td>0</td>\n",
       "      <td>0</td>\n",
       "      <td>0</td>\n",
       "      <td>0</td>\n",
       "      <td>0</td>\n",
       "      <td>0</td>\n",
       "      <td>1</td>\n",
       "    </tr>\n",
       "  </tbody>\n",
       "</table>\n",
       "<p>4 rows × 816 columns</p>\n",
       "</div>"
      ],
      "text/plain": [
       "            id cat1 cat2 cat3 cat4 cat5 cat6 cat7 cat8 cat9  ...  \\\n",
       "0            1    A    B    A    B    A    A    A    A    B  ...   \n",
       "1            2    A    B    A    A    A    A    A    A    B  ...   \n",
       "188316  587632    A    B    A    A    A    A    A    A    B  ...   \n",
       "188317  587633    B    A    A    B    A    A    A    A    A  ...   \n",
       "\n",
       "       dummy_cat116_KC dummy_cat116_KW dummy_cat116_LB dummy_cat116_LF  \\\n",
       "0                    0               0               1               0   \n",
       "1                    0               0               0               0   \n",
       "188316               0               0               0               0   \n",
       "188317               0               0               0               0   \n",
       "\n",
       "       dummy_cat116_LM dummy_cat116_LN dummy_cat116_LO dummy_cat116_LY  \\\n",
       "0                    0               0               0               0   \n",
       "1                    0               0               0               0   \n",
       "188316               0               0               0               0   \n",
       "188317               0               0               0               0   \n",
       "\n",
       "       dummy_cat116_MD dummy_cat116_Others  \n",
       "0                    0                   0  \n",
       "1                    0                   0  \n",
       "188316               1                   0  \n",
       "188317               0                   1  \n",
       "\n",
       "[4 rows x 816 columns]"
      ]
     },
     "execution_count": 15,
     "metadata": {},
     "output_type": "execute_result"
    }
   ],
   "source": [
    "path_pro = '../data/processed'\n",
    "\n",
    "df_train = pd.read_csv(f'{path_pro}/train_cleaned_encoded.csv.zip',compression='zip')\n",
    "\n",
    "df_test = pd.read_csv(f'{path_pro}/test_cleaned_encoded.csv.zip',compression='zip')\n",
    "\n",
    "print(df_train.shape)\n",
    "df_train.head(2).append(df_train.tail(2))"
   ]
  },
  {
   "cell_type": "code",
   "execution_count": 16,
   "metadata": {
    "ExecuteTime": {
     "end_time": "2020-09-12T19:45:19.336642Z",
     "start_time": "2020-09-12T19:45:19.284491Z"
    }
   },
   "outputs": [
    {
     "data": {
      "text/plain": [
       "((188318, 816), (125546, 811))"
      ]
     },
     "execution_count": 16,
     "metadata": {},
     "output_type": "execute_result"
    }
   ],
   "source": [
    "df_train.shape, df_test.shape"
   ]
  },
  {
   "cell_type": "code",
   "execution_count": 17,
   "metadata": {
    "ExecuteTime": {
     "end_time": "2020-09-12T19:45:19.380666Z",
     "start_time": "2020-09-12T19:45:19.340388Z"
    }
   },
   "outputs": [
    {
     "name": "stdout",
     "output_type": "stream",
     "text": [
      "['dummy_cat101_N', 'dummy_cat101_U', 'dummy_cat102_H', 'dummy_cat102_J', 'dummy_cat105_R', 'dummy_cat105_S', 'dummy_cat111_D', 'dummy_cat114_X', 'dummy_cat89_I', 'dummy_cat90_G', 'dummy_cat92_F', 'loss', 'loss_log1p']\n"
     ]
    }
   ],
   "source": [
    "features_only_train = df_train.columns.difference(df_test.columns).tolist()\n",
    "\n",
    "print(features_only_train)"
   ]
  },
  {
   "cell_type": "code",
   "execution_count": 18,
   "metadata": {
    "ExecuteTime": {
     "end_time": "2020-09-12T19:45:19.422222Z",
     "start_time": "2020-09-12T19:45:19.382885Z"
    }
   },
   "outputs": [
    {
     "name": "stdout",
     "output_type": "stream",
     "text": [
      "['dummy_cat103_M', 'dummy_cat106_Q', 'dummy_cat111_L', 'dummy_cat89_F', 'dummy_cat92_E', 'dummy_cat92_G', 'dummy_cat96_H', 'dummy_cat99_U']\n"
     ]
    }
   ],
   "source": [
    "features_only_test = df_test.columns.difference(df_train.columns).tolist()\n",
    "\n",
    "print(features_only_test)"
   ]
  },
  {
   "cell_type": "code",
   "execution_count": 19,
   "metadata": {
    "ExecuteTime": {
     "end_time": "2020-09-12T19:45:19.466782Z",
     "start_time": "2020-09-12T19:45:19.425505Z"
    }
   },
   "outputs": [
    {
     "name": "stdout",
     "output_type": "stream",
     "text": [
      "['dummy_cat101_N', 'dummy_cat101_U', 'dummy_cat102_H', 'dummy_cat102_J', 'dummy_cat105_R', 'dummy_cat105_S', 'dummy_cat111_D', 'dummy_cat114_X', 'dummy_cat89_I', 'dummy_cat90_G', 'dummy_cat92_F', 'loss', 'loss_log1p', 'dummy_cat103_M', 'dummy_cat106_Q', 'dummy_cat111_L', 'dummy_cat89_F', 'dummy_cat92_E', 'dummy_cat92_G', 'dummy_cat96_H', 'dummy_cat99_U']\n"
     ]
    }
   ],
   "source": [
    "features_only_one = features_only_train + features_only_test\n",
    "\n",
    "print(features_only_one)"
   ]
  },
  {
   "cell_type": "markdown",
   "metadata": {},
   "source": [
    "# Data Preparation"
   ]
  },
  {
   "cell_type": "code",
   "execution_count": 20,
   "metadata": {
    "ExecuteTime": {
     "end_time": "2020-09-12T19:45:19.513400Z",
     "start_time": "2020-09-12T19:45:19.470049Z"
    }
   },
   "outputs": [],
   "source": [
    "\"\"\"\n",
    "continuous features: xxx_boxcox1p\n",
    "categorical features: dummy_xxx\n",
    "\n",
    "target: loss_log1p\n",
    "\"\"\";"
   ]
  },
  {
   "cell_type": "code",
   "execution_count": 21,
   "metadata": {
    "ExecuteTime": {
     "end_time": "2020-09-12T19:45:19.555271Z",
     "start_time": "2020-09-12T19:45:19.515406Z"
    }
   },
   "outputs": [],
   "source": [
    "features_raw = df_train.columns.tolist()\n",
    "target = 'loss'\n",
    "target_log = 'loss_log1p'\n",
    "\n",
    "# orig\n",
    "features_orig_cont = [i for i in features_raw \n",
    "                    if i.startswith('cont')\n",
    "                    if not i.endswith('_boxcox1p')\n",
    "                     ]\n",
    "                      \n",
    "features_orig_cat = [i for i in features_raw \n",
    "                    if i.startswith('cat') ]                     \n",
    "features_orig = features_orig_cat + features_orig_cont\n",
    "\n",
    "# processed\n",
    "features_cont = [i for i in features_raw if i.endswith('_boxcox1p') ]\n",
    "\n",
    "features_cat = [i for i in features_raw if i.startswith('dummy_') ]\n",
    "\n",
    "features = features_cat + features_cont\n",
    "features = [i for i in features if i not in features_only_one]\n",
    "\n",
    "\n",
    "# print\n",
    " \n",
    "# print(features_orig_cont)\n",
    "# print(features_orig_cat)\n",
    "# print(features_cont)\n",
    "# print(features_cat)"
   ]
  },
  {
   "cell_type": "markdown",
   "metadata": {},
   "source": [
    "# Train-Validation Split"
   ]
  },
  {
   "cell_type": "code",
   "execution_count": 22,
   "metadata": {
    "ExecuteTime": {
     "end_time": "2020-09-12T19:45:21.705265Z",
     "start_time": "2020-09-12T19:45:19.557853Z"
    }
   },
   "outputs": [
    {
     "name": "stdout",
     "output_type": "stream",
     "text": [
      "(150654, 672) (150654,) (150654,)\n"
     ]
    },
    {
     "data": {
      "text/html": [
       "<div>\n",
       "<style scoped>\n",
       "    .dataframe tbody tr th:only-of-type {\n",
       "        vertical-align: middle;\n",
       "    }\n",
       "\n",
       "    .dataframe tbody tr th {\n",
       "        vertical-align: top;\n",
       "    }\n",
       "\n",
       "    .dataframe thead th {\n",
       "        text-align: right;\n",
       "    }\n",
       "</style>\n",
       "<table border=\"1\" class=\"dataframe\">\n",
       "  <thead>\n",
       "    <tr style=\"text-align: right;\">\n",
       "      <th></th>\n",
       "      <th>dummy_cat1_A</th>\n",
       "      <th>dummy_cat1_B</th>\n",
       "      <th>dummy_cat2_A</th>\n",
       "      <th>dummy_cat2_B</th>\n",
       "      <th>dummy_cat3_A</th>\n",
       "      <th>dummy_cat3_B</th>\n",
       "      <th>dummy_cat4_A</th>\n",
       "      <th>dummy_cat4_B</th>\n",
       "      <th>dummy_cat5_A</th>\n",
       "      <th>dummy_cat5_B</th>\n",
       "      <th>...</th>\n",
       "      <th>cont5_boxcox1p</th>\n",
       "      <th>cont6_boxcox1p</th>\n",
       "      <th>cont7_boxcox1p</th>\n",
       "      <th>cont8_boxcox1p</th>\n",
       "      <th>cont9_boxcox1p</th>\n",
       "      <th>cont10_boxcox1p</th>\n",
       "      <th>cont11_boxcox1p</th>\n",
       "      <th>cont12_boxcox1p</th>\n",
       "      <th>cont13_boxcox1p</th>\n",
       "      <th>cont14_boxcox1p</th>\n",
       "    </tr>\n",
       "  </thead>\n",
       "  <tbody>\n",
       "    <tr>\n",
       "      <th>180302</th>\n",
       "      <td>1</td>\n",
       "      <td>0</td>\n",
       "      <td>0</td>\n",
       "      <td>1</td>\n",
       "      <td>0</td>\n",
       "      <td>1</td>\n",
       "      <td>1</td>\n",
       "      <td>0</td>\n",
       "      <td>1</td>\n",
       "      <td>0</td>\n",
       "      <td>...</td>\n",
       "      <td>0.273358</td>\n",
       "      <td>0.170764</td>\n",
       "      <td>0.278357</td>\n",
       "      <td>0.269171</td>\n",
       "      <td>0.288533</td>\n",
       "      <td>0.197228</td>\n",
       "      <td>0.169389</td>\n",
       "      <td>0.167836</td>\n",
       "      <td>0.238885</td>\n",
       "      <td>0.650623</td>\n",
       "    </tr>\n",
       "    <tr>\n",
       "      <th>105000</th>\n",
       "      <td>1</td>\n",
       "      <td>0</td>\n",
       "      <td>0</td>\n",
       "      <td>1</td>\n",
       "      <td>1</td>\n",
       "      <td>0</td>\n",
       "      <td>0</td>\n",
       "      <td>1</td>\n",
       "      <td>1</td>\n",
       "      <td>0</td>\n",
       "      <td>...</td>\n",
       "      <td>0.361725</td>\n",
       "      <td>0.350364</td>\n",
       "      <td>0.320341</td>\n",
       "      <td>0.499342</td>\n",
       "      <td>0.378155</td>\n",
       "      <td>0.393653</td>\n",
       "      <td>0.310744</td>\n",
       "      <td>0.307905</td>\n",
       "      <td>0.327325</td>\n",
       "      <td>0.257707</td>\n",
       "    </tr>\n",
       "  </tbody>\n",
       "</table>\n",
       "<p>2 rows × 672 columns</p>\n",
       "</div>"
      ],
      "text/plain": [
       "        dummy_cat1_A  dummy_cat1_B  dummy_cat2_A  dummy_cat2_B  dummy_cat3_A  \\\n",
       "180302             1             0             0             1             0   \n",
       "105000             1             0             0             1             1   \n",
       "\n",
       "        dummy_cat3_B  dummy_cat4_A  dummy_cat4_B  dummy_cat5_A  dummy_cat5_B  \\\n",
       "180302             1             1             0             1             0   \n",
       "105000             0             0             1             1             0   \n",
       "\n",
       "        ...  cont5_boxcox1p  cont6_boxcox1p  cont7_boxcox1p  cont8_boxcox1p  \\\n",
       "180302  ...        0.273358        0.170764        0.278357        0.269171   \n",
       "105000  ...        0.361725        0.350364        0.320341        0.499342   \n",
       "\n",
       "        cont9_boxcox1p  cont10_boxcox1p  cont11_boxcox1p  cont12_boxcox1p  \\\n",
       "180302        0.288533         0.197228         0.169389         0.167836   \n",
       "105000        0.378155         0.393653         0.310744         0.307905   \n",
       "\n",
       "        cont13_boxcox1p  cont14_boxcox1p  \n",
       "180302         0.238885         0.650623  \n",
       "105000         0.327325         0.257707  \n",
       "\n",
       "[2 rows x 672 columns]"
      ]
     },
     "execution_count": 22,
     "metadata": {},
     "output_type": "execute_result"
    }
   ],
   "source": [
    "df_Xtr, df_Xval, ser_ytr, ser_yval = train_test_split(\n",
    "    df_train[features],df_train[target],\n",
    "    train_size=0.8,random_state=SEED)\n",
    "\n",
    "Xtr = df_Xtr.to_numpy()\n",
    "ytr = ser_ytr.to_numpy().ravel()\n",
    "yval = ser_yval.to_numpy().ravel()\n",
    "\n",
    "print(df_Xtr.shape, ser_ytr.shape,ytr.shape)\n",
    "df_Xtr.head(2)"
   ]
  },
  {
   "cell_type": "code",
   "execution_count": 23,
   "metadata": {
    "ExecuteTime": {
     "end_time": "2020-09-12T19:45:22.650246Z",
     "start_time": "2020-09-12T19:45:21.730529Z"
    }
   },
   "outputs": [
    {
     "name": "stdout",
     "output_type": "stream",
     "text": [
      "(125546, 672)\n"
     ]
    },
    {
     "data": {
      "text/html": [
       "<div>\n",
       "<style scoped>\n",
       "    .dataframe tbody tr th:only-of-type {\n",
       "        vertical-align: middle;\n",
       "    }\n",
       "\n",
       "    .dataframe tbody tr th {\n",
       "        vertical-align: top;\n",
       "    }\n",
       "\n",
       "    .dataframe thead th {\n",
       "        text-align: right;\n",
       "    }\n",
       "</style>\n",
       "<table border=\"1\" class=\"dataframe\">\n",
       "  <thead>\n",
       "    <tr style=\"text-align: right;\">\n",
       "      <th></th>\n",
       "      <th>dummy_cat1_A</th>\n",
       "      <th>dummy_cat1_B</th>\n",
       "      <th>dummy_cat2_A</th>\n",
       "      <th>dummy_cat2_B</th>\n",
       "      <th>dummy_cat3_A</th>\n",
       "      <th>dummy_cat3_B</th>\n",
       "      <th>dummy_cat4_A</th>\n",
       "      <th>dummy_cat4_B</th>\n",
       "      <th>dummy_cat5_A</th>\n",
       "      <th>dummy_cat5_B</th>\n",
       "      <th>...</th>\n",
       "      <th>cont5_boxcox1p</th>\n",
       "      <th>cont6_boxcox1p</th>\n",
       "      <th>cont7_boxcox1p</th>\n",
       "      <th>cont8_boxcox1p</th>\n",
       "      <th>cont9_boxcox1p</th>\n",
       "      <th>cont10_boxcox1p</th>\n",
       "      <th>cont11_boxcox1p</th>\n",
       "      <th>cont12_boxcox1p</th>\n",
       "      <th>cont13_boxcox1p</th>\n",
       "      <th>cont14_boxcox1p</th>\n",
       "    </tr>\n",
       "  </thead>\n",
       "  <tbody>\n",
       "    <tr>\n",
       "      <th>0</th>\n",
       "      <td>1</td>\n",
       "      <td>0</td>\n",
       "      <td>0</td>\n",
       "      <td>1</td>\n",
       "      <td>1</td>\n",
       "      <td>0</td>\n",
       "      <td>1</td>\n",
       "      <td>0</td>\n",
       "      <td>1</td>\n",
       "      <td>0</td>\n",
       "      <td>...</td>\n",
       "      <td>0.255586</td>\n",
       "      <td>0.401870</td>\n",
       "      <td>0.285609</td>\n",
       "      <td>0.507345</td>\n",
       "      <td>0.306570</td>\n",
       "      <td>0.335532</td>\n",
       "      <td>0.333617</td>\n",
       "      <td>0.327418</td>\n",
       "      <td>0.570153</td>\n",
       "      <td>0.345239</td>\n",
       "    </tr>\n",
       "    <tr>\n",
       "      <th>1</th>\n",
       "      <td>1</td>\n",
       "      <td>0</td>\n",
       "      <td>0</td>\n",
       "      <td>1</td>\n",
       "      <td>1</td>\n",
       "      <td>0</td>\n",
       "      <td>0</td>\n",
       "      <td>1</td>\n",
       "      <td>1</td>\n",
       "      <td>0</td>\n",
       "      <td>...</td>\n",
       "      <td>0.656444</td>\n",
       "      <td>0.413704</td>\n",
       "      <td>0.384638</td>\n",
       "      <td>0.576341</td>\n",
       "      <td>0.440606</td>\n",
       "      <td>0.501547</td>\n",
       "      <td>0.560053</td>\n",
       "      <td>0.551063</td>\n",
       "      <td>0.391990</td>\n",
       "      <td>0.193540</td>\n",
       "    </tr>\n",
       "  </tbody>\n",
       "</table>\n",
       "<p>2 rows × 672 columns</p>\n",
       "</div>"
      ],
      "text/plain": [
       "   dummy_cat1_A  dummy_cat1_B  dummy_cat2_A  dummy_cat2_B  dummy_cat3_A  \\\n",
       "0             1             0             0             1             1   \n",
       "1             1             0             0             1             1   \n",
       "\n",
       "   dummy_cat3_B  dummy_cat4_A  dummy_cat4_B  dummy_cat5_A  dummy_cat5_B  ...  \\\n",
       "0             0             1             0             1             0  ...   \n",
       "1             0             0             1             1             0  ...   \n",
       "\n",
       "   cont5_boxcox1p  cont6_boxcox1p  cont7_boxcox1p  cont8_boxcox1p  \\\n",
       "0        0.255586        0.401870        0.285609        0.507345   \n",
       "1        0.656444        0.413704        0.384638        0.576341   \n",
       "\n",
       "   cont9_boxcox1p  cont10_boxcox1p  cont11_boxcox1p  cont12_boxcox1p  \\\n",
       "0        0.306570         0.335532         0.333617         0.327418   \n",
       "1        0.440606         0.501547         0.560053         0.551063   \n",
       "\n",
       "   cont13_boxcox1p  cont14_boxcox1p  \n",
       "0         0.570153         0.345239  \n",
       "1         0.391990         0.193540  \n",
       "\n",
       "[2 rows x 672 columns]"
      ]
     },
     "execution_count": 23,
     "metadata": {},
     "output_type": "execute_result"
    }
   ],
   "source": [
    "df_Xtx = df_test[features]\n",
    "Xtx = df_Xtx.to_numpy()\n",
    "\n",
    "ser_ytx = None\n",
    "ytx = None\n",
    "\n",
    "# in kaggle there is no ytest, we need to submit it.\n",
    "print(df_Xtx.shape)\n",
    "df_Xtx.head(2)"
   ]
  },
  {
   "cell_type": "markdown",
   "metadata": {},
   "source": [
    "# Scale the data"
   ]
  },
  {
   "cell_type": "code",
   "execution_count": 24,
   "metadata": {
    "ExecuteTime": {
     "end_time": "2020-09-12T19:45:27.808527Z",
     "start_time": "2020-09-12T19:45:22.655129Z"
    }
   },
   "outputs": [
    {
     "name": "stdout",
     "output_type": "stream",
     "text": [
      "<class 'numpy.ndarray'>\n"
     ]
    },
    {
     "data": {
      "text/html": [
       "<div>\n",
       "<style scoped>\n",
       "    .dataframe tbody tr th:only-of-type {\n",
       "        vertical-align: middle;\n",
       "    }\n",
       "\n",
       "    .dataframe tbody tr th {\n",
       "        vertical-align: top;\n",
       "    }\n",
       "\n",
       "    .dataframe thead th {\n",
       "        text-align: right;\n",
       "    }\n",
       "</style>\n",
       "<table border=\"1\" class=\"dataframe\">\n",
       "  <thead>\n",
       "    <tr style=\"text-align: right;\">\n",
       "      <th></th>\n",
       "      <th>dummy_cat1_A</th>\n",
       "      <th>dummy_cat1_B</th>\n",
       "      <th>dummy_cat2_A</th>\n",
       "      <th>dummy_cat2_B</th>\n",
       "      <th>dummy_cat3_A</th>\n",
       "      <th>dummy_cat3_B</th>\n",
       "      <th>dummy_cat4_A</th>\n",
       "      <th>dummy_cat4_B</th>\n",
       "      <th>dummy_cat5_A</th>\n",
       "      <th>dummy_cat5_B</th>\n",
       "      <th>...</th>\n",
       "      <th>cont5_boxcox1p</th>\n",
       "      <th>cont6_boxcox1p</th>\n",
       "      <th>cont7_boxcox1p</th>\n",
       "      <th>cont8_boxcox1p</th>\n",
       "      <th>cont9_boxcox1p</th>\n",
       "      <th>cont10_boxcox1p</th>\n",
       "      <th>cont11_boxcox1p</th>\n",
       "      <th>cont12_boxcox1p</th>\n",
       "      <th>cont13_boxcox1p</th>\n",
       "      <th>cont14_boxcox1p</th>\n",
       "    </tr>\n",
       "  </thead>\n",
       "  <tbody>\n",
       "    <tr>\n",
       "      <th>0</th>\n",
       "      <td>0.574198</td>\n",
       "      <td>-0.574198</td>\n",
       "      <td>-1.141867</td>\n",
       "      <td>1.141867</td>\n",
       "      <td>-4.159984</td>\n",
       "      <td>4.159984</td>\n",
       "      <td>0.682029</td>\n",
       "      <td>-0.682029</td>\n",
       "      <td>0.722126</td>\n",
       "      <td>-0.722126</td>\n",
       "      <td>...</td>\n",
       "      <td>-0.902536</td>\n",
       "      <td>-1.611161</td>\n",
       "      <td>-1.020371</td>\n",
       "      <td>-0.971494</td>\n",
       "      <td>-0.936657</td>\n",
       "      <td>-1.631879</td>\n",
       "      <td>-1.584026</td>\n",
       "      <td>-1.595692</td>\n",
       "      <td>-1.124155</td>\n",
       "      <td>1.446586</td>\n",
       "    </tr>\n",
       "    <tr>\n",
       "      <th>1</th>\n",
       "      <td>0.574198</td>\n",
       "      <td>-0.574198</td>\n",
       "      <td>-1.141867</td>\n",
       "      <td>1.141867</td>\n",
       "      <td>0.240386</td>\n",
       "      <td>-0.240386</td>\n",
       "      <td>-1.466213</td>\n",
       "      <td>1.466213</td>\n",
       "      <td>0.722126</td>\n",
       "      <td>-0.722126</td>\n",
       "      <td>...</td>\n",
       "      <td>-0.317716</td>\n",
       "      <td>-0.413701</td>\n",
       "      <td>-0.694650</td>\n",
       "      <td>0.622825</td>\n",
       "      <td>-0.246720</td>\n",
       "      <td>-0.188110</td>\n",
       "      <td>-0.668667</td>\n",
       "      <td>-0.686765</td>\n",
       "      <td>-0.555165</td>\n",
       "      <td>-0.958409</td>\n",
       "    </tr>\n",
       "  </tbody>\n",
       "</table>\n",
       "<p>2 rows × 672 columns</p>\n",
       "</div>"
      ],
      "text/plain": [
       "   dummy_cat1_A  dummy_cat1_B  dummy_cat2_A  dummy_cat2_B  dummy_cat3_A  \\\n",
       "0      0.574198     -0.574198     -1.141867      1.141867     -4.159984   \n",
       "1      0.574198     -0.574198     -1.141867      1.141867      0.240386   \n",
       "\n",
       "   dummy_cat3_B  dummy_cat4_A  dummy_cat4_B  dummy_cat5_A  dummy_cat5_B  ...  \\\n",
       "0      4.159984      0.682029     -0.682029      0.722126     -0.722126  ...   \n",
       "1     -0.240386     -1.466213      1.466213      0.722126     -0.722126  ...   \n",
       "\n",
       "   cont5_boxcox1p  cont6_boxcox1p  cont7_boxcox1p  cont8_boxcox1p  \\\n",
       "0       -0.902536       -1.611161       -1.020371       -0.971494   \n",
       "1       -0.317716       -0.413701       -0.694650        0.622825   \n",
       "\n",
       "   cont9_boxcox1p  cont10_boxcox1p  cont11_boxcox1p  cont12_boxcox1p  \\\n",
       "0       -0.936657        -1.631879        -1.584026        -1.595692   \n",
       "1       -0.246720        -0.188110        -0.668667        -0.686765   \n",
       "\n",
       "   cont13_boxcox1p  cont14_boxcox1p  \n",
       "0        -1.124155         1.446586  \n",
       "1        -0.555165        -0.958409  \n",
       "\n",
       "[2 rows x 672 columns]"
      ]
     },
     "execution_count": 24,
     "metadata": {},
     "output_type": "execute_result"
    }
   ],
   "source": [
    "scaler = StandardScaler()\n",
    "\n",
    "Xtr_scaled = scaler.fit_transform(df_Xtr)\n",
    "Xval_scaled = scaler.fit_transform(df_Xval)\n",
    "\n",
    "print(type(Xtr_scaled))\n",
    "\n",
    "df_Xtr_scaled = pd.DataFrame(Xtr_scaled,columns=df_Xtr.columns)\n",
    "\n",
    "df_Xval_scaled = pd.DataFrame(Xval_scaled,columns=df_Xval.columns)\n",
    "\n",
    "df_Xtr_scaled.head(2)"
   ]
  },
  {
   "cell_type": "markdown",
   "metadata": {},
   "source": [
    "# Modelling"
   ]
  },
  {
   "cell_type": "markdown",
   "metadata": {},
   "source": [
    "## Wrapper Functions"
   ]
  },
  {
   "cell_type": "code",
   "execution_count": 25,
   "metadata": {
    "ExecuteTime": {
     "end_time": "2020-09-12T19:45:27.883252Z",
     "start_time": "2020-09-12T19:45:27.811233Z"
    }
   },
   "outputs": [],
   "source": [
    "class SklearnWrapper(object):\n",
    "    def __init__(self, clf, seed=SEED, params=None):\n",
    "        params['random_state'] = seed\n",
    "        self.clf = clf(**params)\n",
    "\n",
    "    def train(self, Xtrain, ytrain):\n",
    "        self.clf.fit(Xtrain, np.log(ytrain))\n",
    "\n",
    "    def predict(self, x):\n",
    "        return np.exp(self.clf.predict(x))"
   ]
  },
  {
   "cell_type": "code",
   "execution_count": 26,
   "metadata": {
    "ExecuteTime": {
     "end_time": "2020-09-12T19:45:27.932788Z",
     "start_time": "2020-09-12T19:45:27.886955Z"
    }
   },
   "outputs": [],
   "source": [
    "class XgbWrapper(object):\n",
    "    def __init__(self, seed=SEED, params=None):\n",
    "        self.param = params\n",
    "        self.param['seed'] = seed\n",
    "        self.nrounds = params.pop('nrounds', 250)\n",
    "\n",
    "    def train(self, Xtrain, ytrain):\n",
    "        dtrain = xgb.DMatrix(Xtrain, label=np.log(ytrain))\n",
    "        self.gbdt = xgb.train(self.param, dtrain, self.nrounds)\n",
    "\n",
    "    def predict(self, x):\n",
    "        return np.exp(self.gbdt.predict(xgb.DMatrix(x)))"
   ]
  },
  {
   "cell_type": "code",
   "execution_count": 27,
   "metadata": {
    "ExecuteTime": {
     "end_time": "2020-09-12T19:45:27.979164Z",
     "start_time": "2020-09-12T19:45:27.935117Z"
    }
   },
   "outputs": [],
   "source": [
    "def get_oof(clf,Xtr, ytr,\n",
    "            Xtx,ytx,\n",
    "            NFOLDS):\n",
    "    \"\"\"Out of Fold Estimation.\n",
    "    \n",
    "    Parameters:\n",
    "    ------------\n",
    "    clf: Wrapper class having train and predict methods.\n",
    "    Xtr: Numpy array of training data\n",
    "    ytr: Numpy array of training target data\n",
    "    Xtx: Numpy array of test data\n",
    "    ytx: Numpy array of test label data\n",
    "    NFOLDS: Number of fold\n",
    "\n",
    "    \"\"\"\n",
    "    ntrain = Xtr.shape[0]\n",
    "    ntest = Xtx.shape[0]\n",
    "\n",
    "    oof_train = np.zeros((ntrain,))\n",
    "    oof_test = np.zeros((ntest,))\n",
    "\n",
    "    oof_test_kf = np.empty((NFOLDS, ntest))\n",
    "\n",
    "    kf = KFold(n_splits=NFOLDS,\n",
    "                          shuffle=True,\n",
    "                          random_state=SEED)\n",
    "\n",
    "    for i, (idx_tr, idx_tx) in enumerate(kf.split(Xtr,ytr)):\n",
    "        xtr_now = Xtr[idx_tr]\n",
    "        ytr_now = ytr[idx_tr]\n",
    "        xtx_now = Xtr[idx_tx]\n",
    "\n",
    "        clf.train(xtr_now, ytr_now)\n",
    "\n",
    "        oof_train[idx_tx] = clf.predict(xtx_now)\n",
    "        oof_test_kf[i, :] = clf.predict(Xtx)\n",
    "\n",
    "    oof_test[:] = oof_test_kf.mean(axis=0)\n",
    "\n",
    "    return oof_train.reshape(-1, 1), oof_test.reshape(-1, 1)"
   ]
  },
  {
   "cell_type": "markdown",
   "metadata": {},
   "source": [
    "## Modelling: Random Forest"
   ]
  },
  {
   "cell_type": "code",
   "execution_count": 28,
   "metadata": {
    "ExecuteTime": {
     "end_time": "2020-09-12T19:45:28.023132Z",
     "start_time": "2020-09-12T19:45:27.982896Z"
    }
   },
   "outputs": [],
   "source": [
    "rf_params = {\n",
    "    'n_jobs': -1,\n",
    "    'n_estimators': 100,\n",
    "    'max_features': 0.2,\n",
    "    'max_depth': 8,\n",
    "    'min_samples_leaf': 2,\n",
    "}"
   ]
  },
  {
   "cell_type": "code",
   "execution_count": 29,
   "metadata": {
    "ExecuteTime": {
     "end_time": "2020-09-12T19:45:28.064233Z",
     "start_time": "2020-09-12T19:45:28.025377Z"
    }
   },
   "outputs": [],
   "source": [
    "rf = SklearnWrapper(clf=RandomForestRegressor,\n",
    "                    seed=SEED,\n",
    "                    params=rf_params)"
   ]
  },
  {
   "cell_type": "code",
   "execution_count": 30,
   "metadata": {
    "ExecuteTime": {
     "end_time": "2020-09-12T19:47:05.704989Z",
     "start_time": "2020-09-12T19:45:28.066384Z"
    }
   },
   "outputs": [
    {
     "name": "stdout",
     "output_type": "stream",
     "text": [
      "RF-CV: 1292.8756371081363\n",
      "CPU times: user 4min 49s, sys: 2.93 s, total: 4min 52s\n",
      "Wall time: 1min 37s\n"
     ]
    }
   ],
   "source": [
    "%%time\n",
    "\n",
    "NFOLDS = 2\n",
    "\n",
    "rf = SklearnWrapper(clf=RandomForestRegressor,\n",
    "                    seed=SEED,\n",
    "                    params=rf_params)\n",
    "\n",
    "rf_oof_train, rf_oof_test = get_oof(rf,Xtr,ytr,\n",
    "                                    Xtx,ytx,NFOLDS)\n",
    "\n",
    "print(\"RF-CV: {}\".format(mean_absolute_error(ytr, rf_oof_train)))"
   ]
  },
  {
   "cell_type": "markdown",
   "metadata": {},
   "source": [
    "## Modelling: XGBoost"
   ]
  },
  {
   "cell_type": "code",
   "execution_count": 31,
   "metadata": {
    "ExecuteTime": {
     "end_time": "2020-09-12T19:47:05.921933Z",
     "start_time": "2020-09-12T19:47:05.723380Z"
    }
   },
   "outputs": [],
   "source": [
    "xgb_params = {\n",
    "    'seed': 0,\n",
    "    'colsample_bytree': 0.7,\n",
    "    'silent': 1,\n",
    "    'subsample': 0.7,\n",
    "    'learning_rate': 0.075,\n",
    "    'objective': 'reg:squarederror',\n",
    "    'max_depth': 7,\n",
    "    'num_parallel_tree': 1,\n",
    "    'min_child_weight': 1,\n",
    "    'eval_metric': 'mae',\n",
    "    'nrounds': 350\n",
    "}"
   ]
  },
  {
   "cell_type": "code",
   "execution_count": 32,
   "metadata": {
    "ExecuteTime": {
     "end_time": "2020-09-12T19:59:31.413088Z",
     "start_time": "2020-09-12T19:47:05.926340Z"
    }
   },
   "outputs": [
    {
     "name": "stdout",
     "output_type": "stream",
     "text": [
      "[15:47:08] WARNING: /Users/travis/build/dmlc/xgboost/src/learner.cc:480: \n",
      "Parameters: { silent } might not be used.\n",
      "\n",
      "  This may not be accurate due to some parameters are only used in language bindings but\n",
      "  passed down to XGBoost core.  Or some parameters are not used but slip through this\n",
      "  verification. Please open an issue if you find above cases.\n",
      "\n",
      "\n",
      "[15:53:35] WARNING: /Users/travis/build/dmlc/xgboost/src/learner.cc:480: \n",
      "Parameters: { silent } might not be used.\n",
      "\n",
      "  This may not be accurate due to some parameters are only used in language bindings but\n",
      "  passed down to XGBoost core.  Or some parameters are not used but slip through this\n",
      "  verification. Please open an issue if you find above cases.\n",
      "\n",
      "\n",
      "XG-CV: 1156.7888456671442\n",
      "CPU times: user 40min 30s, sys: 9.29 s, total: 40min 39s\n",
      "Wall time: 12min 25s\n"
     ]
    }
   ],
   "source": [
    "%%time\n",
    "\n",
    "xg = XgbWrapper(seed=SEED,\n",
    "                params=xgb_params)\n",
    "\n",
    "xg_oof_train, xg_oof_test = get_oof(xg,Xtr,ytr,\n",
    "                                    Xtx,ytx,NFOLDS)\n",
    "\n",
    "print(\"XG-CV: {}\".format(mean_absolute_error(ytr,xg_oof_train)))"
   ]
  },
  {
   "cell_type": "markdown",
   "metadata": {},
   "source": [
    "## Modelling: Extra Trees Regressor"
   ]
  },
  {
   "cell_type": "code",
   "execution_count": 33,
   "metadata": {
    "ExecuteTime": {
     "end_time": "2020-09-12T19:59:31.537578Z",
     "start_time": "2020-09-12T19:59:31.415831Z"
    }
   },
   "outputs": [],
   "source": [
    "et_params = {\n",
    "    'n_jobs': -1,\n",
    "    'n_estimators': 100,\n",
    "    'max_features': 0.5,\n",
    "    'max_depth': 12,\n",
    "    'min_samples_leaf': 2,\n",
    "}"
   ]
  },
  {
   "cell_type": "code",
   "execution_count": 34,
   "metadata": {
    "ExecuteTime": {
     "end_time": "2020-09-12T20:06:04.491795Z",
     "start_time": "2020-09-12T19:59:31.540588Z"
    }
   },
   "outputs": [
    {
     "name": "stdout",
     "output_type": "stream",
     "text": [
      "ET-CV: 1243.4451960986753\n",
      "CPU times: user 23min 42s, sys: 4.83 s, total: 23min 47s\n",
      "Wall time: 6min 32s\n"
     ]
    }
   ],
   "source": [
    "%%time\n",
    "\n",
    "et = SklearnWrapper(clf=ExtraTreesRegressor,\n",
    "                    seed=SEED,\n",
    "                    params=et_params)\n",
    "\n",
    "et_oof_train, et_oof_test = get_oof(et,Xtr,ytr,\n",
    "                                    Xtx,ytx,NFOLDS)\n",
    "\n",
    "print(\"ET-CV: {}\".format(mean_absolute_error(ytr,et_oof_train)))"
   ]
  },
  {
   "cell_type": "markdown",
   "metadata": {},
   "source": [
    "## Stacking multiple models"
   ]
  },
  {
   "cell_type": "code",
   "execution_count": 35,
   "metadata": {
    "ExecuteTime": {
     "end_time": "2020-09-12T20:06:04.542855Z",
     "start_time": "2020-09-12T20:06:04.494662Z"
    }
   },
   "outputs": [],
   "source": [
    "def xg_eval_mae(yhat, dtrain):\n",
    "    y = dtrain.get_label()\n",
    "    return 'mae', mean_absolute_error(np.exp(y), np.exp(yhat))"
   ]
  },
  {
   "cell_type": "code",
   "execution_count": 36,
   "metadata": {
    "ExecuteTime": {
     "end_time": "2020-09-12T20:07:00.081276Z",
     "start_time": "2020-09-12T20:06:04.546322Z"
    }
   },
   "outputs": [
    {
     "name": "stdout",
     "output_type": "stream",
     "text": [
      "[16:06:06] WARNING: /Users/travis/build/dmlc/xgboost/src/objective/regression_obj.cu:170: reg:linear is now deprecated in favor of reg:squarederror.\n",
      "[16:06:06] WARNING: /Users/travis/build/dmlc/xgboost/src/learner.cc:480: \n",
      "Parameters: { silent } might not be used.\n",
      "\n",
      "  This may not be accurate due to some parameters are only used in language bindings but\n",
      "  passed down to XGBoost core.  Or some parameters are not used but slip through this\n",
      "  verification. Please open an issue if you find above cases.\n",
      "\n",
      "\n",
      "[16:06:06] WARNING: /Users/travis/build/dmlc/xgboost/src/objective/regression_obj.cu:170: reg:linear is now deprecated in favor of reg:squarederror.\n",
      "[16:06:06] WARNING: /Users/travis/build/dmlc/xgboost/src/learner.cc:480: \n",
      "Parameters: { silent } might not be used.\n",
      "\n",
      "  This may not be accurate due to some parameters are only used in language bindings but\n",
      "  passed down to XGBoost core.  Or some parameters are not used but slip through this\n",
      "  verification. Please open an issue if you find above cases.\n",
      "\n",
      "\n",
      "[16:06:06] WARNING: /Users/travis/build/dmlc/xgboost/src/objective/regression_obj.cu:170: reg:linear is now deprecated in favor of reg:squarederror.\n",
      "[16:06:06] WARNING: /Users/travis/build/dmlc/xgboost/src/learner.cc:480: \n",
      "Parameters: { silent } might not be used.\n",
      "\n",
      "  This may not be accurate due to some parameters are only used in language bindings but\n",
      "  passed down to XGBoost core.  Or some parameters are not used but slip through this\n",
      "  verification. Please open an issue if you find above cases.\n",
      "\n",
      "\n",
      "[16:06:06] WARNING: /Users/travis/build/dmlc/xgboost/src/objective/regression_obj.cu:170: reg:linear is now deprecated in favor of reg:squarederror.\n",
      "[16:06:06] WARNING: /Users/travis/build/dmlc/xgboost/src/learner.cc:480: \n",
      "Parameters: { silent } might not be used.\n",
      "\n",
      "  This may not be accurate due to some parameters are only used in language bindings but\n",
      "  passed down to XGBoost core.  Or some parameters are not used but slip through this\n",
      "  verification. Please open an issue if you find above cases.\n",
      "\n",
      "\n",
      "[0]\ttrain-mae:7.11495+0.00033\ttest-mae:7.11496+0.00097\ttrain-mae:3038.10864+3.72175\ttest-mae:3038.10889+11.16521\n",
      "[100]\ttrain-mae:2.60533+0.00016\ttest-mae:2.60531+0.00233\ttrain-mae:2866.33661+3.63675\ttest-mae:2866.33533+10.98473\n",
      "[200]\ttrain-mae:0.97956+0.00017\ttest-mae:0.97977+0.00294\ttrain-mae:2090.00049+2.96031\ttest-mae:2090.27844+9.07707\n",
      "[300]\ttrain-mae:0.51735+0.00032\ttest-mae:0.51824+0.00146\ttrain-mae:1419.05814+2.46445\ttest-mae:1421.09488+6.76657\n",
      "[400]\ttrain-mae:0.43360+0.00034\ttest-mae:0.43490+0.00089\ttrain-mae:1210.01309+2.15879\ttest-mae:1213.99707+6.55987\n",
      "[499]\ttrain-mae:0.42012+0.00030\ttest-mae:0.42166+0.00089\ttrain-mae:1165.00714+2.07737\ttest-mae:1170.05557+6.67821\n",
      "Stacked-CV: 1165.007141+2.077370344968501\n",
      "CPU times: user 3min 15s, sys: 1.55 s, total: 3min 16s\n",
      "Wall time: 55.5 s\n"
     ]
    }
   ],
   "source": [
    "%%time\n",
    "\n",
    "Xtr_stacked = np.c_[xg_oof_train,\n",
    "                    et_oof_train,\n",
    "                    rf_oof_train]\n",
    "Xtx_stacked = np.c_[xg_oof_test,\n",
    "                    et_oof_test,\n",
    "                    rf_oof_test]\n",
    "\n",
    "dtrain = xgb.DMatrix(Xtr_stacked, label=np.log(ytr))\n",
    "dtest = xgb.DMatrix(Xtx)\n",
    "\n",
    "xgb_params = {\n",
    "    'seed': SEED,\n",
    "    'colsample_bytree': 0.8,\n",
    "    'verbose_eval': False,\n",
    "    'subsample': 0.6,\n",
    "    'learning_rate': 0.01,\n",
    "    'objective': 'reg:linear',\n",
    "    'max_depth': 4,\n",
    "    'num_parallel_tree': 1,\n",
    "    'min_child_weight': 1,\n",
    "    'eval_metric': 'mae',\n",
    "}\n",
    "\n",
    "res = xgb.cv(xgb_params,\n",
    "             dtrain,\n",
    "             num_boost_round=500,\n",
    "             nfold=4,\n",
    "             seed=SEED,\n",
    "             stratified=False,\n",
    "             early_stopping_rounds=25,\n",
    "             verbose_eval=100,\n",
    "             show_stdv=True,\n",
    "             feval=xg_eval_mae,\n",
    "             maximize=False)\n",
    "\n",
    "best_nrounds = res.shape[0] - 1\n",
    "cv_mean = res.iloc[-1, 0]\n",
    "cv_std = res.iloc[-1, 1]\n",
    "\n",
    "print('Stacked-CV: {0}+{1}'.format(cv_mean, cv_std))"
   ]
  },
  {
   "cell_type": "markdown",
   "metadata": {},
   "source": [
    "# Time Taken"
   ]
  },
  {
   "cell_type": "code",
   "execution_count": 39,
   "metadata": {
    "ExecuteTime": {
     "end_time": "2020-09-12T20:16:26.676943Z",
     "start_time": "2020-09-12T20:16:26.572855Z"
    }
   },
   "outputs": [
    {
     "name": "stdout",
     "output_type": "stream",
     "text": [
      "Time taken to run whole notebook: 0 hr 31 min 32 secs\n"
     ]
    }
   ],
   "source": [
    "time_taken = time.time() - time_start_notebook\n",
    "h,m = divmod(time_taken,60*60)\n",
    "print('Time taken to run whole notebook: {:.0f} hr '\\\n",
    "      '{:.0f} min {:.0f} secs'.format(h, *divmod(m,60)))"
   ]
  },
  {
   "cell_type": "code",
   "execution_count": null,
   "metadata": {},
   "outputs": [],
   "source": []
  }
 ],
 "metadata": {
  "kernelspec": {
   "display_name": "Python (dataSc)",
   "language": "python",
   "name": "datasc"
  },
  "language_info": {
   "codemirror_mode": {
    "name": "ipython",
    "version": 3
   },
   "file_extension": ".py",
   "mimetype": "text/x-python",
   "name": "python",
   "nbconvert_exporter": "python",
   "pygments_lexer": "ipython3",
   "version": "3.7.7"
  },
  "toc": {
   "base_numbering": 1,
   "nav_menu": {},
   "number_sections": true,
   "sideBar": true,
   "skip_h1_title": false,
   "title_cell": "Table of Contents",
   "title_sidebar": "Contents",
   "toc_cell": true,
   "toc_position": {},
   "toc_section_display": true,
   "toc_window_display": true
  },
  "varInspector": {
   "cols": {
    "lenName": 16,
    "lenType": 16,
    "lenVar": 40
   },
   "kernels_config": {
    "python": {
     "delete_cmd_postfix": "",
     "delete_cmd_prefix": "del ",
     "library": "var_list.py",
     "varRefreshCmd": "print(var_dic_list())"
    },
    "r": {
     "delete_cmd_postfix": ") ",
     "delete_cmd_prefix": "rm(",
     "library": "var_list.r",
     "varRefreshCmd": "cat(var_dic_list()) "
    }
   },
   "types_to_exclude": [
    "module",
    "function",
    "builtin_function_or_method",
    "instance",
    "_Feature"
   ],
   "window_display": false
  }
 },
 "nbformat": 4,
 "nbformat_minor": 2
}
