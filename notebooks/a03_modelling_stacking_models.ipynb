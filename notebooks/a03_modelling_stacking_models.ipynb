{
 "cells": [
  {
   "cell_type": "markdown",
   "metadata": {
    "toc": true
   },
   "source": [
    "<h1>Table of Contents<span class=\"tocSkip\"></span></h1>\n",
    "<div class=\"toc\"><ul class=\"toc-item\"><li><span><a href=\"#Description\" data-toc-modified-id=\"Description-1\"><span class=\"toc-item-num\">1&nbsp;&nbsp;</span>Description</a></span></li><li><span><a href=\"#Imports\" data-toc-modified-id=\"Imports-2\"><span class=\"toc-item-num\">2&nbsp;&nbsp;</span>Imports</a></span></li><li><span><a href=\"#Load-the-data\" data-toc-modified-id=\"Load-the-data-3\"><span class=\"toc-item-num\">3&nbsp;&nbsp;</span>Load the data</a></span></li><li><span><a href=\"#Data-Preparation\" data-toc-modified-id=\"Data-Preparation-4\"><span class=\"toc-item-num\">4&nbsp;&nbsp;</span>Data Preparation</a></span></li><li><span><a href=\"#Train-Validation-Split\" data-toc-modified-id=\"Train-Validation-Split-5\"><span class=\"toc-item-num\">5&nbsp;&nbsp;</span>Train-Validation Split</a></span></li><li><span><a href=\"#Scale-the-data\" data-toc-modified-id=\"Scale-the-data-6\"><span class=\"toc-item-num\">6&nbsp;&nbsp;</span>Scale the data</a></span></li><li><span><a href=\"#Modelling\" data-toc-modified-id=\"Modelling-7\"><span class=\"toc-item-num\">7&nbsp;&nbsp;</span>Modelling</a></span><ul class=\"toc-item\"><li><span><a href=\"#Wrapper-Functions\" data-toc-modified-id=\"Wrapper-Functions-7.1\"><span class=\"toc-item-num\">7.1&nbsp;&nbsp;</span>Wrapper Functions</a></span></li><li><span><a href=\"#Modelling:-Random-Forest\" data-toc-modified-id=\"Modelling:-Random-Forest-7.2\"><span class=\"toc-item-num\">7.2&nbsp;&nbsp;</span>Modelling: Random Forest</a></span></li><li><span><a href=\"#Modelling:-XGBoost\" data-toc-modified-id=\"Modelling:-XGBoost-7.3\"><span class=\"toc-item-num\">7.3&nbsp;&nbsp;</span>Modelling: XGBoost</a></span></li><li><span><a href=\"#Modelling:-Extra-Trees-Regressor\" data-toc-modified-id=\"Modelling:-Extra-Trees-Regressor-7.4\"><span class=\"toc-item-num\">7.4&nbsp;&nbsp;</span>Modelling: Extra Trees Regressor</a></span></li><li><span><a href=\"#Stacking-multiple-models\" data-toc-modified-id=\"Stacking-multiple-models-7.5\"><span class=\"toc-item-num\">7.5&nbsp;&nbsp;</span>Stacking multiple models</a></span></li><li><span><a href=\"#Model-Estimation-on-Test-Set\" data-toc-modified-id=\"Model-Estimation-on-Test-Set-7.6\"><span class=\"toc-item-num\">7.6&nbsp;&nbsp;</span>Model Estimation on Test Set</a></span></li></ul></li><li><span><a href=\"#Time-Taken\" data-toc-modified-id=\"Time-Taken-8\"><span class=\"toc-item-num\">8&nbsp;&nbsp;</span>Time Taken</a></span></li></ul></div>"
   ]
  },
  {
   "cell_type": "markdown",
   "metadata": {},
   "source": [
    "# Description\n",
    "[The Allstate Corporation](https://www.allstate.com/) is an American insurance company that is in the United States. The company also has personal lines insurance operations in Canada. \n",
    "\n",
    "**References**\n",
    "- https://www.kaggle.com/c/allstate-claims-severity/data\n",
    "- https://www.kaggle.com/sharmasanthosh/exploratory-study-on-ml-algorithms\n",
    "- https://www.kaggle.com/mmueller/stacking-starter"
   ]
  },
  {
   "cell_type": "markdown",
   "metadata": {},
   "source": [
    "# Imports"
   ]
  },
  {
   "cell_type": "code",
   "execution_count": 1,
   "metadata": {
    "ExecuteTime": {
     "end_time": "2020-04-04T19:07:02.200223Z",
     "start_time": "2020-04-04T19:07:02.196242Z"
    }
   },
   "outputs": [],
   "source": [
    "import time\n",
    "\n",
    "time_start_notebook = time.time()"
   ]
  },
  {
   "cell_type": "code",
   "execution_count": 2,
   "metadata": {
    "ExecuteTime": {
     "end_time": "2020-04-04T19:07:03.834742Z",
     "start_time": "2020-04-04T19:07:02.204208Z"
    }
   },
   "outputs": [
    {
     "name": "stderr",
     "output_type": "stream",
     "text": [
      "/Users/poudel/miniconda3/envs/dataSc/lib/python3.7/site-packages/statsmodels/tools/_testing.py:19: FutureWarning: pandas.util.testing is deprecated. Use the functions in the public API at pandas.testing instead.\n",
      "  import pandas.util.testing as tm\n"
     ]
    },
    {
     "data": {
      "text/plain": [
       "[('numpy', '1.18.1'), ('pandas', '1.0.1'), ('seaborn', '0.9.0')]"
      ]
     },
     "execution_count": 2,
     "metadata": {},
     "output_type": "execute_result"
    }
   ],
   "source": [
    "import numpy as np\n",
    "import pandas as pd\n",
    "import seaborn as sns\n",
    "\n",
    "from tqdm import tqdm_notebook as tqdm\n",
    "import matplotlib.pyplot as plt\n",
    "\n",
    "%matplotlib inline\n",
    "%config InlineBackend.figure_format = 'retina'\n",
    "plt.style.use('ggplot') \n",
    "\n",
    "# random state\n",
    "SEED=100\n",
    "\n",
    "[(x.__name__,x.__version__) for x in [np,pd,sns]]"
   ]
  },
  {
   "cell_type": "code",
   "execution_count": 3,
   "metadata": {
    "ExecuteTime": {
     "end_time": "2020-04-04T19:07:03.891857Z",
     "start_time": "2020-04-04T19:07:03.877347Z"
    }
   },
   "outputs": [],
   "source": [
    "from scipy.special import boxcox1p"
   ]
  },
  {
   "cell_type": "code",
   "execution_count": 4,
   "metadata": {
    "ExecuteTime": {
     "end_time": "2020-04-04T19:07:03.943150Z",
     "start_time": "2020-04-04T19:07:03.925262Z"
    }
   },
   "outputs": [
    {
     "name": "stdout",
     "output_type": "stream",
     "text": [
      "[('scipy', '1.4.1'), ('sklearn', '0.21.3')]\n"
     ]
    }
   ],
   "source": [
    "import scipy\n",
    "import sklearn\n",
    "\n",
    "print([(x.__name__,x.__version__) for x in [scipy, sklearn]])"
   ]
  },
  {
   "cell_type": "code",
   "execution_count": 5,
   "metadata": {
    "ExecuteTime": {
     "end_time": "2020-04-04T19:07:04.149301Z",
     "start_time": "2020-04-04T19:07:03.949676Z"
    }
   },
   "outputs": [],
   "source": [
    "# scale and split\n",
    "from sklearn.preprocessing import StandardScaler\n",
    "from sklearn.model_selection import train_test_split"
   ]
  },
  {
   "cell_type": "code",
   "execution_count": 6,
   "metadata": {
    "ExecuteTime": {
     "end_time": "2020-04-04T19:07:04.238028Z",
     "start_time": "2020-04-04T19:07:04.157926Z"
    }
   },
   "outputs": [],
   "source": [
    "# regressors\n",
    "from sklearn import linear_model\n",
    "from sklearn.linear_model import LinearRegression\n",
    "from sklearn.linear_model import Lasso\n",
    "from sklearn.linear_model import ElasticNet\n",
    "from sklearn.tree import DecisionTreeRegressor\n",
    "from sklearn.neighbors import KNeighborsRegressor\n",
    "from sklearn.ensemble import RandomForestRegressor\n",
    "from sklearn.ensemble import ExtraTreesRegressor\n",
    "from sklearn.ensemble import GradientBoostingRegressor"
   ]
  },
  {
   "cell_type": "code",
   "execution_count": 7,
   "metadata": {
    "ExecuteTime": {
     "end_time": "2020-04-04T19:07:04.264293Z",
     "start_time": "2020-04-04T19:07:04.244112Z"
    }
   },
   "outputs": [],
   "source": [
    "# pipeline\n",
    "from sklearn.pipeline import Pipeline"
   ]
  },
  {
   "cell_type": "code",
   "execution_count": 8,
   "metadata": {
    "ExecuteTime": {
     "end_time": "2020-04-04T19:07:04.284418Z",
     "start_time": "2020-04-04T19:07:04.275886Z"
    }
   },
   "outputs": [],
   "source": [
    "# metrics\n",
    "from sklearn import metrics\n",
    "from sklearn.metrics import mean_squared_error\n",
    "from sklearn.metrics import mean_absolute_error"
   ]
  },
  {
   "cell_type": "code",
   "execution_count": 9,
   "metadata": {
    "ExecuteTime": {
     "end_time": "2020-04-04T19:07:04.302569Z",
     "start_time": "2020-04-04T19:07:04.293019Z"
    }
   },
   "outputs": [],
   "source": [
    "# cross validation\n",
    "from sklearn.model_selection import KFold, StratifiedKFold\n",
    "from sklearn.model_selection import cross_val_score"
   ]
  },
  {
   "cell_type": "code",
   "execution_count": 10,
   "metadata": {
    "ExecuteTime": {
     "end_time": "2020-04-04T19:07:04.337320Z",
     "start_time": "2020-04-04T19:07:04.311748Z"
    }
   },
   "outputs": [],
   "source": [
    "# classifier\n",
    "import xgboost as xgb"
   ]
  },
  {
   "cell_type": "code",
   "execution_count": 11,
   "metadata": {
    "ExecuteTime": {
     "end_time": "2020-04-04T19:07:04.347926Z",
     "start_time": "2020-04-04T19:07:04.340911Z"
    }
   },
   "outputs": [],
   "source": [
    "# six and pickle\n",
    "import six\n",
    "import pickle\n",
    "import joblib"
   ]
  },
  {
   "cell_type": "code",
   "execution_count": 12,
   "metadata": {
    "ExecuteTime": {
     "end_time": "2020-04-04T19:07:04.455765Z",
     "start_time": "2020-04-04T19:07:04.364845Z"
    }
   },
   "outputs": [],
   "source": [
    "%load_ext autoreload"
   ]
  },
  {
   "cell_type": "code",
   "execution_count": 13,
   "metadata": {
    "ExecuteTime": {
     "end_time": "2020-04-04T19:07:04.469665Z",
     "start_time": "2020-04-04T19:07:04.465357Z"
    }
   },
   "outputs": [],
   "source": [
    "%autoreload 2"
   ]
  },
  {
   "cell_type": "code",
   "execution_count": 14,
   "metadata": {
    "ExecuteTime": {
     "end_time": "2020-04-04T19:07:06.341367Z",
     "start_time": "2020-04-04T19:07:04.478556Z"
    }
   },
   "outputs": [],
   "source": [
    "# my personal library\n",
    "from bhishan import bp"
   ]
  },
  {
   "cell_type": "markdown",
   "metadata": {},
   "source": [
    "# Load the data"
   ]
  },
  {
   "cell_type": "code",
   "execution_count": 15,
   "metadata": {
    "ExecuteTime": {
     "end_time": "2020-04-04T19:07:37.328784Z",
     "start_time": "2020-04-04T19:07:06.379067Z"
    }
   },
   "outputs": [
    {
     "name": "stdout",
     "output_type": "stream",
     "text": [
      "(188318, 816)\n"
     ]
    },
    {
     "data": {
      "text/html": [
       "<div>\n",
       "<style scoped>\n",
       "    .dataframe tbody tr th:only-of-type {\n",
       "        vertical-align: middle;\n",
       "    }\n",
       "\n",
       "    .dataframe tbody tr th {\n",
       "        vertical-align: top;\n",
       "    }\n",
       "\n",
       "    .dataframe thead th {\n",
       "        text-align: right;\n",
       "    }\n",
       "</style>\n",
       "<table border=\"1\" class=\"dataframe\">\n",
       "  <thead>\n",
       "    <tr style=\"text-align: right;\">\n",
       "      <th></th>\n",
       "      <th>id</th>\n",
       "      <th>cat1</th>\n",
       "      <th>cat2</th>\n",
       "      <th>cat3</th>\n",
       "      <th>cat4</th>\n",
       "      <th>cat5</th>\n",
       "      <th>cat6</th>\n",
       "      <th>cat7</th>\n",
       "      <th>cat8</th>\n",
       "      <th>cat9</th>\n",
       "      <th>...</th>\n",
       "      <th>dummy_cat116_KC</th>\n",
       "      <th>dummy_cat116_KW</th>\n",
       "      <th>dummy_cat116_LB</th>\n",
       "      <th>dummy_cat116_LF</th>\n",
       "      <th>dummy_cat116_LM</th>\n",
       "      <th>dummy_cat116_LN</th>\n",
       "      <th>dummy_cat116_LO</th>\n",
       "      <th>dummy_cat116_LY</th>\n",
       "      <th>dummy_cat116_MD</th>\n",
       "      <th>dummy_cat116_Others</th>\n",
       "    </tr>\n",
       "  </thead>\n",
       "  <tbody>\n",
       "    <tr>\n",
       "      <th>0</th>\n",
       "      <td>1</td>\n",
       "      <td>A</td>\n",
       "      <td>B</td>\n",
       "      <td>A</td>\n",
       "      <td>B</td>\n",
       "      <td>A</td>\n",
       "      <td>A</td>\n",
       "      <td>A</td>\n",
       "      <td>A</td>\n",
       "      <td>B</td>\n",
       "      <td>...</td>\n",
       "      <td>0</td>\n",
       "      <td>0</td>\n",
       "      <td>1</td>\n",
       "      <td>0</td>\n",
       "      <td>0</td>\n",
       "      <td>0</td>\n",
       "      <td>0</td>\n",
       "      <td>0</td>\n",
       "      <td>0</td>\n",
       "      <td>0</td>\n",
       "    </tr>\n",
       "    <tr>\n",
       "      <th>1</th>\n",
       "      <td>2</td>\n",
       "      <td>A</td>\n",
       "      <td>B</td>\n",
       "      <td>A</td>\n",
       "      <td>A</td>\n",
       "      <td>A</td>\n",
       "      <td>A</td>\n",
       "      <td>A</td>\n",
       "      <td>A</td>\n",
       "      <td>B</td>\n",
       "      <td>...</td>\n",
       "      <td>0</td>\n",
       "      <td>0</td>\n",
       "      <td>0</td>\n",
       "      <td>0</td>\n",
       "      <td>0</td>\n",
       "      <td>0</td>\n",
       "      <td>0</td>\n",
       "      <td>0</td>\n",
       "      <td>0</td>\n",
       "      <td>0</td>\n",
       "    </tr>\n",
       "  </tbody>\n",
       "</table>\n",
       "<p>2 rows × 816 columns</p>\n",
       "</div>"
      ],
      "text/plain": [
       "   id cat1 cat2 cat3 cat4 cat5 cat6 cat7 cat8 cat9  ... dummy_cat116_KC  \\\n",
       "0   1    A    B    A    B    A    A    A    A    B  ...               0   \n",
       "1   2    A    B    A    A    A    A    A    A    B  ...               0   \n",
       "\n",
       "  dummy_cat116_KW dummy_cat116_LB dummy_cat116_LF dummy_cat116_LM  \\\n",
       "0               0               1               0               0   \n",
       "1               0               0               0               0   \n",
       "\n",
       "  dummy_cat116_LN dummy_cat116_LO dummy_cat116_LY dummy_cat116_MD  \\\n",
       "0               0               0               0               0   \n",
       "1               0               0               0               0   \n",
       "\n",
       "  dummy_cat116_Others  \n",
       "0                   0  \n",
       "1                   0  \n",
       "\n",
       "[2 rows x 816 columns]"
      ]
     },
     "execution_count": 15,
     "metadata": {},
     "output_type": "execute_result"
    }
   ],
   "source": [
    "path_pro = '../data/processed'\n",
    "\n",
    "df_train = pd.read_csv(f'{path_pro}/train_cleaned_encoded.csv',index_col=0)\n",
    "\n",
    "df_test = pd.read_csv(f'{path_pro}/test_cleaned_encoded.csv',index_col=0)\n",
    "\n",
    "print(df_train.shape)\n",
    "df_train.head(2)"
   ]
  },
  {
   "cell_type": "code",
   "execution_count": 16,
   "metadata": {
    "ExecuteTime": {
     "end_time": "2020-04-04T19:07:37.465056Z",
     "start_time": "2020-04-04T19:07:37.341064Z"
    }
   },
   "outputs": [
    {
     "data": {
      "text/plain": [
       "((188318, 816), (125546, 811))"
      ]
     },
     "execution_count": 16,
     "metadata": {},
     "output_type": "execute_result"
    }
   ],
   "source": [
    "df_train.shape, df_test.shape"
   ]
  },
  {
   "cell_type": "code",
   "execution_count": 17,
   "metadata": {
    "ExecuteTime": {
     "end_time": "2020-04-04T19:07:37.541594Z",
     "start_time": "2020-04-04T19:07:37.475711Z"
    }
   },
   "outputs": [
    {
     "name": "stdout",
     "output_type": "stream",
     "text": [
      "['dummy_cat101_N', 'dummy_cat101_U', 'dummy_cat102_H', 'dummy_cat102_J', 'dummy_cat105_R', 'dummy_cat105_S', 'dummy_cat111_D', 'dummy_cat114_X', 'dummy_cat89_I', 'dummy_cat90_G', 'dummy_cat92_F', 'loss', 'loss_log1p']\n"
     ]
    }
   ],
   "source": [
    "features_only_train = df_train.columns.difference(df_test.columns).tolist()\n",
    "\n",
    "print(features_only_train)"
   ]
  },
  {
   "cell_type": "code",
   "execution_count": 18,
   "metadata": {
    "ExecuteTime": {
     "end_time": "2020-04-04T19:07:37.638396Z",
     "start_time": "2020-04-04T19:07:37.577821Z"
    }
   },
   "outputs": [
    {
     "name": "stdout",
     "output_type": "stream",
     "text": [
      "['dummy_cat103_M', 'dummy_cat106_Q', 'dummy_cat111_L', 'dummy_cat89_F', 'dummy_cat92_E', 'dummy_cat92_G', 'dummy_cat96_H', 'dummy_cat99_U']\n"
     ]
    }
   ],
   "source": [
    "features_only_test = df_test.columns.difference(df_train.columns).tolist()\n",
    "\n",
    "print(features_only_test)"
   ]
  },
  {
   "cell_type": "code",
   "execution_count": 19,
   "metadata": {
    "ExecuteTime": {
     "end_time": "2020-04-04T19:07:37.719111Z",
     "start_time": "2020-04-04T19:07:37.645203Z"
    }
   },
   "outputs": [
    {
     "name": "stdout",
     "output_type": "stream",
     "text": [
      "['dummy_cat101_N', 'dummy_cat101_U', 'dummy_cat102_H', 'dummy_cat102_J', 'dummy_cat105_R', 'dummy_cat105_S', 'dummy_cat111_D', 'dummy_cat114_X', 'dummy_cat89_I', 'dummy_cat90_G', 'dummy_cat92_F', 'loss', 'loss_log1p', 'dummy_cat103_M', 'dummy_cat106_Q', 'dummy_cat111_L', 'dummy_cat89_F', 'dummy_cat92_E', 'dummy_cat92_G', 'dummy_cat96_H', 'dummy_cat99_U']\n"
     ]
    }
   ],
   "source": [
    "features_only_one = features_only_train + features_only_test\n",
    "\n",
    "print(features_only_one)"
   ]
  },
  {
   "cell_type": "markdown",
   "metadata": {},
   "source": [
    "# Data Preparation"
   ]
  },
  {
   "cell_type": "code",
   "execution_count": 20,
   "metadata": {
    "ExecuteTime": {
     "end_time": "2020-04-04T19:07:37.794290Z",
     "start_time": "2020-04-04T19:07:37.728133Z"
    }
   },
   "outputs": [],
   "source": [
    "\"\"\"\n",
    "continuous features: xxx_boxcox1p\n",
    "categorical features: dummy_xxx\n",
    "\n",
    "target: loss_log1p\n",
    "\"\"\";"
   ]
  },
  {
   "cell_type": "code",
   "execution_count": 21,
   "metadata": {
    "ExecuteTime": {
     "end_time": "2020-04-04T19:07:37.927389Z",
     "start_time": "2020-04-04T19:07:37.798084Z"
    }
   },
   "outputs": [],
   "source": [
    "features_raw = df_train.columns.tolist()\n",
    "target = 'loss'\n",
    "target_log = 'loss_log1p'\n",
    "\n",
    "# orig\n",
    "features_orig_cont = [i for i in features_raw \n",
    "                    if i.startswith('cont')\n",
    "                    if not i.endswith('_boxcox1p')\n",
    "                     ]\n",
    "                      \n",
    "features_orig_cat = [i for i in features_raw \n",
    "                    if i.startswith('cat') ]                     \n",
    "features_orig = features_orig_cat + features_orig_cont\n",
    "\n",
    "# processed\n",
    "features_cont = [i for i in features_raw if i.endswith('_boxcox1p') ]\n",
    "\n",
    "features_cat = [i for i in features_raw if i.startswith('dummy_') ]\n",
    "\n",
    "features = features_cat + features_cont\n",
    "features = [i for i in features if i not in features_only_one]\n",
    "\n",
    "\n",
    "# print\n",
    " \n",
    "# print(features_orig_cont)\n",
    "# print(features_orig_cat)\n",
    "# print(features_cont)\n",
    "# print(features_cat)"
   ]
  },
  {
   "cell_type": "markdown",
   "metadata": {},
   "source": [
    "# Train-Validation Split"
   ]
  },
  {
   "cell_type": "code",
   "execution_count": 22,
   "metadata": {
    "ExecuteTime": {
     "end_time": "2020-04-04T19:07:40.470137Z",
     "start_time": "2020-04-04T19:07:37.933634Z"
    }
   },
   "outputs": [
    {
     "name": "stdout",
     "output_type": "stream",
     "text": [
      "(150654, 672) (150654,) (150654,)\n"
     ]
    },
    {
     "data": {
      "text/html": [
       "<div>\n",
       "<style scoped>\n",
       "    .dataframe tbody tr th:only-of-type {\n",
       "        vertical-align: middle;\n",
       "    }\n",
       "\n",
       "    .dataframe tbody tr th {\n",
       "        vertical-align: top;\n",
       "    }\n",
       "\n",
       "    .dataframe thead th {\n",
       "        text-align: right;\n",
       "    }\n",
       "</style>\n",
       "<table border=\"1\" class=\"dataframe\">\n",
       "  <thead>\n",
       "    <tr style=\"text-align: right;\">\n",
       "      <th></th>\n",
       "      <th>dummy_cat1_A</th>\n",
       "      <th>dummy_cat1_B</th>\n",
       "      <th>dummy_cat2_A</th>\n",
       "      <th>dummy_cat2_B</th>\n",
       "      <th>dummy_cat3_A</th>\n",
       "      <th>dummy_cat3_B</th>\n",
       "      <th>dummy_cat4_A</th>\n",
       "      <th>dummy_cat4_B</th>\n",
       "      <th>dummy_cat5_A</th>\n",
       "      <th>dummy_cat5_B</th>\n",
       "      <th>...</th>\n",
       "      <th>cont5_boxcox1p</th>\n",
       "      <th>cont6_boxcox1p</th>\n",
       "      <th>cont7_boxcox1p</th>\n",
       "      <th>cont8_boxcox1p</th>\n",
       "      <th>cont9_boxcox1p</th>\n",
       "      <th>cont10_boxcox1p</th>\n",
       "      <th>cont11_boxcox1p</th>\n",
       "      <th>cont12_boxcox1p</th>\n",
       "      <th>cont13_boxcox1p</th>\n",
       "      <th>cont14_boxcox1p</th>\n",
       "    </tr>\n",
       "  </thead>\n",
       "  <tbody>\n",
       "    <tr>\n",
       "      <th>180302</th>\n",
       "      <td>1</td>\n",
       "      <td>0</td>\n",
       "      <td>0</td>\n",
       "      <td>1</td>\n",
       "      <td>0</td>\n",
       "      <td>1</td>\n",
       "      <td>1</td>\n",
       "      <td>0</td>\n",
       "      <td>1</td>\n",
       "      <td>0</td>\n",
       "      <td>...</td>\n",
       "      <td>0.273358</td>\n",
       "      <td>0.170764</td>\n",
       "      <td>0.278357</td>\n",
       "      <td>0.269171</td>\n",
       "      <td>0.288533</td>\n",
       "      <td>0.197228</td>\n",
       "      <td>0.169389</td>\n",
       "      <td>0.167836</td>\n",
       "      <td>0.238885</td>\n",
       "      <td>0.650623</td>\n",
       "    </tr>\n",
       "    <tr>\n",
       "      <th>105000</th>\n",
       "      <td>1</td>\n",
       "      <td>0</td>\n",
       "      <td>0</td>\n",
       "      <td>1</td>\n",
       "      <td>1</td>\n",
       "      <td>0</td>\n",
       "      <td>0</td>\n",
       "      <td>1</td>\n",
       "      <td>1</td>\n",
       "      <td>0</td>\n",
       "      <td>...</td>\n",
       "      <td>0.361725</td>\n",
       "      <td>0.350364</td>\n",
       "      <td>0.320341</td>\n",
       "      <td>0.499342</td>\n",
       "      <td>0.378155</td>\n",
       "      <td>0.393653</td>\n",
       "      <td>0.310744</td>\n",
       "      <td>0.307905</td>\n",
       "      <td>0.327325</td>\n",
       "      <td>0.257707</td>\n",
       "    </tr>\n",
       "  </tbody>\n",
       "</table>\n",
       "<p>2 rows × 672 columns</p>\n",
       "</div>"
      ],
      "text/plain": [
       "        dummy_cat1_A  dummy_cat1_B  dummy_cat2_A  dummy_cat2_B  dummy_cat3_A  \\\n",
       "180302             1             0             0             1             0   \n",
       "105000             1             0             0             1             1   \n",
       "\n",
       "        dummy_cat3_B  dummy_cat4_A  dummy_cat4_B  dummy_cat5_A  dummy_cat5_B  \\\n",
       "180302             1             1             0             1             0   \n",
       "105000             0             0             1             1             0   \n",
       "\n",
       "        ...  cont5_boxcox1p  cont6_boxcox1p  cont7_boxcox1p  cont8_boxcox1p  \\\n",
       "180302  ...        0.273358        0.170764        0.278357        0.269171   \n",
       "105000  ...        0.361725        0.350364        0.320341        0.499342   \n",
       "\n",
       "        cont9_boxcox1p  cont10_boxcox1p  cont11_boxcox1p  cont12_boxcox1p  \\\n",
       "180302        0.288533         0.197228         0.169389         0.167836   \n",
       "105000        0.378155         0.393653         0.310744         0.307905   \n",
       "\n",
       "        cont13_boxcox1p  cont14_boxcox1p  \n",
       "180302         0.238885         0.650623  \n",
       "105000         0.327325         0.257707  \n",
       "\n",
       "[2 rows x 672 columns]"
      ]
     },
     "execution_count": 22,
     "metadata": {},
     "output_type": "execute_result"
    }
   ],
   "source": [
    "df_Xtr, df_Xval, ser_ytr, ser_yval = train_test_split(\n",
    "    df_train[features],df_train[target],\n",
    "    train_size=0.8,random_state=SEED)\n",
    "\n",
    "Xtr = df_Xtr.to_numpy()\n",
    "ytr = ser_ytr.to_numpy().ravel()\n",
    "yval = ser_yval.to_numpy().ravel()\n",
    "\n",
    "print(df_Xtr.shape, ser_ytr.shape,ytr.shape)\n",
    "df_Xtr.head(2)"
   ]
  },
  {
   "cell_type": "code",
   "execution_count": 23,
   "metadata": {
    "ExecuteTime": {
     "end_time": "2020-04-04T19:07:41.508808Z",
     "start_time": "2020-04-04T19:07:40.489174Z"
    }
   },
   "outputs": [
    {
     "name": "stdout",
     "output_type": "stream",
     "text": [
      "(125546, 672)\n"
     ]
    },
    {
     "data": {
      "text/html": [
       "<div>\n",
       "<style scoped>\n",
       "    .dataframe tbody tr th:only-of-type {\n",
       "        vertical-align: middle;\n",
       "    }\n",
       "\n",
       "    .dataframe tbody tr th {\n",
       "        vertical-align: top;\n",
       "    }\n",
       "\n",
       "    .dataframe thead th {\n",
       "        text-align: right;\n",
       "    }\n",
       "</style>\n",
       "<table border=\"1\" class=\"dataframe\">\n",
       "  <thead>\n",
       "    <tr style=\"text-align: right;\">\n",
       "      <th></th>\n",
       "      <th>dummy_cat1_A</th>\n",
       "      <th>dummy_cat1_B</th>\n",
       "      <th>dummy_cat2_A</th>\n",
       "      <th>dummy_cat2_B</th>\n",
       "      <th>dummy_cat3_A</th>\n",
       "      <th>dummy_cat3_B</th>\n",
       "      <th>dummy_cat4_A</th>\n",
       "      <th>dummy_cat4_B</th>\n",
       "      <th>dummy_cat5_A</th>\n",
       "      <th>dummy_cat5_B</th>\n",
       "      <th>...</th>\n",
       "      <th>cont5_boxcox1p</th>\n",
       "      <th>cont6_boxcox1p</th>\n",
       "      <th>cont7_boxcox1p</th>\n",
       "      <th>cont8_boxcox1p</th>\n",
       "      <th>cont9_boxcox1p</th>\n",
       "      <th>cont10_boxcox1p</th>\n",
       "      <th>cont11_boxcox1p</th>\n",
       "      <th>cont12_boxcox1p</th>\n",
       "      <th>cont13_boxcox1p</th>\n",
       "      <th>cont14_boxcox1p</th>\n",
       "    </tr>\n",
       "  </thead>\n",
       "  <tbody>\n",
       "    <tr>\n",
       "      <th>0</th>\n",
       "      <td>1</td>\n",
       "      <td>0</td>\n",
       "      <td>0</td>\n",
       "      <td>1</td>\n",
       "      <td>1</td>\n",
       "      <td>0</td>\n",
       "      <td>1</td>\n",
       "      <td>0</td>\n",
       "      <td>1</td>\n",
       "      <td>0</td>\n",
       "      <td>...</td>\n",
       "      <td>0.255586</td>\n",
       "      <td>0.401870</td>\n",
       "      <td>0.285609</td>\n",
       "      <td>0.507345</td>\n",
       "      <td>0.306570</td>\n",
       "      <td>0.335532</td>\n",
       "      <td>0.333617</td>\n",
       "      <td>0.327418</td>\n",
       "      <td>0.570153</td>\n",
       "      <td>0.345239</td>\n",
       "    </tr>\n",
       "    <tr>\n",
       "      <th>1</th>\n",
       "      <td>1</td>\n",
       "      <td>0</td>\n",
       "      <td>0</td>\n",
       "      <td>1</td>\n",
       "      <td>1</td>\n",
       "      <td>0</td>\n",
       "      <td>0</td>\n",
       "      <td>1</td>\n",
       "      <td>1</td>\n",
       "      <td>0</td>\n",
       "      <td>...</td>\n",
       "      <td>0.656444</td>\n",
       "      <td>0.413704</td>\n",
       "      <td>0.384638</td>\n",
       "      <td>0.576341</td>\n",
       "      <td>0.440606</td>\n",
       "      <td>0.501547</td>\n",
       "      <td>0.560053</td>\n",
       "      <td>0.551063</td>\n",
       "      <td>0.391990</td>\n",
       "      <td>0.193540</td>\n",
       "    </tr>\n",
       "  </tbody>\n",
       "</table>\n",
       "<p>2 rows × 672 columns</p>\n",
       "</div>"
      ],
      "text/plain": [
       "   dummy_cat1_A  dummy_cat1_B  dummy_cat2_A  dummy_cat2_B  dummy_cat3_A  \\\n",
       "0             1             0             0             1             1   \n",
       "1             1             0             0             1             1   \n",
       "\n",
       "   dummy_cat3_B  dummy_cat4_A  dummy_cat4_B  dummy_cat5_A  dummy_cat5_B  ...  \\\n",
       "0             0             1             0             1             0  ...   \n",
       "1             0             0             1             1             0  ...   \n",
       "\n",
       "   cont5_boxcox1p  cont6_boxcox1p  cont7_boxcox1p  cont8_boxcox1p  \\\n",
       "0        0.255586        0.401870        0.285609        0.507345   \n",
       "1        0.656444        0.413704        0.384638        0.576341   \n",
       "\n",
       "   cont9_boxcox1p  cont10_boxcox1p  cont11_boxcox1p  cont12_boxcox1p  \\\n",
       "0        0.306570         0.335532         0.333617         0.327418   \n",
       "1        0.440606         0.501547         0.560053         0.551063   \n",
       "\n",
       "   cont13_boxcox1p  cont14_boxcox1p  \n",
       "0         0.570153         0.345239  \n",
       "1         0.391990         0.193540  \n",
       "\n",
       "[2 rows x 672 columns]"
      ]
     },
     "execution_count": 23,
     "metadata": {},
     "output_type": "execute_result"
    }
   ],
   "source": [
    "df_Xtx = df_test[features]\n",
    "Xtx = df_Xtx.to_numpy()\n",
    "\n",
    "ser_ytx = None\n",
    "ytx = None\n",
    "\n",
    "# in kaggle there is no ytest, we need to submit it.\n",
    "print(df_Xtx.shape)\n",
    "df_Xtx.head(2)"
   ]
  },
  {
   "cell_type": "markdown",
   "metadata": {},
   "source": [
    "# Scale the data"
   ]
  },
  {
   "cell_type": "code",
   "execution_count": 24,
   "metadata": {
    "ExecuteTime": {
     "end_time": "2020-04-04T19:07:47.965396Z",
     "start_time": "2020-04-04T19:07:41.519200Z"
    }
   },
   "outputs": [
    {
     "name": "stdout",
     "output_type": "stream",
     "text": [
      "<class 'numpy.ndarray'>\n"
     ]
    },
    {
     "data": {
      "text/html": [
       "<div>\n",
       "<style scoped>\n",
       "    .dataframe tbody tr th:only-of-type {\n",
       "        vertical-align: middle;\n",
       "    }\n",
       "\n",
       "    .dataframe tbody tr th {\n",
       "        vertical-align: top;\n",
       "    }\n",
       "\n",
       "    .dataframe thead th {\n",
       "        text-align: right;\n",
       "    }\n",
       "</style>\n",
       "<table border=\"1\" class=\"dataframe\">\n",
       "  <thead>\n",
       "    <tr style=\"text-align: right;\">\n",
       "      <th></th>\n",
       "      <th>dummy_cat1_A</th>\n",
       "      <th>dummy_cat1_B</th>\n",
       "      <th>dummy_cat2_A</th>\n",
       "      <th>dummy_cat2_B</th>\n",
       "      <th>dummy_cat3_A</th>\n",
       "      <th>dummy_cat3_B</th>\n",
       "      <th>dummy_cat4_A</th>\n",
       "      <th>dummy_cat4_B</th>\n",
       "      <th>dummy_cat5_A</th>\n",
       "      <th>dummy_cat5_B</th>\n",
       "      <th>...</th>\n",
       "      <th>cont5_boxcox1p</th>\n",
       "      <th>cont6_boxcox1p</th>\n",
       "      <th>cont7_boxcox1p</th>\n",
       "      <th>cont8_boxcox1p</th>\n",
       "      <th>cont9_boxcox1p</th>\n",
       "      <th>cont10_boxcox1p</th>\n",
       "      <th>cont11_boxcox1p</th>\n",
       "      <th>cont12_boxcox1p</th>\n",
       "      <th>cont13_boxcox1p</th>\n",
       "      <th>cont14_boxcox1p</th>\n",
       "    </tr>\n",
       "  </thead>\n",
       "  <tbody>\n",
       "    <tr>\n",
       "      <th>0</th>\n",
       "      <td>0.574198</td>\n",
       "      <td>-0.574198</td>\n",
       "      <td>-1.141867</td>\n",
       "      <td>1.141867</td>\n",
       "      <td>-4.159984</td>\n",
       "      <td>4.159984</td>\n",
       "      <td>0.682029</td>\n",
       "      <td>-0.682029</td>\n",
       "      <td>0.722126</td>\n",
       "      <td>-0.722126</td>\n",
       "      <td>...</td>\n",
       "      <td>-0.902536</td>\n",
       "      <td>-1.611161</td>\n",
       "      <td>-1.020371</td>\n",
       "      <td>-0.971494</td>\n",
       "      <td>-0.936657</td>\n",
       "      <td>-1.631879</td>\n",
       "      <td>-1.584026</td>\n",
       "      <td>-1.595692</td>\n",
       "      <td>-1.124155</td>\n",
       "      <td>1.446586</td>\n",
       "    </tr>\n",
       "    <tr>\n",
       "      <th>1</th>\n",
       "      <td>0.574198</td>\n",
       "      <td>-0.574198</td>\n",
       "      <td>-1.141867</td>\n",
       "      <td>1.141867</td>\n",
       "      <td>0.240386</td>\n",
       "      <td>-0.240386</td>\n",
       "      <td>-1.466213</td>\n",
       "      <td>1.466213</td>\n",
       "      <td>0.722126</td>\n",
       "      <td>-0.722126</td>\n",
       "      <td>...</td>\n",
       "      <td>-0.317716</td>\n",
       "      <td>-0.413701</td>\n",
       "      <td>-0.694650</td>\n",
       "      <td>0.622825</td>\n",
       "      <td>-0.246720</td>\n",
       "      <td>-0.188110</td>\n",
       "      <td>-0.668667</td>\n",
       "      <td>-0.686765</td>\n",
       "      <td>-0.555165</td>\n",
       "      <td>-0.958409</td>\n",
       "    </tr>\n",
       "  </tbody>\n",
       "</table>\n",
       "<p>2 rows × 672 columns</p>\n",
       "</div>"
      ],
      "text/plain": [
       "   dummy_cat1_A  dummy_cat1_B  dummy_cat2_A  dummy_cat2_B  dummy_cat3_A  \\\n",
       "0      0.574198     -0.574198     -1.141867      1.141867     -4.159984   \n",
       "1      0.574198     -0.574198     -1.141867      1.141867      0.240386   \n",
       "\n",
       "   dummy_cat3_B  dummy_cat4_A  dummy_cat4_B  dummy_cat5_A  dummy_cat5_B  ...  \\\n",
       "0      4.159984      0.682029     -0.682029      0.722126     -0.722126  ...   \n",
       "1     -0.240386     -1.466213      1.466213      0.722126     -0.722126  ...   \n",
       "\n",
       "   cont5_boxcox1p  cont6_boxcox1p  cont7_boxcox1p  cont8_boxcox1p  \\\n",
       "0       -0.902536       -1.611161       -1.020371       -0.971494   \n",
       "1       -0.317716       -0.413701       -0.694650        0.622825   \n",
       "\n",
       "   cont9_boxcox1p  cont10_boxcox1p  cont11_boxcox1p  cont12_boxcox1p  \\\n",
       "0       -0.936657        -1.631879        -1.584026        -1.595692   \n",
       "1       -0.246720        -0.188110        -0.668667        -0.686765   \n",
       "\n",
       "   cont13_boxcox1p  cont14_boxcox1p  \n",
       "0        -1.124155         1.446586  \n",
       "1        -0.555165        -0.958409  \n",
       "\n",
       "[2 rows x 672 columns]"
      ]
     },
     "execution_count": 24,
     "metadata": {},
     "output_type": "execute_result"
    }
   ],
   "source": [
    "scaler = StandardScaler()\n",
    "\n",
    "Xtr_scaled = scaler.fit_transform(df_Xtr)\n",
    "Xval_scaled = scaler.fit_transform(df_Xval)\n",
    "\n",
    "print(type(Xtr_scaled))\n",
    "\n",
    "df_Xtr_scaled = pd.DataFrame(Xtr_scaled,columns=df_Xtr.columns)\n",
    "\n",
    "df_Xval_scaled = pd.DataFrame(Xval_scaled,columns=df_Xval.columns)\n",
    "\n",
    "df_Xtr_scaled.head(2)"
   ]
  },
  {
   "cell_type": "markdown",
   "metadata": {},
   "source": [
    "# Modelling"
   ]
  },
  {
   "cell_type": "markdown",
   "metadata": {},
   "source": [
    "## Wrapper Functions"
   ]
  },
  {
   "cell_type": "code",
   "execution_count": 25,
   "metadata": {
    "ExecuteTime": {
     "end_time": "2020-04-04T19:07:48.045889Z",
     "start_time": "2020-04-04T19:07:47.977658Z"
    }
   },
   "outputs": [],
   "source": [
    "class SklearnWrapper(object):\n",
    "    def __init__(self, clf, seed=100, params=None):\n",
    "        params['random_state'] = seed\n",
    "        self.clf = clf(**params)\n",
    "\n",
    "    def train(self, Xtrain, ytrain):\n",
    "        self.clf.fit(Xtrain, np.log(ytrain))\n",
    "\n",
    "    def predict(self, x):\n",
    "        return np.exp(self.clf.predict(x))"
   ]
  },
  {
   "cell_type": "code",
   "execution_count": 26,
   "metadata": {
    "ExecuteTime": {
     "end_time": "2020-04-04T19:07:48.112741Z",
     "start_time": "2020-04-04T19:07:48.048355Z"
    }
   },
   "outputs": [],
   "source": [
    "class XgbWrapper(object):\n",
    "    def __init__(self, seed=100, params=None):\n",
    "        self.param = params\n",
    "        self.param['seed'] = seed\n",
    "        self.nrounds = params.pop('nrounds', 250)\n",
    "\n",
    "    def train(self, Xtrain, ytrain):\n",
    "        dtrain = xgb.DMatrix(Xtrain, label=np.log(ytrain))\n",
    "        self.gbdt = xgb.train(self.param, dtrain, self.nrounds)\n",
    "\n",
    "    def predict(self, x):\n",
    "        return np.exp(self.gbdt.predict(xgb.DMatrix(x)))"
   ]
  },
  {
   "cell_type": "code",
   "execution_count": 27,
   "metadata": {
    "ExecuteTime": {
     "end_time": "2020-04-04T19:07:48.191938Z",
     "start_time": "2020-04-04T19:07:48.115509Z"
    }
   },
   "outputs": [],
   "source": [
    "def get_oof(clf,Xtr, ytr,\n",
    "            Xtx,ytx,\n",
    "            NFOLDS):\n",
    "    \"\"\"Out of Fold Estimation.\n",
    "    \n",
    "    Parameters:\n",
    "    ------------\n",
    "    clf: Wrapper class having train and predict methods.\n",
    "    Xtr: Numpy array of training data\n",
    "    ytr: Numpy array of training target data\n",
    "    Xtx: Numpy array of test data\n",
    "    ytx: Numpy array of test label data\n",
    "    NFOLDS: Number of fold\n",
    "\n",
    "    \"\"\"\n",
    "    ntrain = Xtr.shape[0]\n",
    "    ntest = Xtx.shape[0]\n",
    "\n",
    "    oof_train = np.zeros((ntrain,))\n",
    "    oof_test = np.zeros((ntest,))\n",
    "\n",
    "    oof_test_kf = np.empty((NFOLDS, ntest))\n",
    "\n",
    "    kf = KFold(n_splits=NFOLDS,\n",
    "                          shuffle=True,\n",
    "                          random_state=SEED)\n",
    "\n",
    "    for i, (idx_tr, idx_tx) in enumerate(kf.split(Xtr,ytr)):\n",
    "        xtr_now = Xtr[idx_tr]\n",
    "        ytr_now = ytr[idx_tr]\n",
    "        xtx_now = Xtr[idx_tx]\n",
    "\n",
    "        clf.train(xtr_now, ytr_now)\n",
    "\n",
    "        oof_train[idx_tx] = clf.predict(xtx_now)\n",
    "        oof_test_kf[i, :] = clf.predict(Xtx)\n",
    "\n",
    "    oof_test[:] = oof_test_kf.mean(axis=0)\n",
    "\n",
    "    return oof_train.reshape(-1, 1), oof_test.reshape(-1, 1)"
   ]
  },
  {
   "cell_type": "markdown",
   "metadata": {},
   "source": [
    "## Modelling: Random Forest"
   ]
  },
  {
   "cell_type": "code",
   "execution_count": 28,
   "metadata": {
    "ExecuteTime": {
     "end_time": "2020-04-04T19:07:48.311349Z",
     "start_time": "2020-04-04T19:07:48.216297Z"
    }
   },
   "outputs": [],
   "source": [
    "rf_params = {\n",
    "    'n_jobs': -1,\n",
    "    'n_estimators': 100,\n",
    "    'max_features': 0.2,\n",
    "    'max_depth': 8,\n",
    "    'min_samples_leaf': 2,\n",
    "}"
   ]
  },
  {
   "cell_type": "code",
   "execution_count": 29,
   "metadata": {
    "ExecuteTime": {
     "end_time": "2020-04-04T19:07:48.430260Z",
     "start_time": "2020-04-04T19:07:48.328589Z"
    }
   },
   "outputs": [],
   "source": [
    "rf = SklearnWrapper(clf=RandomForestRegressor,\n",
    "                    seed=SEED,\n",
    "                    params=rf_params)"
   ]
  },
  {
   "cell_type": "code",
   "execution_count": 30,
   "metadata": {
    "ExecuteTime": {
     "end_time": "2020-04-04T19:09:34.100208Z",
     "start_time": "2020-04-04T19:07:48.457312Z"
    }
   },
   "outputs": [
    {
     "name": "stdout",
     "output_type": "stream",
     "text": [
      "RF-CV: 1292.8756371081363\n",
      "CPU times: user 4min, sys: 2.64 s, total: 4min 3s\n",
      "Wall time: 1min 45s\n"
     ]
    }
   ],
   "source": [
    "%%time\n",
    "\n",
    "NFOLDS = 2\n",
    "\n",
    "rf = SklearnWrapper(clf=RandomForestRegressor,\n",
    "                    seed=SEED,\n",
    "                    params=rf_params)\n",
    "\n",
    "rf_oof_train, rf_oof_test = get_oof(rf,Xtr,ytr,\n",
    "                                    Xtx,ytx,NFOLDS)\n",
    "\n",
    "print(\"RF-CV: {}\".format(mean_absolute_error(ytr, rf_oof_train)))"
   ]
  },
  {
   "cell_type": "markdown",
   "metadata": {},
   "source": [
    "## Modelling: XGBoost"
   ]
  },
  {
   "cell_type": "code",
   "execution_count": 31,
   "metadata": {
    "ExecuteTime": {
     "end_time": "2020-04-04T19:09:34.168534Z",
     "start_time": "2020-04-04T19:09:34.106119Z"
    }
   },
   "outputs": [],
   "source": [
    "xgb_params = {\n",
    "    'seed': 0,\n",
    "    'colsample_bytree': 0.7,\n",
    "    'silent': 1,\n",
    "    'subsample': 0.7,\n",
    "    'learning_rate': 0.075,\n",
    "    'objective': 'reg:linear',\n",
    "    'max_depth': 7,\n",
    "    'num_parallel_tree': 1,\n",
    "    'min_child_weight': 1,\n",
    "    'eval_metric': 'mae',\n",
    "    'nrounds': 350\n",
    "}"
   ]
  },
  {
   "cell_type": "code",
   "execution_count": 32,
   "metadata": {
    "ExecuteTime": {
     "end_time": "2020-04-04T19:33:32.189769Z",
     "start_time": "2020-04-04T19:09:34.171578Z"
    }
   },
   "outputs": [
    {
     "name": "stdout",
     "output_type": "stream",
     "text": [
      "XG-CV: 1155.908488809834\n",
      "CPU times: user 22min 51s, sys: 9.62 s, total: 23min 1s\n",
      "Wall time: 23min 57s\n"
     ]
    }
   ],
   "source": [
    "%%time\n",
    "\n",
    "xg = XgbWrapper(seed=SEED,\n",
    "                params=xgb_params)\n",
    "\n",
    "xg_oof_train, xg_oof_test = get_oof(xg,Xtr,ytr,\n",
    "                                    Xtx,ytx,NFOLDS)\n",
    "\n",
    "print(\"XG-CV: {}\".format(mean_absolute_error(ytr,xg_oof_train)))"
   ]
  },
  {
   "cell_type": "markdown",
   "metadata": {},
   "source": [
    "## Modelling: Extra Trees Regressor"
   ]
  },
  {
   "cell_type": "code",
   "execution_count": 33,
   "metadata": {
    "ExecuteTime": {
     "end_time": "2020-04-04T19:33:32.337474Z",
     "start_time": "2020-04-04T19:33:32.196454Z"
    }
   },
   "outputs": [],
   "source": [
    "et_params = {\n",
    "    'n_jobs': -1,\n",
    "    'n_estimators': 100,\n",
    "    'max_features': 0.5,\n",
    "    'max_depth': 12,\n",
    "    'min_samples_leaf': 2,\n",
    "}"
   ]
  },
  {
   "cell_type": "code",
   "execution_count": 34,
   "metadata": {
    "ExecuteTime": {
     "end_time": "2020-04-04T19:42:52.368961Z",
     "start_time": "2020-04-04T19:33:32.343120Z"
    }
   },
   "outputs": [
    {
     "name": "stdout",
     "output_type": "stream",
     "text": [
      "ET-CV: 1243.4451960986753\n",
      "CPU times: user 19min 35s, sys: 10.7 s, total: 19min 46s\n",
      "Wall time: 9min 19s\n"
     ]
    }
   ],
   "source": [
    "%%time\n",
    "\n",
    "et = SklearnWrapper(clf=ExtraTreesRegressor,\n",
    "                    seed=SEED,\n",
    "                    params=et_params)\n",
    "\n",
    "et_oof_train, et_oof_test = get_oof(et,Xtr,ytr,\n",
    "                                    Xtx,ytx,NFOLDS)\n",
    "\n",
    "print(\"ET-CV: {}\".format(mean_absolute_error(ytr,et_oof_train)))"
   ]
  },
  {
   "cell_type": "markdown",
   "metadata": {},
   "source": [
    "## Stacking multiple models"
   ]
  },
  {
   "cell_type": "code",
   "execution_count": 35,
   "metadata": {
    "ExecuteTime": {
     "end_time": "2020-04-04T19:42:52.450499Z",
     "start_time": "2020-04-04T19:42:52.374600Z"
    }
   },
   "outputs": [],
   "source": [
    "def xg_eval_mae(yhat, dtrain):\n",
    "    y = dtrain.get_label()\n",
    "    return 'mae', mean_absolute_error(np.exp(y), np.exp(yhat))"
   ]
  },
  {
   "cell_type": "code",
   "execution_count": 36,
   "metadata": {
    "ExecuteTime": {
     "end_time": "2020-04-04T19:44:16.111986Z",
     "start_time": "2020-04-04T19:42:52.453167Z"
    }
   },
   "outputs": [
    {
     "name": "stdout",
     "output_type": "stream",
     "text": [
      "[0]\ttrain-mae:1522.61+1515.5\ttest-mae:1522.61+1515.52\n",
      "[10]\ttrain-mae:1521.41+1514.97\ttest-mae:1521.41+1514.99\n",
      "[20]\ttrain-mae:1519.59+1513.78\ttest-mae:1519.6+1513.8\n",
      "[30]\ttrain-mae:1516.86+1511.6\ttest-mae:1516.86+1511.62\n",
      "[40]\ttrain-mae:1512.8+1508.04\ttest-mae:1512.8+1508.06\n",
      "[50]\ttrain-mae:1506.96+1502.66\ttest-mae:1506.96+1502.68\n",
      "[60]\ttrain-mae:1498.84+1494.95\ttest-mae:1498.84+1494.97\n",
      "[70]\ttrain-mae:1487.95+1484.43\ttest-mae:1487.95+1484.45\n",
      "[80]\ttrain-mae:1473.83+1470.64\ttest-mae:1473.83+1470.67\n",
      "[90]\ttrain-mae:1456.1+1453.22\ttest-mae:1456.11+1453.25\n",
      "[100]\ttrain-mae:1434.48+1431.88\ttest-mae:1434.49+1431.91\n",
      "[110]\ttrain-mae:1408.86+1406.51\ttest-mae:1408.88+1406.55\n",
      "[120]\ttrain-mae:1379.28+1377.15\ttest-mae:1379.3+1377.19\n",
      "[130]\ttrain-mae:1345.88+1343.95\ttest-mae:1345.91+1344\n",
      "[140]\ttrain-mae:1309+1307.26\ttest-mae:1309.04+1307.32\n",
      "[150]\ttrain-mae:1269.11+1267.53\ttest-mae:1269.16+1267.6\n",
      "[160]\ttrain-mae:1226.66+1225.24\ttest-mae:1226.74+1225.33\n",
      "[170]\ttrain-mae:1182.4+1181.1\ttest-mae:1182.49+1181.21\n",
      "[180]\ttrain-mae:1136.97+1135.8\ttest-mae:1137.08+1135.93\n",
      "[190]\ttrain-mae:1091.14+1090.07\ttest-mae:1091.29+1090.24\n",
      "[200]\ttrain-mae:1045.6+1044.62\ttest-mae:1045.78+1044.83\n",
      "[210]\ttrain-mae:1000.99+1000.1\ttest-mae:1001.23+1000.35\n",
      "[220]\ttrain-mae:957.993+957.17\ttest-mae:958.292+957.486\n",
      "[230]\ttrain-mae:917.234+916.474\ttest-mae:917.596+916.851\n",
      "[240]\ttrain-mae:878.959+878.253\ttest-mae:879.373+878.681\n",
      "[250]\ttrain-mae:843.477+842.817\ttest-mae:843.981+843.336\n",
      "[260]\ttrain-mae:810.927+810.306\ttest-mae:811.519+810.913\n",
      "[270]\ttrain-mae:781.36+780.773\ttest-mae:782.046+781.473\n",
      "[280]\ttrain-mae:754.747+754.188\ttest-mae:755.558+755.013\n",
      "[290]\ttrain-mae:731.084+730.549\ttest-mae:732.007+731.486\n",
      "[300]\ttrain-mae:710.168+709.653\ttest-mae:711.196+710.694\n",
      "[310]\ttrain-mae:691.817+691.32\ttest-mae:692.933+692.447\n",
      "[320]\ttrain-mae:675.695+675.211\ttest-mae:676.925+676.453\n",
      "[330]\ttrain-mae:661.707+661.235\ttest-mae:663.038+662.577\n",
      "[340]\ttrain-mae:649.562+649.1\ttest-mae:650.984+650.532\n",
      "[350]\ttrain-mae:639.074+638.62\ttest-mae:640.593+640.148\n",
      "[360]\ttrain-mae:630.056+629.609\ttest-mae:631.674+631.236\n",
      "[370]\ttrain-mae:622.28+621.838\ttest-mae:623.984+623.551\n",
      "[380]\ttrain-mae:615.611+615.174\ttest-mae:617.394+616.965\n",
      "[390]\ttrain-mae:609.916+609.482\ttest-mae:611.766+611.342\n",
      "[400]\ttrain-mae:605.033+604.602\ttest-mae:606.967+606.547\n",
      "[410]\ttrain-mae:600.837+600.41\ttest-mae:602.838+602.42\n",
      "[420]\ttrain-mae:597.292+596.867\ttest-mae:599.362+598.947\n",
      "[430]\ttrain-mae:594.259+593.835\ttest-mae:596.402+595.989\n",
      "[440]\ttrain-mae:591.671+591.249\ttest-mae:593.878+593.467\n",
      "[450]\ttrain-mae:589.476+589.055\ttest-mae:591.748+591.337\n",
      "[460]\ttrain-mae:587.632+587.212\ttest-mae:589.964+589.555\n",
      "[470]\ttrain-mae:586.027+585.608\ttest-mae:588.421+588.013\n",
      "[480]\ttrain-mae:584.634+584.215\ttest-mae:587.083+586.676\n",
      "[490]\ttrain-mae:583.449+583.031\ttest-mae:585.947+585.541\n",
      "[499]\ttrain-mae:582.531+582.113\ttest-mae:585.066+584.66\n",
      "Stacked-CV: 582.5307191249999+582.1132548840304\n"
     ]
    }
   ],
   "source": [
    "Xtr_stacked = np.c_[xg_oof_train,\n",
    "                    et_oof_train,\n",
    "                    rf_oof_train]\n",
    "Xtx_stacked = np.c_[xg_oof_test,\n",
    "                    et_oof_test,\n",
    "                    rf_oof_test]\n",
    "\n",
    "dtrain = xgb.DMatrix(Xtr_stacked, label=np.log(ytr))\n",
    "dtest = xgb.DMatrix(Xtx)\n",
    "\n",
    "xgb_params = {\n",
    "    'seed': SEED,\n",
    "    'colsample_bytree': 0.8,\n",
    "    'silent': 1,\n",
    "    'subsample': 0.6,\n",
    "    'learning_rate': 0.01,\n",
    "    'objective': 'reg:linear',\n",
    "    'max_depth': 4,\n",
    "    'num_parallel_tree': 1,\n",
    "    'min_child_weight': 1,\n",
    "    'eval_metric': 'mae',\n",
    "}\n",
    "\n",
    "res = xgb.cv(xgb_params,\n",
    "             dtrain,\n",
    "             num_boost_round=500,\n",
    "             nfold=4,\n",
    "             seed=SEED,\n",
    "             stratified=False,\n",
    "             early_stopping_rounds=25,\n",
    "             verbose_eval=10,\n",
    "             show_stdv=True,\n",
    "             feval=xg_eval_mae,\n",
    "             maximize=False)\n",
    "\n",
    "best_nrounds = res.shape[0] - 1\n",
    "cv_mean = res.iloc[-1, 0]\n",
    "cv_std = res.iloc[-1, 1]\n",
    "\n",
    "print('Stacked-CV: {0}+{1}'.format(cv_mean, cv_std))"
   ]
  },
  {
   "cell_type": "markdown",
   "metadata": {},
   "source": [
    "## Model Estimation on Test Set"
   ]
  },
  {
   "cell_type": "code",
   "execution_count": 40,
   "metadata": {
    "ExecuteTime": {
     "end_time": "2020-04-04T20:26:43.801112Z",
     "start_time": "2020-04-04T20:26:27.006615Z"
    }
   },
   "outputs": [
    {
     "ename": "ValueError",
     "evalue": "feature_names mismatch: ['f0', 'f1', 'f2'] ['f0', 'f1', 'f2', 'f3', 'f4', 'f5', 'f6', 'f7', 'f8', 'f9', 'f10', 'f11', 'f12', 'f13', 'f14', 'f15', 'f16', 'f17', 'f18', 'f19', 'f20', 'f21', 'f22', 'f23', 'f24', 'f25', 'f26', 'f27', 'f28', 'f29', 'f30', 'f31', 'f32', 'f33', 'f34', 'f35', 'f36', 'f37', 'f38', 'f39', 'f40', 'f41', 'f42', 'f43', 'f44', 'f45', 'f46', 'f47', 'f48', 'f49', 'f50', 'f51', 'f52', 'f53', 'f54', 'f55', 'f56', 'f57', 'f58', 'f59', 'f60', 'f61', 'f62', 'f63', 'f64', 'f65', 'f66', 'f67', 'f68', 'f69', 'f70', 'f71', 'f72', 'f73', 'f74', 'f75', 'f76', 'f77', 'f78', 'f79', 'f80', 'f81', 'f82', 'f83', 'f84', 'f85', 'f86', 'f87', 'f88', 'f89', 'f90', 'f91', 'f92', 'f93', 'f94', 'f95', 'f96', 'f97', 'f98', 'f99', 'f100', 'f101', 'f102', 'f103', 'f104', 'f105', 'f106', 'f107', 'f108', 'f109', 'f110', 'f111', 'f112', 'f113', 'f114', 'f115', 'f116', 'f117', 'f118', 'f119', 'f120', 'f121', 'f122', 'f123', 'f124', 'f125', 'f126', 'f127', 'f128', 'f129', 'f130', 'f131', 'f132', 'f133', 'f134', 'f135', 'f136', 'f137', 'f138', 'f139', 'f140', 'f141', 'f142', 'f143', 'f144', 'f145', 'f146', 'f147', 'f148', 'f149', 'f150', 'f151', 'f152', 'f153', 'f154', 'f155', 'f156', 'f157', 'f158', 'f159', 'f160', 'f161', 'f162', 'f163', 'f164', 'f165', 'f166', 'f167', 'f168', 'f169', 'f170', 'f171', 'f172', 'f173', 'f174', 'f175', 'f176', 'f177', 'f178', 'f179', 'f180', 'f181', 'f182', 'f183', 'f184', 'f185', 'f186', 'f187', 'f188', 'f189', 'f190', 'f191', 'f192', 'f193', 'f194', 'f195', 'f196', 'f197', 'f198', 'f199', 'f200', 'f201', 'f202', 'f203', 'f204', 'f205', 'f206', 'f207', 'f208', 'f209', 'f210', 'f211', 'f212', 'f213', 'f214', 'f215', 'f216', 'f217', 'f218', 'f219', 'f220', 'f221', 'f222', 'f223', 'f224', 'f225', 'f226', 'f227', 'f228', 'f229', 'f230', 'f231', 'f232', 'f233', 'f234', 'f235', 'f236', 'f237', 'f238', 'f239', 'f240', 'f241', 'f242', 'f243', 'f244', 'f245', 'f246', 'f247', 'f248', 'f249', 'f250', 'f251', 'f252', 'f253', 'f254', 'f255', 'f256', 'f257', 'f258', 'f259', 'f260', 'f261', 'f262', 'f263', 'f264', 'f265', 'f266', 'f267', 'f268', 'f269', 'f270', 'f271', 'f272', 'f273', 'f274', 'f275', 'f276', 'f277', 'f278', 'f279', 'f280', 'f281', 'f282', 'f283', 'f284', 'f285', 'f286', 'f287', 'f288', 'f289', 'f290', 'f291', 'f292', 'f293', 'f294', 'f295', 'f296', 'f297', 'f298', 'f299', 'f300', 'f301', 'f302', 'f303', 'f304', 'f305', 'f306', 'f307', 'f308', 'f309', 'f310', 'f311', 'f312', 'f313', 'f314', 'f315', 'f316', 'f317', 'f318', 'f319', 'f320', 'f321', 'f322', 'f323', 'f324', 'f325', 'f326', 'f327', 'f328', 'f329', 'f330', 'f331', 'f332', 'f333', 'f334', 'f335', 'f336', 'f337', 'f338', 'f339', 'f340', 'f341', 'f342', 'f343', 'f344', 'f345', 'f346', 'f347', 'f348', 'f349', 'f350', 'f351', 'f352', 'f353', 'f354', 'f355', 'f356', 'f357', 'f358', 'f359', 'f360', 'f361', 'f362', 'f363', 'f364', 'f365', 'f366', 'f367', 'f368', 'f369', 'f370', 'f371', 'f372', 'f373', 'f374', 'f375', 'f376', 'f377', 'f378', 'f379', 'f380', 'f381', 'f382', 'f383', 'f384', 'f385', 'f386', 'f387', 'f388', 'f389', 'f390', 'f391', 'f392', 'f393', 'f394', 'f395', 'f396', 'f397', 'f398', 'f399', 'f400', 'f401', 'f402', 'f403', 'f404', 'f405', 'f406', 'f407', 'f408', 'f409', 'f410', 'f411', 'f412', 'f413', 'f414', 'f415', 'f416', 'f417', 'f418', 'f419', 'f420', 'f421', 'f422', 'f423', 'f424', 'f425', 'f426', 'f427', 'f428', 'f429', 'f430', 'f431', 'f432', 'f433', 'f434', 'f435', 'f436', 'f437', 'f438', 'f439', 'f440', 'f441', 'f442', 'f443', 'f444', 'f445', 'f446', 'f447', 'f448', 'f449', 'f450', 'f451', 'f452', 'f453', 'f454', 'f455', 'f456', 'f457', 'f458', 'f459', 'f460', 'f461', 'f462', 'f463', 'f464', 'f465', 'f466', 'f467', 'f468', 'f469', 'f470', 'f471', 'f472', 'f473', 'f474', 'f475', 'f476', 'f477', 'f478', 'f479', 'f480', 'f481', 'f482', 'f483', 'f484', 'f485', 'f486', 'f487', 'f488', 'f489', 'f490', 'f491', 'f492', 'f493', 'f494', 'f495', 'f496', 'f497', 'f498', 'f499', 'f500', 'f501', 'f502', 'f503', 'f504', 'f505', 'f506', 'f507', 'f508', 'f509', 'f510', 'f511', 'f512', 'f513', 'f514', 'f515', 'f516', 'f517', 'f518', 'f519', 'f520', 'f521', 'f522', 'f523', 'f524', 'f525', 'f526', 'f527', 'f528', 'f529', 'f530', 'f531', 'f532', 'f533', 'f534', 'f535', 'f536', 'f537', 'f538', 'f539', 'f540', 'f541', 'f542', 'f543', 'f544', 'f545', 'f546', 'f547', 'f548', 'f549', 'f550', 'f551', 'f552', 'f553', 'f554', 'f555', 'f556', 'f557', 'f558', 'f559', 'f560', 'f561', 'f562', 'f563', 'f564', 'f565', 'f566', 'f567', 'f568', 'f569', 'f570', 'f571', 'f572', 'f573', 'f574', 'f575', 'f576', 'f577', 'f578', 'f579', 'f580', 'f581', 'f582', 'f583', 'f584', 'f585', 'f586', 'f587', 'f588', 'f589', 'f590', 'f591', 'f592', 'f593', 'f594', 'f595', 'f596', 'f597', 'f598', 'f599', 'f600', 'f601', 'f602', 'f603', 'f604', 'f605', 'f606', 'f607', 'f608', 'f609', 'f610', 'f611', 'f612', 'f613', 'f614', 'f615', 'f616', 'f617', 'f618', 'f619', 'f620', 'f621', 'f622', 'f623', 'f624', 'f625', 'f626', 'f627', 'f628', 'f629', 'f630', 'f631', 'f632', 'f633', 'f634', 'f635', 'f636', 'f637', 'f638', 'f639', 'f640', 'f641', 'f642', 'f643', 'f644', 'f645', 'f646', 'f647', 'f648', 'f649', 'f650', 'f651', 'f652', 'f653', 'f654', 'f655', 'f656', 'f657', 'f658', 'f659', 'f660', 'f661', 'f662', 'f663', 'f664', 'f665', 'f666', 'f667', 'f668', 'f669', 'f670', 'f671']\ntraining data did not have the following fields: f611, f198, f493, f593, f417, f522, f138, f579, f670, f607, f510, f467, f272, f170, f520, f430, f450, f128, f492, f75, f5, f639, f514, f526, f521, f651, f538, f655, f424, f570, f34, f16, f186, f581, f361, f32, f466, f491, f461, f344, f261, f273, f589, f279, f355, f207, f281, f587, f559, f389, f396, f321, f653, f489, f318, f45, f475, f562, f26, f12, f599, f7, f51, f145, f598, f604, f632, f221, f66, f253, f262, f337, f478, f155, f667, f551, f77, f330, f505, f338, f335, f634, f275, f293, f429, f391, f660, f247, f113, f167, f494, f568, f555, f434, f550, f206, f452, f24, f21, f554, f663, f433, f233, f479, f561, f455, f404, f548, f90, f286, f10, f208, f38, f397, f60, f312, f409, f531, f584, f588, f603, f241, f418, f610, f519, f432, f512, f517, f449, f523, f80, f569, f171, f462, f6, f571, f254, f25, f215, f425, f468, f304, f59, f564, f227, f266, f502, f190, f91, f118, f393, f218, f469, f72, f364, f230, f130, f315, f143, f665, f71, f583, f67, f238, f97, f175, f537, f129, f392, f377, f620, f73, f567, f203, f147, f436, f252, f375, f532, f288, f614, f193, f360, f296, f640, f108, f654, f276, f367, f274, f427, f637, f211, f419, f664, f399, f69, f636, f104, f295, f19, f224, f50, f326, f202, f473, f464, f623, f572, f94, f246, f343, f435, f236, f366, f546, f58, f650, f341, f83, f249, f438, f486, f560, f381, f402, f332, f445, f448, f483, f585, f30, f13, f540, f592, f280, f243, f311, f474, f187, f127, f183, f264, f410, f342, f199, f135, f298, f319, f353, f415, f661, f258, f539, f616, f134, f439, f99, f463, f112, f244, f374, f322, f359, f513, f518, f220, f411, f204, f384, f503, f440, f619, f524, f357, f351, f4, f500, f368, f638, f70, f363, f490, f188, f245, f644, f3, f313, f76, f115, f329, f495, f602, f205, f287, f635, f214, f379, f626, f84, f596, f300, f105, f140, f42, f54, f35, f422, f271, f174, f442, f43, f18, f595, f44, f317, f228, f507, f63, f173, f53, f195, f625, f46, f388, f629, f20, f400, f178, f482, f553, f671, f185, f285, f292, f515, f372, f169, f460, f580, f488, f428, f268, f446, f283, f574, f122, f278, f365, f40, f302, f403, f441, f212, f582, f109, f110, f191, f487, f307, f552, f119, f648, f86, f324, f219, f172, f575, f226, f346, f345, f117, f146, f378, f234, f444, f401, f456, f111, f624, f31, f216, f61, f305, f163, f471, f284, f412, f168, f36, f240, f416, f457, f235, f267, f78, f383, f621, f630, f356, f56, f57, f476, f576, f642, f33, f645, f136, f669, f472, f496, f331, f534, f470, f87, f387, f93, f516, f549, f107, f11, f282, f557, f498, f573, f189, f497, f156, f85, f350, f443, f52, f320, f647, f376, f529, f373, f506, f270, f150, f615, f333, f477, f499, f159, f257, f100, f179, f530, f68, f451, f386, f49, f92, f39, f65, f336, f123, f201, f209, f421, f541, f299, f197, f132, f176, f213, f47, f101, f414, f558, f618, f269, f652, f125, f334, f184, f405, f542, f308, f622, f641, f106, f628, f291, f316, f325, f658, f323, f154, f597, f349, f525, f15, f633, f423, f102, f649, f177, f643, f37, f181, f164, f533, f594, f131, f98, f23, f556, f242, f137, f426, f74, f431, f29, f394, f511, f210, f237, f407, f116, f229, f277, f256, f398, f265, f82, f656, f27, f395, f194, f501, f340, f148, f380, f255, f290, f223, f141, f627, f309, f22, f590, f114, f250, f200, f294, f408, f225, f347, f142, f382, f631, f547, f259, f162, f314, f180, f126, f289, f536, f157, f303, f121, f151, f166, f9, f465, f566, f606, f81, f96, f251, f528, f563, f306, f133, f297, f371, f600, f362, f152, f153, f657, f659, f543, f454, f222, f437, f385, f453, f232, f328, f447, f535, f217, f459, f161, f239, f508, f358, f352, f545, f577, f8, f565, f149, f64, f62, f354, f612, f601, f370, f160, f192, f668, f480, f527, f89, f14, f509, f88, f165, f231, f348, f591, f504, f578, f120, f544, f662, f390, f55, f158, f196, f182, f608, f139, f617, f613, f339, f586, f48, f458, f301, f646, f369, f79, f41, f263, f420, f406, f103, f666, f124, f481, f605, f260, f609, f17, f327, f95, f248, f485, f484, f28, f310, f413, f144",
     "output_type": "error",
     "traceback": [
      "\u001b[0;31m---------------------------------------------------------------------------\u001b[0m",
      "\u001b[0;31mValueError\u001b[0m                                Traceback (most recent call last)",
      "\u001b[0;32m<ipython-input-40-0b13a686a22c>\u001b[0m in \u001b[0;36m<module>\u001b[0;34m\u001b[0m\n\u001b[1;32m      4\u001b[0m \u001b[0mgbdt\u001b[0m \u001b[0;34m=\u001b[0m \u001b[0mxgb\u001b[0m\u001b[0;34m.\u001b[0m\u001b[0mtrain\u001b[0m\u001b[0;34m(\u001b[0m\u001b[0mxgb_params\u001b[0m\u001b[0;34m,\u001b[0m \u001b[0mdtrain\u001b[0m\u001b[0;34m,\u001b[0m \u001b[0mbest_nrounds\u001b[0m\u001b[0;34m)\u001b[0m\u001b[0;34m\u001b[0m\u001b[0;34m\u001b[0m\u001b[0m\n\u001b[1;32m      5\u001b[0m \u001b[0;34m\u001b[0m\u001b[0m\n\u001b[0;32m----> 6\u001b[0;31m \u001b[0moutput\u001b[0m \u001b[0;34m=\u001b[0m \u001b[0mnp\u001b[0m\u001b[0;34m.\u001b[0m\u001b[0mexp\u001b[0m\u001b[0;34m(\u001b[0m\u001b[0mgbdt\u001b[0m\u001b[0;34m.\u001b[0m\u001b[0mpredict\u001b[0m\u001b[0;34m(\u001b[0m\u001b[0mdtest\u001b[0m\u001b[0;34m)\u001b[0m\u001b[0;34m)\u001b[0m\u001b[0;34m\u001b[0m\u001b[0;34m\u001b[0m\u001b[0m\n\u001b[0m\u001b[1;32m      7\u001b[0m \u001b[0;34m\u001b[0m\u001b[0m\n\u001b[1;32m      8\u001b[0m \u001b[0moutput\u001b[0m\u001b[0;34m[\u001b[0m\u001b[0;34m:\u001b[0m\u001b[0;36m5\u001b[0m\u001b[0;34m]\u001b[0m\u001b[0;34m\u001b[0m\u001b[0;34m\u001b[0m\u001b[0m\n",
      "\u001b[0;32m~/miniconda3/envs/dataSc/lib/python3.7/site-packages/xgboost/core.py\u001b[0m in \u001b[0;36mpredict\u001b[0;34m(self, data, output_margin, ntree_limit, pred_leaf, pred_contribs, approx_contribs, pred_interactions, validate_features)\u001b[0m\n\u001b[1;32m   1192\u001b[0m \u001b[0;34m\u001b[0m\u001b[0m\n\u001b[1;32m   1193\u001b[0m         \u001b[0;32mif\u001b[0m \u001b[0mvalidate_features\u001b[0m\u001b[0;34m:\u001b[0m\u001b[0;34m\u001b[0m\u001b[0;34m\u001b[0m\u001b[0m\n\u001b[0;32m-> 1194\u001b[0;31m             \u001b[0mself\u001b[0m\u001b[0;34m.\u001b[0m\u001b[0m_validate_features\u001b[0m\u001b[0;34m(\u001b[0m\u001b[0mdata\u001b[0m\u001b[0;34m)\u001b[0m\u001b[0;34m\u001b[0m\u001b[0;34m\u001b[0m\u001b[0m\n\u001b[0m\u001b[1;32m   1195\u001b[0m \u001b[0;34m\u001b[0m\u001b[0m\n\u001b[1;32m   1196\u001b[0m         \u001b[0mlength\u001b[0m \u001b[0;34m=\u001b[0m \u001b[0mc_bst_ulong\u001b[0m\u001b[0;34m(\u001b[0m\u001b[0;34m)\u001b[0m\u001b[0;34m\u001b[0m\u001b[0;34m\u001b[0m\u001b[0m\n",
      "\u001b[0;32m~/miniconda3/envs/dataSc/lib/python3.7/site-packages/xgboost/core.py\u001b[0m in \u001b[0;36m_validate_features\u001b[0;34m(self, data)\u001b[0m\n\u001b[1;32m   1475\u001b[0m \u001b[0;34m\u001b[0m\u001b[0m\n\u001b[1;32m   1476\u001b[0m                 raise ValueError(msg.format(self.feature_names,\n\u001b[0;32m-> 1477\u001b[0;31m                                             data.feature_names))\n\u001b[0m\u001b[1;32m   1478\u001b[0m \u001b[0;34m\u001b[0m\u001b[0m\n\u001b[1;32m   1479\u001b[0m     \u001b[0;32mdef\u001b[0m \u001b[0mget_split_value_histogram\u001b[0m\u001b[0;34m(\u001b[0m\u001b[0mself\u001b[0m\u001b[0;34m,\u001b[0m \u001b[0mfeature\u001b[0m\u001b[0;34m,\u001b[0m \u001b[0mfmap\u001b[0m\u001b[0;34m=\u001b[0m\u001b[0;34m''\u001b[0m\u001b[0;34m,\u001b[0m \u001b[0mbins\u001b[0m\u001b[0;34m=\u001b[0m\u001b[0;32mNone\u001b[0m\u001b[0;34m,\u001b[0m \u001b[0mas_pandas\u001b[0m\u001b[0;34m=\u001b[0m\u001b[0;32mTrue\u001b[0m\u001b[0;34m)\u001b[0m\u001b[0;34m:\u001b[0m\u001b[0;34m\u001b[0m\u001b[0;34m\u001b[0m\u001b[0m\n",
      "\u001b[0;31mValueError\u001b[0m: feature_names mismatch: ['f0', 'f1', 'f2'] ['f0', 'f1', 'f2', 'f3', 'f4', 'f5', 'f6', 'f7', 'f8', 'f9', 'f10', 'f11', 'f12', 'f13', 'f14', 'f15', 'f16', 'f17', 'f18', 'f19', 'f20', 'f21', 'f22', 'f23', 'f24', 'f25', 'f26', 'f27', 'f28', 'f29', 'f30', 'f31', 'f32', 'f33', 'f34', 'f35', 'f36', 'f37', 'f38', 'f39', 'f40', 'f41', 'f42', 'f43', 'f44', 'f45', 'f46', 'f47', 'f48', 'f49', 'f50', 'f51', 'f52', 'f53', 'f54', 'f55', 'f56', 'f57', 'f58', 'f59', 'f60', 'f61', 'f62', 'f63', 'f64', 'f65', 'f66', 'f67', 'f68', 'f69', 'f70', 'f71', 'f72', 'f73', 'f74', 'f75', 'f76', 'f77', 'f78', 'f79', 'f80', 'f81', 'f82', 'f83', 'f84', 'f85', 'f86', 'f87', 'f88', 'f89', 'f90', 'f91', 'f92', 'f93', 'f94', 'f95', 'f96', 'f97', 'f98', 'f99', 'f100', 'f101', 'f102', 'f103', 'f104', 'f105', 'f106', 'f107', 'f108', 'f109', 'f110', 'f111', 'f112', 'f113', 'f114', 'f115', 'f116', 'f117', 'f118', 'f119', 'f120', 'f121', 'f122', 'f123', 'f124', 'f125', 'f126', 'f127', 'f128', 'f129', 'f130', 'f131', 'f132', 'f133', 'f134', 'f135', 'f136', 'f137', 'f138', 'f139', 'f140', 'f141', 'f142', 'f143', 'f144', 'f145', 'f146', 'f147', 'f148', 'f149', 'f150', 'f151', 'f152', 'f153', 'f154', 'f155', 'f156', 'f157', 'f158', 'f159', 'f160', 'f161', 'f162', 'f163', 'f164', 'f165', 'f166', 'f167', 'f168', 'f169', 'f170', 'f171', 'f172', 'f173', 'f174', 'f175', 'f176', 'f177', 'f178', 'f179', 'f180', 'f181', 'f182', 'f183', 'f184', 'f185', 'f186', 'f187', 'f188', 'f189', 'f190', 'f191', 'f192', 'f193', 'f194', 'f195', 'f196', 'f197', 'f198', 'f199', 'f200', 'f201', 'f202', 'f203', 'f204', 'f205', 'f206', 'f207', 'f208', 'f209', 'f210', 'f211', 'f212', 'f213', 'f214', 'f215', 'f216', 'f217', 'f218', 'f219', 'f220', 'f221', 'f222', 'f223', 'f224', 'f225', 'f226', 'f227', 'f228', 'f229', 'f230', 'f231', 'f232', 'f233', 'f234', 'f235', 'f236', 'f237', 'f238', 'f239', 'f240', 'f241', 'f242', 'f243', 'f244', 'f245', 'f246', 'f247', 'f248', 'f249', 'f250', 'f251', 'f252', 'f253', 'f254', 'f255', 'f256', 'f257', 'f258', 'f259', 'f260', 'f261', 'f262', 'f263', 'f264', 'f265', 'f266', 'f267', 'f268', 'f269', 'f270', 'f271', 'f272', 'f273', 'f274', 'f275', 'f276', 'f277', 'f278', 'f279', 'f280', 'f281', 'f282', 'f283', 'f284', 'f285', 'f286', 'f287', 'f288', 'f289', 'f290', 'f291', 'f292', 'f293', 'f294', 'f295', 'f296', 'f297', 'f298', 'f299', 'f300', 'f301', 'f302', 'f303', 'f304', 'f305', 'f306', 'f307', 'f308', 'f309', 'f310', 'f311', 'f312', 'f313', 'f314', 'f315', 'f316', 'f317', 'f318', 'f319', 'f320', 'f321', 'f322', 'f323', 'f324', 'f325', 'f326', 'f327', 'f328', 'f329', 'f330', 'f331', 'f332', 'f333', 'f334', 'f335', 'f336', 'f337', 'f338', 'f339', 'f340', 'f341', 'f342', 'f343', 'f344', 'f345', 'f346', 'f347', 'f348', 'f349', 'f350', 'f351', 'f352', 'f353', 'f354', 'f355', 'f356', 'f357', 'f358', 'f359', 'f360', 'f361', 'f362', 'f363', 'f364', 'f365', 'f366', 'f367', 'f368', 'f369', 'f370', 'f371', 'f372', 'f373', 'f374', 'f375', 'f376', 'f377', 'f378', 'f379', 'f380', 'f381', 'f382', 'f383', 'f384', 'f385', 'f386', 'f387', 'f388', 'f389', 'f390', 'f391', 'f392', 'f393', 'f394', 'f395', 'f396', 'f397', 'f398', 'f399', 'f400', 'f401', 'f402', 'f403', 'f404', 'f405', 'f406', 'f407', 'f408', 'f409', 'f410', 'f411', 'f412', 'f413', 'f414', 'f415', 'f416', 'f417', 'f418', 'f419', 'f420', 'f421', 'f422', 'f423', 'f424', 'f425', 'f426', 'f427', 'f428', 'f429', 'f430', 'f431', 'f432', 'f433', 'f434', 'f435', 'f436', 'f437', 'f438', 'f439', 'f440', 'f441', 'f442', 'f443', 'f444', 'f445', 'f446', 'f447', 'f448', 'f449', 'f450', 'f451', 'f452', 'f453', 'f454', 'f455', 'f456', 'f457', 'f458', 'f459', 'f460', 'f461', 'f462', 'f463', 'f464', 'f465', 'f466', 'f467', 'f468', 'f469', 'f470', 'f471', 'f472', 'f473', 'f474', 'f475', 'f476', 'f477', 'f478', 'f479', 'f480', 'f481', 'f482', 'f483', 'f484', 'f485', 'f486', 'f487', 'f488', 'f489', 'f490', 'f491', 'f492', 'f493', 'f494', 'f495', 'f496', 'f497', 'f498', 'f499', 'f500', 'f501', 'f502', 'f503', 'f504', 'f505', 'f506', 'f507', 'f508', 'f509', 'f510', 'f511', 'f512', 'f513', 'f514', 'f515', 'f516', 'f517', 'f518', 'f519', 'f520', 'f521', 'f522', 'f523', 'f524', 'f525', 'f526', 'f527', 'f528', 'f529', 'f530', 'f531', 'f532', 'f533', 'f534', 'f535', 'f536', 'f537', 'f538', 'f539', 'f540', 'f541', 'f542', 'f543', 'f544', 'f545', 'f546', 'f547', 'f548', 'f549', 'f550', 'f551', 'f552', 'f553', 'f554', 'f555', 'f556', 'f557', 'f558', 'f559', 'f560', 'f561', 'f562', 'f563', 'f564', 'f565', 'f566', 'f567', 'f568', 'f569', 'f570', 'f571', 'f572', 'f573', 'f574', 'f575', 'f576', 'f577', 'f578', 'f579', 'f580', 'f581', 'f582', 'f583', 'f584', 'f585', 'f586', 'f587', 'f588', 'f589', 'f590', 'f591', 'f592', 'f593', 'f594', 'f595', 'f596', 'f597', 'f598', 'f599', 'f600', 'f601', 'f602', 'f603', 'f604', 'f605', 'f606', 'f607', 'f608', 'f609', 'f610', 'f611', 'f612', 'f613', 'f614', 'f615', 'f616', 'f617', 'f618', 'f619', 'f620', 'f621', 'f622', 'f623', 'f624', 'f625', 'f626', 'f627', 'f628', 'f629', 'f630', 'f631', 'f632', 'f633', 'f634', 'f635', 'f636', 'f637', 'f638', 'f639', 'f640', 'f641', 'f642', 'f643', 'f644', 'f645', 'f646', 'f647', 'f648', 'f649', 'f650', 'f651', 'f652', 'f653', 'f654', 'f655', 'f656', 'f657', 'f658', 'f659', 'f660', 'f661', 'f662', 'f663', 'f664', 'f665', 'f666', 'f667', 'f668', 'f669', 'f670', 'f671']\ntraining data did not have the following fields: f611, f198, f493, f593, f417, f522, f138, f579, f670, f607, f510, f467, f272, f170, f520, f430, f450, f128, f492, f75, f5, f639, f514, f526, f521, f651, f538, f655, f424, f570, f34, f16, f186, f581, f361, f32, f466, f491, f461, f344, f261, f273, f589, f279, f355, f207, f281, f587, f559, f389, f396, f321, f653, f489, f318, f45, f475, f562, f26, f12, f599, f7, f51, f145, f598, f604, f632, f221, f66, f253, f262, f337, f478, f155, f667, f551, f77, f330, f505, f338, f335, f634, f275, f293, f429, f391, f660, f247, f113, f167, f494, f568, f555, f434, f550, f206, f452, f24, f21, f554, f663, f433, f233, f479, f561, f455, f404, f548, f90, f286, f10, f208, f38, f397, f60, f312, f409, f531, f584, f588, f603, f241, f418, f610, f519, f432, f512, f517, f449, f523, f80, f569, f171, f462, f6, f571, f254, f25, f215, f425, f468, f304, f59, f564, f227, f266, f502, f190, f91, f118, f393, f218, f469, f72, f364, f230, f130, f315, f143, f665, f71, f583, f67, f238, f97, f175, f537, f129, f392, f377, f620, f73, f567, f203, f147, f436, f252, f375, f532, f288, f614, f193, f360, f296, f640, f108, f654, f276, f367, f274, f427, f637, f211, f419, f664, f399, f69, f636, f104, f295, f19, f224, f50, f326, f202, f473, f464, f623, f572, f94, f246, f343, f435, f236, f366, f546, f58, f650, f341, f83, f249, f438, f486, f560, f381, f402, f332, f445, f448, f483, f585, f30, f13, f540, f592, f280, f243, f311, f474, f187, f127, f183, f264, f410, f342, f199, f135, f298, f319, f353, f415, f661, f258, f539, f616, f134, f439, f99, f463, f112, f244, f374, f322, f359, f513, f518, f220, f411, f204, f384, f503, f440, f619, f524, f357, f351, f4, f500, f368, f638, f70, f363, f490, f188, f245, f644, f3, f313, f76, f115, f329, f495, f602, f205, f287, f635, f214, f379, f626, f84, f596, f300, f105, f140, f42, f54, f35, f422, f271, f174, f442, f43, f18, f595, f44, f317, f228, f507, f63, f173, f53, f195, f625, f46, f388, f629, f20, f400, f178, f482, f553, f671, f185, f285, f292, f515, f372, f169, f460, f580, f488, f428, f268, f446, f283, f574, f122, f278, f365, f40, f302, f403, f441, f212, f582, f109, f110, f191, f487, f307, f552, f119, f648, f86, f324, f219, f172, f575, f226, f346, f345, f117, f146, f378, f234, f444, f401, f456, f111, f624, f31, f216, f61, f305, f163, f471, f284, f412, f168, f36, f240, f416, f457, f235, f267, f78, f383, f621, f630, f356, f56, f57, f476, f576, f642, f33, f645, f136, f669, f472, f496, f331, f534, f470, f87, f387, f93, f516, f549, f107, f11, f282, f557, f498, f573, f189, f497, f156, f85, f350, f443, f52, f320, f647, f376, f529, f373, f506, f270, f150, f615, f333, f477, f499, f159, f257, f100, f179, f530, f68, f451, f386, f49, f92, f39, f65, f336, f123, f201, f209, f421, f541, f299, f197, f132, f176, f213, f47, f101, f414, f558, f618, f269, f652, f125, f334, f184, f405, f542, f308, f622, f641, f106, f628, f291, f316, f325, f658, f323, f154, f597, f349, f525, f15, f633, f423, f102, f649, f177, f643, f37, f181, f164, f533, f594, f131, f98, f23, f556, f242, f137, f426, f74, f431, f29, f394, f511, f210, f237, f407, f116, f229, f277, f256, f398, f265, f82, f656, f27, f395, f194, f501, f340, f148, f380, f255, f290, f223, f141, f627, f309, f22, f590, f114, f250, f200, f294, f408, f225, f347, f142, f382, f631, f547, f259, f162, f314, f180, f126, f289, f536, f157, f303, f121, f151, f166, f9, f465, f566, f606, f81, f96, f251, f528, f563, f306, f133, f297, f371, f600, f362, f152, f153, f657, f659, f543, f454, f222, f437, f385, f453, f232, f328, f447, f535, f217, f459, f161, f239, f508, f358, f352, f545, f577, f8, f565, f149, f64, f62, f354, f612, f601, f370, f160, f192, f668, f480, f527, f89, f14, f509, f88, f165, f231, f348, f591, f504, f578, f120, f544, f662, f390, f55, f158, f196, f182, f608, f139, f617, f613, f339, f586, f48, f458, f301, f646, f369, f79, f41, f263, f420, f406, f103, f666, f124, f481, f605, f260, f609, f17, f327, f95, f248, f485, f484, f28, f310, f413, f144"
     ]
    }
   ],
   "source": [
    "# dtrain = xgb.DMatrix(Xtr_stacked, label=np.log(ytr))\n",
    "# dtest = xgb.DMatrix(Xtx)\n",
    "\n",
    "gbdt = xgb.train(xgb_params, dtrain, best_nrounds)\n",
    "\n",
    "output = np.exp(gbdt.predict(dtest))\n",
    "\n",
    "output[:5]"
   ]
  },
  {
   "cell_type": "markdown",
   "metadata": {},
   "source": [
    "# Time Taken"
   ]
  },
  {
   "cell_type": "code",
   "execution_count": null,
   "metadata": {
    "ExecuteTime": {
     "end_time": "2020-04-04T19:44:44.050611Z",
     "start_time": "2020-04-04T19:07:02.273Z"
    }
   },
   "outputs": [],
   "source": [
    "time_taken = time.time() - time_start_notebook\n",
    "h,m = divmod(time_taken,60*60)\n",
    "print('Time taken to run whole notebook: {:.0f} hr '\\\n",
    "      '{:.0f} min {:.0f} secs'.format(h, *divmod(m,60)))"
   ]
  }
 ],
 "metadata": {
  "kernelspec": {
   "display_name": "Python (dataSc)",
   "language": "python",
   "name": "datasc"
  },
  "language_info": {
   "codemirror_mode": {
    "name": "ipython",
    "version": 3
   },
   "file_extension": ".py",
   "mimetype": "text/x-python",
   "name": "python",
   "nbconvert_exporter": "python",
   "pygments_lexer": "ipython3",
   "version": "3.7.3"
  },
  "toc": {
   "base_numbering": 1,
   "nav_menu": {},
   "number_sections": true,
   "sideBar": true,
   "skip_h1_title": false,
   "title_cell": "Table of Contents",
   "title_sidebar": "Contents",
   "toc_cell": true,
   "toc_position": {},
   "toc_section_display": true,
   "toc_window_display": true
  }
 },
 "nbformat": 4,
 "nbformat_minor": 2
}
