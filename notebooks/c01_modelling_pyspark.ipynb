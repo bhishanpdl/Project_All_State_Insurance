{
 "cells": [
  {
   "cell_type": "markdown",
   "metadata": {
    "toc": true
   },
   "source": [
    "<h1>Table of Contents<span class=\"tocSkip\"></span></h1>\n",
    "<div class=\"toc\"><ul class=\"toc-item\"><li><span><a href=\"#Description\" data-toc-modified-id=\"Description-1\"><span class=\"toc-item-num\">1&nbsp;&nbsp;</span>Description</a></span></li><li><span><a href=\"#Imports\" data-toc-modified-id=\"Imports-2\"><span class=\"toc-item-num\">2&nbsp;&nbsp;</span>Imports</a></span></li><li><span><a href=\"#Load-the-data\" data-toc-modified-id=\"Load-the-data-3\"><span class=\"toc-item-num\">3&nbsp;&nbsp;</span>Load the data</a></span></li><li><span><a href=\"#Train-validation-split\" data-toc-modified-id=\"Train-validation-split-4\"><span class=\"toc-item-num\">4&nbsp;&nbsp;</span>Train validation split</a></span></li><li><span><a href=\"#Feature-Engineering\" data-toc-modified-id=\"Feature-Engineering-5\"><span class=\"toc-item-num\">5&nbsp;&nbsp;</span>Feature Engineering</a></span><ul class=\"toc-item\"><li><span><a href=\"#Encoding-Categorical-Features\" data-toc-modified-id=\"Encoding-Categorical-Features-5.1\"><span class=\"toc-item-num\">5.1&nbsp;&nbsp;</span>Encoding Categorical Features</a></span></li></ul></li><li><span><a href=\"#Modelling:-Random-Forest-Regressor\" data-toc-modified-id=\"Modelling:-Random-Forest-Regressor-6\"><span class=\"toc-item-num\">6&nbsp;&nbsp;</span>Modelling: Random Forest Regressor</a></span><ul class=\"toc-item\"><li><span><a href=\"#Random-Forest-Regressor\" data-toc-modified-id=\"Random-Forest-Regressor-6.1\"><span class=\"toc-item-num\">6.1&nbsp;&nbsp;</span>Random Forest Regressor</a></span></li><li><span><a href=\"#Cross-Validation\" data-toc-modified-id=\"Cross-Validation-6.2\"><span class=\"toc-item-num\">6.2&nbsp;&nbsp;</span>Cross-Validation</a></span></li><li><span><a href=\"#Model-Evaluation\" data-toc-modified-id=\"Model-Evaluation-6.3\"><span class=\"toc-item-num\">6.3&nbsp;&nbsp;</span>Model Evaluation</a></span></li><li><span><a href=\"#Feature-Importances\" data-toc-modified-id=\"Feature-Importances-6.4\"><span class=\"toc-item-num\">6.4&nbsp;&nbsp;</span>Feature Importances</a></span></li></ul></li><li><span><a href=\"#Save-the-output\" data-toc-modified-id=\"Save-the-output-7\"><span class=\"toc-item-num\">7&nbsp;&nbsp;</span>Save the output</a></span></li></ul></div>"
   ]
  },
  {
   "cell_type": "markdown",
   "metadata": {},
   "source": [
    "# Description\n",
    "[The Allstate Corporation](https://www.allstate.com/) is an American insurance company that is in the United States. The company also has personal lines insurance operations in Canada. \n",
    "\n",
    "**Data Source**\n",
    "Kaggle: https://www.kaggle.com/c/allstate-claims-severity/data"
   ]
  },
  {
   "cell_type": "markdown",
   "metadata": {},
   "source": [
    "# Imports"
   ]
  },
  {
   "cell_type": "code",
   "execution_count": 1,
   "metadata": {
    "ExecuteTime": {
     "end_time": "2020-04-03T18:27:19.622729Z",
     "start_time": "2020-04-03T18:27:14.975729Z"
    }
   },
   "outputs": [
    {
     "name": "stderr",
     "output_type": "stream",
     "text": [
      "/Users/poudel/miniconda3/envs/dataSc/lib/python3.7/site-packages/statsmodels/tools/_testing.py:19: FutureWarning: pandas.util.testing is deprecated. Use the functions in the public API at pandas.testing instead.\n",
      "  import pandas.util.testing as tm\n"
     ]
    },
    {
     "data": {
      "text/plain": [
       "[('numpy', '1.18.1'), ('pandas', '1.0.1'), ('seaborn', '0.9.0')]"
      ]
     },
     "execution_count": 1,
     "metadata": {},
     "output_type": "execute_result"
    }
   ],
   "source": [
    "import numpy as np\n",
    "import pandas as pd\n",
    "import seaborn as sns\n",
    "pd.plotting.register_matplotlib_converters()\n",
    "\n",
    "from tqdm import tqdm_notebook as tqdm\n",
    "import matplotlib.pyplot as plt\n",
    "\n",
    "%matplotlib inline\n",
    "%config InlineBackend.figure_format = 'retina'\n",
    "plt.style.use('ggplot') \n",
    "\n",
    "# random state\n",
    "SEED=100\n",
    "np.random.seed(SEED)\n",
    "\n",
    "[(x.__name__,x.__version__) for x in [np,pd,sns]]"
   ]
  },
  {
   "cell_type": "code",
   "execution_count": 2,
   "metadata": {
    "ExecuteTime": {
     "end_time": "2020-04-03T18:27:19.773456Z",
     "start_time": "2020-04-03T18:27:19.748620Z"
    }
   },
   "outputs": [],
   "source": [
    "import re\n",
    "from datetime import datetime"
   ]
  },
  {
   "cell_type": "code",
   "execution_count": 3,
   "metadata": {
    "ExecuteTime": {
     "end_time": "2020-04-03T18:27:26.746664Z",
     "start_time": "2020-04-03T18:27:19.779291Z"
    }
   },
   "outputs": [],
   "source": [
    "# pyspark\n",
    "import pyspark\n",
    "spark = pyspark.sql\\\n",
    "          .SparkSession\\\n",
    "          .builder\\\n",
    "          .appName('app')\\\n",
    "          .getOrCreate()\n",
    "\n",
    "# sql\n",
    "from pyspark.sql.functions import col as _col\n",
    "from pyspark.sql.functions import udf\n",
    "\n",
    "# @udf(\"integer\") def myfunc(x,y): return x - y\n",
    "# stddev format_number date_format, dayofyear, when\n",
    "from pyspark.sql import functions as F\n",
    "from pyspark.sql.window import Window\n",
    "from pyspark.sql.functions import (mean as _mean, min as _min,\n",
    "                                   max as _max, avg as _avg,\n",
    "                                   when as _when\n",
    "                                  )\n",
    "\n",
    "from pyspark.sql.types import (StructField,StringType,\n",
    "                               IntegerType, FloatType,\n",
    "                               DoubleType,StructType)\n",
    "\n",
    "from pyspark import SparkConf, SparkContext, SQLContext\n",
    "\n",
    "sc = spark.sparkContext\n",
    "sqlContext = SQLContext(sc) \n",
    "# spark_df = sqlContext.createDataFrame(pandas_df)"
   ]
  },
  {
   "cell_type": "code",
   "execution_count": 4,
   "metadata": {
    "ExecuteTime": {
     "end_time": "2020-04-03T18:27:26.831876Z",
     "start_time": "2020-04-03T18:27:26.771505Z"
    }
   },
   "outputs": [],
   "source": [
    "# pyspark ml feature\n",
    "from pyspark.ml.feature import StringIndexer, VectorIndexer\n",
    "from pyspark.ml.feature import OneHotEncoder,OneHotEncoderEstimator\n",
    "from pyspark.ml.feature import Bucketizer\n",
    "from pyspark.ml.feature import VectorAssembler\n",
    "from pyspark.ml.feature import StandardScaler\n",
    "from pyspark.ml import Pipeline, PipelineModel"
   ]
  },
  {
   "cell_type": "code",
   "execution_count": 5,
   "metadata": {
    "ExecuteTime": {
     "end_time": "2020-04-03T18:27:26.860103Z",
     "start_time": "2020-04-03T18:27:26.848800Z"
    }
   },
   "outputs": [],
   "source": [
    "# regressors\n",
    "from pyspark.ml.regression import LinearRegression\n",
    "from pyspark.ml.regression import DecisionTreeRegressor\n",
    "from pyspark.ml.regression import RandomForestRegressor\n",
    "from pyspark.ml.regression import GBTRegressor"
   ]
  },
  {
   "cell_type": "code",
   "execution_count": 6,
   "metadata": {
    "ExecuteTime": {
     "end_time": "2020-04-03T18:27:26.882806Z",
     "start_time": "2020-04-03T18:27:26.874226Z"
    }
   },
   "outputs": [],
   "source": [
    "# cross validation\n",
    "from pyspark.ml.tuning import ParamGridBuilder\n",
    "from pyspark.ml.tuning import CrossValidator\n",
    "from pyspark.ml.tuning import CrossValidatorModel"
   ]
  },
  {
   "cell_type": "code",
   "execution_count": 7,
   "metadata": {
    "ExecuteTime": {
     "end_time": "2020-04-03T18:27:26.901700Z",
     "start_time": "2020-04-03T18:27:26.891159Z"
    }
   },
   "outputs": [],
   "source": [
    "# model evaluation regression\n",
    "from pyspark.ml.evaluation import RegressionEvaluator\n",
    "from pyspark.mllib.evaluation import RegressionMetrics"
   ]
  },
  {
   "cell_type": "code",
   "execution_count": 8,
   "metadata": {
    "ExecuteTime": {
     "end_time": "2020-04-03T18:27:26.967268Z",
     "start_time": "2020-04-03T18:27:26.906104Z"
    }
   },
   "outputs": [],
   "source": [
    "%load_ext autoreload"
   ]
  },
  {
   "cell_type": "code",
   "execution_count": 9,
   "metadata": {
    "ExecuteTime": {
     "end_time": "2020-04-03T18:27:26.981988Z",
     "start_time": "2020-04-03T18:27:26.975592Z"
    }
   },
   "outputs": [],
   "source": [
    "%autoreload 2"
   ]
  },
  {
   "cell_type": "code",
   "execution_count": 10,
   "metadata": {
    "ExecuteTime": {
     "end_time": "2020-04-03T18:27:29.416589Z",
     "start_time": "2020-04-03T18:27:26.986772Z"
    }
   },
   "outputs": [],
   "source": [
    "# my personal module\n",
    "from bhishan import bp"
   ]
  },
  {
   "cell_type": "markdown",
   "metadata": {},
   "source": [
    "# Load the data"
   ]
  },
  {
   "cell_type": "code",
   "execution_count": 11,
   "metadata": {
    "ExecuteTime": {
     "end_time": "2020-04-03T18:27:29.696082Z",
     "start_time": "2020-04-03T18:27:29.439251Z"
    }
   },
   "outputs": [
    {
     "name": "stdout",
     "output_type": "stream",
     "text": [
      "\u001b[33moutputs\u001b[m\u001b[m   \u001b[33mprocessed\u001b[m\u001b[m \u001b[33mraw\u001b[m\u001b[m\r\n"
     ]
    }
   ],
   "source": [
    "!ls ../data"
   ]
  },
  {
   "cell_type": "code",
   "execution_count": 12,
   "metadata": {
    "ExecuteTime": {
     "end_time": "2020-04-03T18:27:29.904448Z",
     "start_time": "2020-04-03T18:27:29.700963Z"
    }
   },
   "outputs": [
    {
     "name": "stdout",
     "output_type": "stream",
     "text": [
      "id,cat1,cat2,cat3,cat4,cat5,cat6,cat7,cat8,cat9,cat10,cat11,cat12,cat13,cat14,cat15,cat16,cat17,cat18,cat19,cat20,cat21,cat22,cat23,cat24,cat25,cat26,cat27,cat28,cat29,cat30,cat31,cat32,cat33,cat34,cat35,cat36,cat37,cat38,cat39,cat40,cat41,cat42,cat43,cat44,cat45,cat46,cat47,cat48,cat49,cat50,cat51,cat52,cat53,cat54,cat55,cat56,cat57,cat58,cat59,cat60,cat61,cat62,cat63,cat64,cat65,cat66,cat67,cat68,cat69,cat70,cat71,cat72,cat73,cat74,cat75,cat76,cat77,cat78,cat79,cat80,cat81,cat82,cat83,cat84,cat85,cat86,cat87,cat88,cat89,cat90,cat91,cat92,cat93,cat94,cat95,cat96,cat97,cat98,cat99,cat100,cat101,cat102,cat103,cat104,cat105,cat106,cat107,cat108,cat109,cat110,cat111,cat112,cat113,cat114,cat115,cat116,cont1,cont2,cont3,cont4,cont5,cont6,cont7,cont8,cont9,cont10,cont11,cont12,cont13,cont14,loss\r\n",
      "1,A,B,A,B,A,A,A,A,B,A,B,A,A,A,A,A,A,A,A,A,A,A,B,A,A,A,A,A,A,A,A,A,A,A,A,A,A,A,A,A,A,A,A,A,A,A,A,A,A,A,A,A,A,A,A,A,A,A,A,A,A,A,A,A,A,A,A,A,A,A,A,A,A,A,B,A,D,B,B,D,D,B,D,C,B,D,B,A,A,A,A,A,D,B,C,E,A,C,T,B,G,A,A,I,E,G,J,G,BU,BC,C,AS,S,A,O,LB,0.7263,0.245921,0.187583,0.789639,0.310061,0.718367,0.33506,0.3026,0.67135,0.8351,0.569745,0.594646,0.822493,0.714843,2213.18\r\n"
     ]
    }
   ],
   "source": [
    "!head -2 ../data/raw/train.csv"
   ]
  },
  {
   "cell_type": "code",
   "execution_count": 13,
   "metadata": {
    "ExecuteTime": {
     "end_time": "2020-04-03T18:27:53.764959Z",
     "start_time": "2020-04-03T18:27:29.910163Z"
    }
   },
   "outputs": [
    {
     "name": "stdout",
     "output_type": "stream",
     "text": [
      "nrows = 188,318\n",
      "          ncols =  132\n"
     ]
    },
    {
     "data": {
      "text/html": [
       "<div>\n",
       "<style scoped>\n",
       "    .dataframe tbody tr th:only-of-type {\n",
       "        vertical-align: middle;\n",
       "    }\n",
       "\n",
       "    .dataframe tbody tr th {\n",
       "        vertical-align: top;\n",
       "    }\n",
       "\n",
       "    .dataframe thead th {\n",
       "        text-align: right;\n",
       "    }\n",
       "</style>\n",
       "<table border=\"1\" class=\"dataframe\">\n",
       "  <thead>\n",
       "    <tr style=\"text-align: right;\">\n",
       "      <th></th>\n",
       "      <th>id</th>\n",
       "      <th>cat1</th>\n",
       "      <th>cat2</th>\n",
       "      <th>cat3</th>\n",
       "      <th>cat4</th>\n",
       "      <th>cat5</th>\n",
       "      <th>cat6</th>\n",
       "      <th>cat7</th>\n",
       "      <th>cat8</th>\n",
       "      <th>cat9</th>\n",
       "      <th>...</th>\n",
       "      <th>cont6</th>\n",
       "      <th>cont7</th>\n",
       "      <th>cont8</th>\n",
       "      <th>cont9</th>\n",
       "      <th>cont10</th>\n",
       "      <th>cont11</th>\n",
       "      <th>cont12</th>\n",
       "      <th>cont13</th>\n",
       "      <th>cont14</th>\n",
       "      <th>loss</th>\n",
       "    </tr>\n",
       "  </thead>\n",
       "  <tbody>\n",
       "    <tr>\n",
       "      <th>0</th>\n",
       "      <td>1</td>\n",
       "      <td>A</td>\n",
       "      <td>B</td>\n",
       "      <td>A</td>\n",
       "      <td>B</td>\n",
       "      <td>A</td>\n",
       "      <td>A</td>\n",
       "      <td>A</td>\n",
       "      <td>A</td>\n",
       "      <td>B</td>\n",
       "      <td>...</td>\n",
       "      <td>0.718367</td>\n",
       "      <td>0.335060</td>\n",
       "      <td>0.30260</td>\n",
       "      <td>0.67135</td>\n",
       "      <td>0.83510</td>\n",
       "      <td>0.569745</td>\n",
       "      <td>0.594646</td>\n",
       "      <td>0.822493</td>\n",
       "      <td>0.714843</td>\n",
       "      <td>2213.18</td>\n",
       "    </tr>\n",
       "    <tr>\n",
       "      <th>1</th>\n",
       "      <td>2</td>\n",
       "      <td>A</td>\n",
       "      <td>B</td>\n",
       "      <td>A</td>\n",
       "      <td>A</td>\n",
       "      <td>A</td>\n",
       "      <td>A</td>\n",
       "      <td>A</td>\n",
       "      <td>A</td>\n",
       "      <td>B</td>\n",
       "      <td>...</td>\n",
       "      <td>0.438917</td>\n",
       "      <td>0.436585</td>\n",
       "      <td>0.60087</td>\n",
       "      <td>0.35127</td>\n",
       "      <td>0.43919</td>\n",
       "      <td>0.338312</td>\n",
       "      <td>0.366307</td>\n",
       "      <td>0.611431</td>\n",
       "      <td>0.304496</td>\n",
       "      <td>1283.60</td>\n",
       "    </tr>\n",
       "    <tr>\n",
       "      <th>2</th>\n",
       "      <td>5</td>\n",
       "      <td>A</td>\n",
       "      <td>B</td>\n",
       "      <td>A</td>\n",
       "      <td>A</td>\n",
       "      <td>B</td>\n",
       "      <td>A</td>\n",
       "      <td>A</td>\n",
       "      <td>A</td>\n",
       "      <td>B</td>\n",
       "      <td>...</td>\n",
       "      <td>0.289648</td>\n",
       "      <td>0.315545</td>\n",
       "      <td>0.27320</td>\n",
       "      <td>0.26076</td>\n",
       "      <td>0.32446</td>\n",
       "      <td>0.381398</td>\n",
       "      <td>0.373424</td>\n",
       "      <td>0.195709</td>\n",
       "      <td>0.774425</td>\n",
       "      <td>3005.09</td>\n",
       "    </tr>\n",
       "    <tr>\n",
       "      <th>3</th>\n",
       "      <td>10</td>\n",
       "      <td>B</td>\n",
       "      <td>B</td>\n",
       "      <td>A</td>\n",
       "      <td>B</td>\n",
       "      <td>A</td>\n",
       "      <td>A</td>\n",
       "      <td>A</td>\n",
       "      <td>A</td>\n",
       "      <td>B</td>\n",
       "      <td>...</td>\n",
       "      <td>0.440945</td>\n",
       "      <td>0.391128</td>\n",
       "      <td>0.31796</td>\n",
       "      <td>0.32128</td>\n",
       "      <td>0.44467</td>\n",
       "      <td>0.327915</td>\n",
       "      <td>0.321570</td>\n",
       "      <td>0.605077</td>\n",
       "      <td>0.602642</td>\n",
       "      <td>939.85</td>\n",
       "    </tr>\n",
       "    <tr>\n",
       "      <th>4</th>\n",
       "      <td>11</td>\n",
       "      <td>A</td>\n",
       "      <td>B</td>\n",
       "      <td>A</td>\n",
       "      <td>B</td>\n",
       "      <td>A</td>\n",
       "      <td>A</td>\n",
       "      <td>A</td>\n",
       "      <td>A</td>\n",
       "      <td>B</td>\n",
       "      <td>...</td>\n",
       "      <td>0.178193</td>\n",
       "      <td>0.247408</td>\n",
       "      <td>0.24564</td>\n",
       "      <td>0.22089</td>\n",
       "      <td>0.21230</td>\n",
       "      <td>0.204687</td>\n",
       "      <td>0.202213</td>\n",
       "      <td>0.246011</td>\n",
       "      <td>0.432606</td>\n",
       "      <td>2763.85</td>\n",
       "    </tr>\n",
       "  </tbody>\n",
       "</table>\n",
       "<p>5 rows × 132 columns</p>\n",
       "</div>"
      ],
      "text/plain": [
       "   id cat1 cat2 cat3 cat4 cat5 cat6 cat7 cat8 cat9  ...     cont6     cont7  \\\n",
       "0   1    A    B    A    B    A    A    A    A    B  ...  0.718367  0.335060   \n",
       "1   2    A    B    A    A    A    A    A    A    B  ...  0.438917  0.436585   \n",
       "2   5    A    B    A    A    B    A    A    A    B  ...  0.289648  0.315545   \n",
       "3  10    B    B    A    B    A    A    A    A    B  ...  0.440945  0.391128   \n",
       "4  11    A    B    A    B    A    A    A    A    B  ...  0.178193  0.247408   \n",
       "\n",
       "     cont8    cont9   cont10    cont11    cont12    cont13    cont14     loss  \n",
       "0  0.30260  0.67135  0.83510  0.569745  0.594646  0.822493  0.714843  2213.18  \n",
       "1  0.60087  0.35127  0.43919  0.338312  0.366307  0.611431  0.304496  1283.60  \n",
       "2  0.27320  0.26076  0.32446  0.381398  0.373424  0.195709  0.774425  3005.09  \n",
       "3  0.31796  0.32128  0.44467  0.327915  0.321570  0.605077  0.602642   939.85  \n",
       "4  0.24564  0.22089  0.21230  0.204687  0.202213  0.246011  0.432606  2763.85  \n",
       "\n",
       "[5 rows x 132 columns]"
      ]
     },
     "execution_count": 13,
     "metadata": {},
     "output_type": "execute_result"
    }
   ],
   "source": [
    "df_train_raw = spark.read.csv('../data/raw/train.csv',\n",
    "                          header=True,\n",
    "                          inferSchema=True).cache()\n",
    "\n",
    "print(f\"\"\"nrows = {df_train_raw.count():,d}\n",
    "          ncols =  {len(df_train_raw.columns):,d}\"\"\" )\n",
    "\n",
    "df_train_raw.limit(5).toPandas()"
   ]
  },
  {
   "cell_type": "code",
   "execution_count": 14,
   "metadata": {
    "ExecuteTime": {
     "end_time": "2020-04-03T18:27:53.867053Z",
     "start_time": "2020-04-03T18:27:53.790480Z"
    }
   },
   "outputs": [],
   "source": [
    "# df_train_raw.printSchema()"
   ]
  },
  {
   "cell_type": "code",
   "execution_count": 15,
   "metadata": {
    "ExecuteTime": {
     "end_time": "2020-04-03T18:27:54.039886Z",
     "start_time": "2020-04-03T18:27:53.875915Z"
    }
   },
   "outputs": [
    {
     "name": "stdout",
     "output_type": "stream",
     "text": [
      "['id', 'cat1', 'cat2', 'cat3', 'cat4', 'cat5', 'cat6', 'cat7', 'cat8', 'cat9', 'cat10', 'cat11', 'cat12', 'cat13', 'cat14', 'cat15', 'cat16', 'cat17', 'cat18', 'cat19', 'cat20', 'cat21', 'cat22', 'cat23', 'cat24', 'cat25', 'cat26', 'cat27', 'cat28', 'cat29', 'cat30', 'cat31', 'cat32', 'cat33', 'cat34', 'cat35', 'cat36', 'cat37', 'cat38', 'cat39', 'cat40', 'cat41', 'cat42', 'cat43', 'cat44', 'cat45', 'cat46', 'cat47', 'cat48', 'cat49', 'cat50', 'cat51', 'cat52', 'cat53', 'cat54', 'cat55', 'cat56', 'cat57', 'cat58', 'cat59', 'cat60', 'cat61', 'cat62', 'cat63', 'cat64', 'cat65', 'cat66', 'cat67', 'cat68', 'cat69', 'cat70', 'cat71', 'cat72', 'cat73', 'cat74', 'cat75', 'cat76', 'cat77', 'cat78', 'cat79', 'cat80', 'cat81', 'cat82', 'cat83', 'cat84', 'cat85', 'cat86', 'cat87', 'cat88', 'cat89', 'cat90', 'cat91', 'cat92', 'cat93', 'cat94', 'cat95', 'cat96', 'cat97', 'cat98', 'cat99', 'cat100', 'cat101', 'cat102', 'cat103', 'cat104', 'cat105', 'cat106', 'cat107', 'cat108', 'cat109', 'cat110', 'cat111', 'cat112', 'cat113', 'cat114', 'cat115', 'cat116', 'cont1', 'cont2', 'cont3', 'cont4', 'cont5', 'cont6', 'cont7', 'cont8', 'cont9', 'cont10', 'cont11', 'cont12', 'cont13', 'cont14', 'loss']\n"
     ]
    }
   ],
   "source": [
    "print(df_train_raw.columns)"
   ]
  },
  {
   "cell_type": "code",
   "execution_count": 16,
   "metadata": {
    "ExecuteTime": {
     "end_time": "2020-04-03T18:28:03.972317Z",
     "start_time": "2020-04-03T18:27:54.053041Z"
    }
   },
   "outputs": [
    {
     "name": "stdout",
     "output_type": "stream",
     "text": [
      "nrows = 125,546\n",
      "          ncols =  131\n"
     ]
    },
    {
     "data": {
      "text/html": [
       "<div>\n",
       "<style scoped>\n",
       "    .dataframe tbody tr th:only-of-type {\n",
       "        vertical-align: middle;\n",
       "    }\n",
       "\n",
       "    .dataframe tbody tr th {\n",
       "        vertical-align: top;\n",
       "    }\n",
       "\n",
       "    .dataframe thead th {\n",
       "        text-align: right;\n",
       "    }\n",
       "</style>\n",
       "<table border=\"1\" class=\"dataframe\">\n",
       "  <thead>\n",
       "    <tr style=\"text-align: right;\">\n",
       "      <th></th>\n",
       "      <th>id</th>\n",
       "      <th>cat1</th>\n",
       "      <th>cat2</th>\n",
       "      <th>cat3</th>\n",
       "      <th>cat4</th>\n",
       "      <th>cat5</th>\n",
       "      <th>cat6</th>\n",
       "      <th>cat7</th>\n",
       "      <th>cat8</th>\n",
       "      <th>cat9</th>\n",
       "      <th>...</th>\n",
       "      <th>cont5</th>\n",
       "      <th>cont6</th>\n",
       "      <th>cont7</th>\n",
       "      <th>cont8</th>\n",
       "      <th>cont9</th>\n",
       "      <th>cont10</th>\n",
       "      <th>cont11</th>\n",
       "      <th>cont12</th>\n",
       "      <th>cont13</th>\n",
       "      <th>cont14</th>\n",
       "    </tr>\n",
       "  </thead>\n",
       "  <tbody>\n",
       "    <tr>\n",
       "      <th>0</th>\n",
       "      <td>4</td>\n",
       "      <td>A</td>\n",
       "      <td>B</td>\n",
       "      <td>A</td>\n",
       "      <td>A</td>\n",
       "      <td>A</td>\n",
       "      <td>A</td>\n",
       "      <td>A</td>\n",
       "      <td>A</td>\n",
       "      <td>B</td>\n",
       "      <td>...</td>\n",
       "      <td>0.281143</td>\n",
       "      <td>0.466591</td>\n",
       "      <td>0.317681</td>\n",
       "      <td>0.61229</td>\n",
       "      <td>0.34365</td>\n",
       "      <td>0.38016</td>\n",
       "      <td>0.377724</td>\n",
       "      <td>0.369858</td>\n",
       "      <td>0.704052</td>\n",
       "      <td>0.392562</td>\n",
       "    </tr>\n",
       "    <tr>\n",
       "      <th>1</th>\n",
       "      <td>6</td>\n",
       "      <td>A</td>\n",
       "      <td>B</td>\n",
       "      <td>A</td>\n",
       "      <td>B</td>\n",
       "      <td>A</td>\n",
       "      <td>A</td>\n",
       "      <td>A</td>\n",
       "      <td>A</td>\n",
       "      <td>B</td>\n",
       "      <td>...</td>\n",
       "      <td>0.836443</td>\n",
       "      <td>0.482425</td>\n",
       "      <td>0.443760</td>\n",
       "      <td>0.71330</td>\n",
       "      <td>0.51890</td>\n",
       "      <td>0.60401</td>\n",
       "      <td>0.689039</td>\n",
       "      <td>0.675759</td>\n",
       "      <td>0.453468</td>\n",
       "      <td>0.208045</td>\n",
       "    </tr>\n",
       "    <tr>\n",
       "      <th>2</th>\n",
       "      <td>9</td>\n",
       "      <td>A</td>\n",
       "      <td>B</td>\n",
       "      <td>A</td>\n",
       "      <td>B</td>\n",
       "      <td>B</td>\n",
       "      <td>A</td>\n",
       "      <td>B</td>\n",
       "      <td>A</td>\n",
       "      <td>B</td>\n",
       "      <td>...</td>\n",
       "      <td>0.718531</td>\n",
       "      <td>0.212308</td>\n",
       "      <td>0.325779</td>\n",
       "      <td>0.29758</td>\n",
       "      <td>0.34365</td>\n",
       "      <td>0.30529</td>\n",
       "      <td>0.245410</td>\n",
       "      <td>0.241676</td>\n",
       "      <td>0.258586</td>\n",
       "      <td>0.297232</td>\n",
       "    </tr>\n",
       "    <tr>\n",
       "      <th>3</th>\n",
       "      <td>12</td>\n",
       "      <td>A</td>\n",
       "      <td>A</td>\n",
       "      <td>A</td>\n",
       "      <td>A</td>\n",
       "      <td>B</td>\n",
       "      <td>A</td>\n",
       "      <td>A</td>\n",
       "      <td>A</td>\n",
       "      <td>A</td>\n",
       "      <td>...</td>\n",
       "      <td>0.397069</td>\n",
       "      <td>0.369930</td>\n",
       "      <td>0.342355</td>\n",
       "      <td>0.40028</td>\n",
       "      <td>0.33237</td>\n",
       "      <td>0.31480</td>\n",
       "      <td>0.348867</td>\n",
       "      <td>0.341872</td>\n",
       "      <td>0.592264</td>\n",
       "      <td>0.555955</td>\n",
       "    </tr>\n",
       "    <tr>\n",
       "      <th>4</th>\n",
       "      <td>15</td>\n",
       "      <td>B</td>\n",
       "      <td>A</td>\n",
       "      <td>A</td>\n",
       "      <td>A</td>\n",
       "      <td>A</td>\n",
       "      <td>B</td>\n",
       "      <td>A</td>\n",
       "      <td>A</td>\n",
       "      <td>A</td>\n",
       "      <td>...</td>\n",
       "      <td>0.302678</td>\n",
       "      <td>0.398862</td>\n",
       "      <td>0.391833</td>\n",
       "      <td>0.23688</td>\n",
       "      <td>0.43731</td>\n",
       "      <td>0.50556</td>\n",
       "      <td>0.359572</td>\n",
       "      <td>0.352251</td>\n",
       "      <td>0.301535</td>\n",
       "      <td>0.825823</td>\n",
       "    </tr>\n",
       "  </tbody>\n",
       "</table>\n",
       "<p>5 rows × 131 columns</p>\n",
       "</div>"
      ],
      "text/plain": [
       "   id cat1 cat2 cat3 cat4 cat5 cat6 cat7 cat8 cat9  ...     cont5     cont6  \\\n",
       "0   4    A    B    A    A    A    A    A    A    B  ...  0.281143  0.466591   \n",
       "1   6    A    B    A    B    A    A    A    A    B  ...  0.836443  0.482425   \n",
       "2   9    A    B    A    B    B    A    B    A    B  ...  0.718531  0.212308   \n",
       "3  12    A    A    A    A    B    A    A    A    A  ...  0.397069  0.369930   \n",
       "4  15    B    A    A    A    A    B    A    A    A  ...  0.302678  0.398862   \n",
       "\n",
       "      cont7    cont8    cont9   cont10    cont11    cont12    cont13    cont14  \n",
       "0  0.317681  0.61229  0.34365  0.38016  0.377724  0.369858  0.704052  0.392562  \n",
       "1  0.443760  0.71330  0.51890  0.60401  0.689039  0.675759  0.453468  0.208045  \n",
       "2  0.325779  0.29758  0.34365  0.30529  0.245410  0.241676  0.258586  0.297232  \n",
       "3  0.342355  0.40028  0.33237  0.31480  0.348867  0.341872  0.592264  0.555955  \n",
       "4  0.391833  0.23688  0.43731  0.50556  0.359572  0.352251  0.301535  0.825823  \n",
       "\n",
       "[5 rows x 131 columns]"
      ]
     },
     "execution_count": 16,
     "metadata": {},
     "output_type": "execute_result"
    }
   ],
   "source": [
    "df_test_raw = spark.read.csv('../data/raw/test.csv',\n",
    "                         header=True,\n",
    "                         inferSchema=True).cache()\n",
    "\n",
    "print(f\"\"\"nrows = {df_test_raw.count():,d}\n",
    "          ncols =  {len(df_test_raw.columns):,d}\"\"\" )\n",
    "\n",
    "df_test_raw.limit(5).toPandas()"
   ]
  },
  {
   "cell_type": "markdown",
   "metadata": {},
   "source": [
    "# Train validation split"
   ]
  },
  {
   "cell_type": "code",
   "execution_count": 17,
   "metadata": {
    "ExecuteTime": {
     "end_time": "2020-04-03T18:28:04.106580Z",
     "start_time": "2020-04-03T18:28:03.995154Z"
    }
   },
   "outputs": [],
   "source": [
    "df_train_raw = df_train_raw.withColumnRenamed(\"loss\", \"label\")"
   ]
  },
  {
   "cell_type": "code",
   "execution_count": 18,
   "metadata": {
    "ExecuteTime": {
     "end_time": "2020-04-03T18:28:17.383416Z",
     "start_time": "2020-04-03T18:28:04.119062Z"
    }
   },
   "outputs": [
    {
     "data": {
      "text/plain": [
       "(150506, 37812)"
      ]
     },
     "execution_count": 18,
     "metadata": {},
     "output_type": "execute_result"
    }
   ],
   "source": [
    "train, valid = df_train_raw.randomSplit([0.8,0.2], seed=SEED)\n",
    "\n",
    "train = train.cache()\n",
    "valid = valid.cache()\n",
    "\n",
    "train.count(), valid.count()"
   ]
  },
  {
   "cell_type": "code",
   "execution_count": 19,
   "metadata": {
    "ExecuteTime": {
     "end_time": "2020-04-03T18:28:17.441541Z",
     "start_time": "2020-04-03T18:28:17.386516Z"
    }
   },
   "outputs": [],
   "source": [
    "test = df_test_raw.cache()"
   ]
  },
  {
   "cell_type": "markdown",
   "metadata": {},
   "source": [
    "# Feature Engineering"
   ]
  },
  {
   "cell_type": "markdown",
   "metadata": {},
   "source": [
    "## Encoding Categorical Features\n",
    "- StringIndexer \n",
    "- OneHotEncoder "
   ]
  },
  {
   "cell_type": "code",
   "execution_count": 20,
   "metadata": {
    "ExecuteTime": {
     "end_time": "2020-04-03T18:28:50.371230Z",
     "start_time": "2020-04-03T18:28:17.445929Z"
    }
   },
   "outputs": [
    {
     "data": {
      "text/plain": [
       "StringIndexer_0440f2f83818"
      ]
     },
     "execution_count": 20,
     "metadata": {},
     "output_type": "execute_result"
    }
   ],
   "source": [
    "is_cat = lambda c: c.startswith(\"cat\")\n",
    "make_new_cat = lambda c: \"idx_{0}\".format(c) if (is_cat(c)) else c\n",
    "\n",
    "indexers = map(\n",
    "    lambda c: StringIndexer(inputCol=c,\n",
    "        outputCol=make_new_cat(c)\n",
    "        ).fit(\n",
    "             df_train_raw.select(c)\n",
    "             .union(df_test_raw.select(c))\n",
    "            )\n",
    "    , filter(is_cat, train.columns)\n",
    ")\n",
    "\n",
    "indexers = list(indexers)\n",
    "indexers[0]"
   ]
  },
  {
   "cell_type": "code",
   "execution_count": 21,
   "metadata": {
    "ExecuteTime": {
     "end_time": "2020-04-03T18:28:50.451015Z",
     "start_time": "2020-04-03T18:28:50.387269Z"
    }
   },
   "outputs": [],
   "source": [
    "mycols = df_train_raw.columns\n",
    "# mycols"
   ]
  },
  {
   "cell_type": "code",
   "execution_count": 22,
   "metadata": {
    "ExecuteTime": {
     "end_time": "2020-04-03T18:28:51.388883Z",
     "start_time": "2020-04-03T18:28:50.460027Z"
    }
   },
   "outputs": [
    {
     "name": "stdout",
     "output_type": "stream",
     "text": [
      "+----+\n",
      "|cat1|\n",
      "+----+\n",
      "|   B|\n",
      "|   A|\n",
      "+----+\n",
      "\n"
     ]
    }
   ],
   "source": [
    "df_train_raw.select('cat1').distinct().show()"
   ]
  },
  {
   "cell_type": "code",
   "execution_count": 23,
   "metadata": {
    "ExecuteTime": {
     "end_time": "2020-04-03T18:28:52.464695Z",
     "start_time": "2020-04-03T18:28:51.391447Z"
    }
   },
   "outputs": [
    {
     "data": {
      "text/plain": [
       "2"
      ]
     },
     "execution_count": 23,
     "metadata": {},
     "output_type": "execute_result"
    }
   ],
   "source": [
    "df_train_raw.select('cat1').distinct().count()"
   ]
  },
  {
   "cell_type": "code",
   "execution_count": 24,
   "metadata": {
    "ExecuteTime": {
     "end_time": "2020-04-03T18:28:52.526965Z",
     "start_time": "2020-04-03T18:28:52.468151Z"
    }
   },
   "outputs": [
    {
     "data": {
      "text/plain": [
       "116"
      ]
     },
     "execution_count": 24,
     "metadata": {},
     "output_type": "execute_result"
    }
   ],
   "source": [
    "cols_cat = [i for i in mycols if i.startswith('cat')]\n",
    "len(cols_cat)"
   ]
  },
  {
   "cell_type": "code",
   "execution_count": 25,
   "metadata": {
    "ExecuteTime": {
     "end_time": "2020-04-03T18:30:25.232042Z",
     "start_time": "2020-04-03T18:28:52.535007Z"
    }
   },
   "outputs": [
    {
     "name": "stdout",
     "output_type": "stream",
     "text": [
      "CPU times: user 140 ms, sys: 30.6 ms, total: 170 ms\n",
      "Wall time: 1min 32s\n"
     ]
    },
    {
     "data": {
      "text/plain": [
       "116"
      ]
     },
     "execution_count": 25,
     "metadata": {},
     "output_type": "execute_result"
    }
   ],
   "source": [
    "%%time\n",
    "n_distinct_cats = [df_train_raw.select(c).distinct().count()\n",
    "                   for c in cols_cat]\n",
    "\n",
    "len(n_distinct_cats)"
   ]
  },
  {
   "cell_type": "code",
   "execution_count": 26,
   "metadata": {
    "ExecuteTime": {
     "end_time": "2020-04-03T18:30:25.290494Z",
     "start_time": "2020-04-03T18:30:25.234772Z"
    }
   },
   "outputs": [],
   "source": [
    "# df_distinct = pd.DataFrame({\n",
    "#     'feature': cols_cat,\n",
    "#     'n_distinct': n_distinct_cats\n",
    "# })\n",
    "\n",
    "# df_distinct.tail()"
   ]
  },
  {
   "cell_type": "code",
   "execution_count": 27,
   "metadata": {
    "ExecuteTime": {
     "end_time": "2020-04-03T18:30:25.351547Z",
     "start_time": "2020-04-03T18:30:25.293283Z"
    }
   },
   "outputs": [],
   "source": [
    "# df_train.select('cat116').distinct().count()"
   ]
  },
  {
   "cell_type": "code",
   "execution_count": 28,
   "metadata": {
    "ExecuteTime": {
     "end_time": "2020-04-03T18:30:25.417700Z",
     "start_time": "2020-04-03T18:30:25.362359Z"
    }
   },
   "outputs": [],
   "source": [
    "# large_cats = df_distinct['feature'][df_distinct['n_distinct']>50].tolist()\n",
    "\n",
    "# large_cats"
   ]
  },
  {
   "cell_type": "code",
   "execution_count": 29,
   "metadata": {
    "ExecuteTime": {
     "end_time": "2020-04-03T18:30:25.482107Z",
     "start_time": "2020-04-03T18:30:25.420701Z"
    }
   },
   "outputs": [
    {
     "data": {
      "text/plain": [
       "['cat109', 'cat110', 'cat112', 'cat113', 'cat116']"
      ]
     },
     "execution_count": 29,
     "metadata": {},
     "output_type": "execute_result"
    }
   ],
   "source": [
    "large_cats = [cols_cat[i] for i,n in enumerate(n_distinct_cats)\n",
    "              if n>50]\n",
    "large_cats"
   ]
  },
  {
   "cell_type": "code",
   "execution_count": 30,
   "metadata": {
    "ExecuteTime": {
     "end_time": "2020-04-03T18:30:29.332153Z",
     "start_time": "2020-04-03T18:30:25.484449Z"
    }
   },
   "outputs": [
    {
     "name": "stdout",
     "output_type": "stream",
     "text": [
      "cat109 ==> 84\n",
      "cat110 ==> 131\n",
      "cat112 ==> 51\n",
      "cat113 ==> 61\n",
      "cat116 ==> 326\n"
     ]
    }
   ],
   "source": [
    "for c in large_cats:\n",
    "    n = df_train_raw.select(c).distinct().count()\n",
    "    print(f\"{c} ==> {n}\")"
   ]
  },
  {
   "cell_type": "code",
   "execution_count": 31,
   "metadata": {
    "ExecuteTime": {
     "end_time": "2020-04-03T18:30:29.412914Z",
     "start_time": "2020-04-03T18:30:29.353293Z"
    }
   },
   "outputs": [],
   "source": [
    "cats_selected = [i for i in cols_cat\n",
    "                     if i not in large_cats]\n",
    "\n",
    "cats_idx = ['idx_'+i for i in cats_selected]"
   ]
  },
  {
   "cell_type": "code",
   "execution_count": 32,
   "metadata": {
    "ExecuteTime": {
     "end_time": "2020-04-03T18:30:29.478857Z",
     "start_time": "2020-04-03T18:30:29.416813Z"
    }
   },
   "outputs": [
    {
     "name": "stdout",
     "output_type": "stream",
     "text": [
      "['cont1', 'cont2', 'cont3', 'cont4', 'cont5', 'cont6', 'cont7', 'cont8', 'cont9', 'cont10', 'cont11', 'cont12', 'cont13', 'cont14']\n"
     ]
    }
   ],
   "source": [
    "# continuous features\n",
    "cols_cont = [i for i in train.columns\n",
    "            if i.startswith('cont')]\n",
    "\n",
    "print(cols_cont)"
   ]
  },
  {
   "cell_type": "code",
   "execution_count": 33,
   "metadata": {
    "ExecuteTime": {
     "end_time": "2020-04-03T18:30:29.540724Z",
     "start_time": "2020-04-03T18:30:29.482610Z"
    }
   },
   "outputs": [
    {
     "name": "stdout",
     "output_type": "stream",
     "text": [
      "['idx_cat1', 'idx_cat2', 'idx_cat3', 'idx_cat4', 'idx_cat5', 'idx_cat6', 'idx_cat7', 'idx_cat8', 'idx_cat9', 'idx_cat10', 'idx_cat11', 'idx_cat12', 'idx_cat13', 'idx_cat14', 'idx_cat15', 'idx_cat16', 'idx_cat17', 'idx_cat18', 'idx_cat19', 'idx_cat20', 'idx_cat21', 'idx_cat22', 'idx_cat23', 'idx_cat24', 'idx_cat25', 'idx_cat26', 'idx_cat27', 'idx_cat28', 'idx_cat29', 'idx_cat30', 'idx_cat31', 'idx_cat32', 'idx_cat33', 'idx_cat34', 'idx_cat35', 'idx_cat36', 'idx_cat37', 'idx_cat38', 'idx_cat39', 'idx_cat40', 'idx_cat41', 'idx_cat42', 'idx_cat43', 'idx_cat44', 'idx_cat45', 'idx_cat46', 'idx_cat47', 'idx_cat48', 'idx_cat49', 'idx_cat50', 'idx_cat51', 'idx_cat52', 'idx_cat53', 'idx_cat54', 'idx_cat55', 'idx_cat56', 'idx_cat57', 'idx_cat58', 'idx_cat59', 'idx_cat60', 'idx_cat61', 'idx_cat62', 'idx_cat63', 'idx_cat64', 'idx_cat65', 'idx_cat66', 'idx_cat67', 'idx_cat68', 'idx_cat69', 'idx_cat70', 'idx_cat71', 'idx_cat72', 'idx_cat73', 'idx_cat74', 'idx_cat75', 'idx_cat76', 'idx_cat77', 'idx_cat78', 'idx_cat79', 'idx_cat80', 'idx_cat81', 'idx_cat82', 'idx_cat83', 'idx_cat84', 'idx_cat85', 'idx_cat86', 'idx_cat87', 'idx_cat88', 'idx_cat89', 'idx_cat90', 'idx_cat91', 'idx_cat92', 'idx_cat93', 'idx_cat94', 'idx_cat95', 'idx_cat96', 'idx_cat97', 'idx_cat98', 'idx_cat99', 'idx_cat100', 'idx_cat101', 'idx_cat102', 'idx_cat103', 'idx_cat104', 'idx_cat105', 'idx_cat106', 'idx_cat107', 'idx_cat108', 'idx_cat111', 'idx_cat114', 'idx_cat115', 'cont1', 'cont2', 'cont3', 'cont4', 'cont5', 'cont6', 'cont7', 'cont8', 'cont9', 'cont10', 'cont11', 'cont12', 'cont13', 'cont14']\n"
     ]
    }
   ],
   "source": [
    "# we do not include id and label column in selected features\n",
    "\n",
    "features_selected = cats_idx + cols_cont\n",
    "\n",
    "print(features_selected)"
   ]
  },
  {
   "cell_type": "code",
   "execution_count": 34,
   "metadata": {
    "ExecuteTime": {
     "end_time": "2020-04-03T18:30:29.618927Z",
     "start_time": "2020-04-03T18:30:29.547595Z"
    }
   },
   "outputs": [],
   "source": [
    "assembler = VectorAssembler(inputCols=features_selected,\n",
    "                            outputCol=\"features\")"
   ]
  },
  {
   "cell_type": "markdown",
   "metadata": {},
   "source": [
    "# Modelling: Random Forest Regressor"
   ]
  },
  {
   "cell_type": "markdown",
   "metadata": {},
   "source": [
    "## Random Forest Regressor"
   ]
  },
  {
   "cell_type": "code",
   "execution_count": 35,
   "metadata": {
    "ExecuteTime": {
     "end_time": "2020-04-03T18:30:29.755084Z",
     "start_time": "2020-04-03T18:30:29.663438Z"
    }
   },
   "outputs": [],
   "source": [
    "from pyspark.ml.regression import RandomForestRegressor"
   ]
  },
  {
   "cell_type": "code",
   "execution_count": 36,
   "metadata": {
    "ExecuteTime": {
     "end_time": "2020-04-03T18:30:29.860528Z",
     "start_time": "2020-04-03T18:30:29.766652Z"
    }
   },
   "outputs": [
    {
     "data": {
      "text/plain": [
       "RandomForestRegressor_a620f9834c2e"
      ]
     },
     "execution_count": 36,
     "metadata": {},
     "output_type": "execute_result"
    }
   ],
   "source": [
    "model = RandomForestRegressor(featuresCol=\"features\",\n",
    "                              labelCol=\"label\")\n",
    "model"
   ]
  },
  {
   "cell_type": "code",
   "execution_count": 37,
   "metadata": {
    "ExecuteTime": {
     "end_time": "2020-04-03T18:30:29.931642Z",
     "start_time": "2020-04-03T18:30:29.866569Z"
    }
   },
   "outputs": [],
   "source": [
    "stages = indexers\n",
    "stages.append(assembler)\n",
    "stages.append(model)\n",
    "\n",
    "pipeline = Pipeline(stages=stages)"
   ]
  },
  {
   "cell_type": "markdown",
   "metadata": {},
   "source": [
    "## Cross-Validation"
   ]
  },
  {
   "cell_type": "code",
   "execution_count": 38,
   "metadata": {
    "ExecuteTime": {
     "end_time": "2020-04-03T18:30:29.992473Z",
     "start_time": "2020-04-03T18:30:29.936107Z"
    }
   },
   "outputs": [],
   "source": [
    "from pyspark.ml.tuning import ParamGridBuilder\n",
    "from pyspark.ml.tuning import CrossValidator\n",
    "from pyspark.ml.evaluation import RegressionEvaluator"
   ]
  },
  {
   "cell_type": "code",
   "execution_count": 42,
   "metadata": {
    "ExecuteTime": {
     "end_time": "2020-04-03T18:50:00.659874Z",
     "start_time": "2020-04-03T18:49:24.303216Z"
    }
   },
   "outputs": [
    {
     "data": {
      "text/plain": [
       "150506"
      ]
     },
     "execution_count": 42,
     "metadata": {},
     "output_type": "execute_result"
    }
   ],
   "source": [
    "train.count()"
   ]
  },
  {
   "cell_type": "code",
   "execution_count": 46,
   "metadata": {
    "ExecuteTime": {
     "end_time": "2020-04-03T18:52:49.533882Z",
     "start_time": "2020-04-03T18:52:49.482389Z"
    }
   },
   "outputs": [],
   "source": [
    "# help(train.sample)"
   ]
  },
  {
   "cell_type": "code",
   "execution_count": 49,
   "metadata": {
    "ExecuteTime": {
     "end_time": "2020-04-03T18:54:34.757148Z",
     "start_time": "2020-04-03T18:54:34.685081Z"
    }
   },
   "outputs": [],
   "source": [
    "train = train.sample(fraction=0.1,seed=SEED)\n",
    "valid = valid.sample(fraction=0.1,seed=SEED)\n",
    "test = test.sample(fraction=0.1,seed=SEED)"
   ]
  },
  {
   "cell_type": "code",
   "execution_count": 50,
   "metadata": {
    "ExecuteTime": {
     "end_time": "2020-04-03T19:00:14.459816Z",
     "start_time": "2020-04-03T18:54:35.839971Z"
    }
   },
   "outputs": [
    {
     "name": "stdout",
     "output_type": "stream",
     "text": [
      "CPU times: user 5.92 s, sys: 1.1 s, total: 7.02 s\n",
      "Wall time: 5min 38s\n"
     ]
    }
   ],
   "source": [
    "%%time\n",
    "\n",
    "# numTrees = [5, 20]\n",
    "# maxDepth = [4, 6]\n",
    "# maxBins = [32]\n",
    "# numFolds = 3\n",
    "\n",
    "numTrees = [5]\n",
    "maxDepth = [2]\n",
    "maxBins = [32]\n",
    "numFolds = 2\n",
    "\n",
    "paramGrid = (\n",
    "ParamGridBuilder()\n",
    ".addGrid(model.numTrees, numTrees)\n",
    ".addGrid(model.maxDepth, maxDepth)\n",
    ".addGrid(model.maxBins, maxBins)\n",
    ".build()\n",
    ")\n",
    "\n",
    "cv = CrossValidator(estimator=pipeline,\n",
    "                    evaluator=RegressionEvaluator(),\n",
    "                    estimatorParamMaps=paramGrid,\n",
    "                    numFolds=numFolds)\n",
    "\n",
    "cvModel = cv.fit(train)"
   ]
  },
  {
   "cell_type": "code",
   "execution_count": 51,
   "metadata": {
    "ExecuteTime": {
     "end_time": "2020-04-03T19:00:14.522591Z",
     "start_time": "2020-04-03T19:00:14.463294Z"
    }
   },
   "outputs": [],
   "source": [
    "bestModel = cvModel.bestModel"
   ]
  },
  {
   "cell_type": "markdown",
   "metadata": {},
   "source": [
    "## Model Evaluation"
   ]
  },
  {
   "cell_type": "code",
   "execution_count": 52,
   "metadata": {
    "ExecuteTime": {
     "end_time": "2020-04-03T19:00:14.577130Z",
     "start_time": "2020-04-03T19:00:14.525523Z"
    }
   },
   "outputs": [],
   "source": [
    "from pyspark.mllib.evaluation import RegressionMetrics"
   ]
  },
  {
   "cell_type": "code",
   "execution_count": 53,
   "metadata": {
    "ExecuteTime": {
     "end_time": "2020-04-03T19:00:25.275636Z",
     "start_time": "2020-04-03T19:00:14.581100Z"
    }
   },
   "outputs": [],
   "source": [
    "train_preds_and_labels = cvModel.transform(train)\\\n",
    "                     .select(\"label\", \"prediction\").rdd\n",
    "\n",
    "valid_preds_and_labels = cvModel.transform(valid)\\\n",
    "                     .select(\"label\", \"prediction\").rdd"
   ]
  },
  {
   "cell_type": "code",
   "execution_count": 65,
   "metadata": {
    "ExecuteTime": {
     "end_time": "2020-04-03T19:06:29.410058Z",
     "start_time": "2020-04-03T19:06:29.319594Z"
    }
   },
   "outputs": [
    {
     "data": {
      "text/html": [
       "<div>\n",
       "<style scoped>\n",
       "    .dataframe tbody tr th:only-of-type {\n",
       "        vertical-align: middle;\n",
       "    }\n",
       "\n",
       "    .dataframe tbody tr th {\n",
       "        vertical-align: top;\n",
       "    }\n",
       "\n",
       "    .dataframe thead th {\n",
       "        text-align: right;\n",
       "    }\n",
       "</style>\n",
       "<table border=\"1\" class=\"dataframe\">\n",
       "  <thead>\n",
       "    <tr style=\"text-align: right;\">\n",
       "      <th></th>\n",
       "      <th>0</th>\n",
       "      <th>1</th>\n",
       "      <th>2</th>\n",
       "      <th>3</th>\n",
       "    </tr>\n",
       "  </thead>\n",
       "  <tbody>\n",
       "    <tr>\n",
       "      <th>0</th>\n",
       "      <td>call</td>\n",
       "      <td>meanAbsoluteError</td>\n",
       "      <td>r2</td>\n",
       "      <td>rootMeanSquaredError</td>\n",
       "    </tr>\n",
       "    <tr>\n",
       "      <th>1</th>\n",
       "      <td>explainedVariance</td>\n",
       "      <td>meanSquaredError</td>\n",
       "      <td></td>\n",
       "      <td></td>\n",
       "    </tr>\n",
       "  </tbody>\n",
       "</table>\n",
       "</div>"
      ],
      "text/plain": [
       "                   0                  1   2                     3\n",
       "0               call  meanAbsoluteError  r2  rootMeanSquaredError\n",
       "1  explainedVariance   meanSquaredError                          "
      ]
     },
     "execution_count": 65,
     "metadata": {},
     "output_type": "execute_result"
    }
   ],
   "source": [
    "metrics = RegressionMetrics(train_preds_and_labels)\n",
    "bp.show_method_attributes(metrics,4)"
   ]
  },
  {
   "cell_type": "code",
   "execution_count": 61,
   "metadata": {
    "ExecuteTime": {
     "end_time": "2020-04-03T19:05:03.344514Z",
     "start_time": "2020-04-03T19:05:03.302348Z"
    }
   },
   "outputs": [],
   "source": [
    "def get_metrics(preds_and_labels):\n",
    "    metrics = RegressionMetrics(preds_and_labels)\n",
    "    df_metrics = pd.DataFrame(\n",
    "        data= [ metrics.meanSquaredError,\n",
    "                metrics.rootMeanSquaredError,\n",
    "                metrics.r2,\n",
    "                metrics.meanAbsoluteError,\n",
    "                metrics.explainedVariance],\n",
    "        index= ['Mean Squared Error','root MSE','R-squared',\n",
    "                  'MAE','Explained Variance']\n",
    "    )\n",
    "\n",
    "    return df_metrics"
   ]
  },
  {
   "cell_type": "code",
   "execution_count": 62,
   "metadata": {
    "ExecuteTime": {
     "end_time": "2020-04-03T19:05:48.073606Z",
     "start_time": "2020-04-03T19:05:08.128275Z"
    }
   },
   "outputs": [],
   "source": [
    "df_metrics_train = get_metrics(train_preds_and_labels)\n",
    "df_metrics_valid = get_metrics(valid_preds_and_labels)"
   ]
  },
  {
   "cell_type": "code",
   "execution_count": 70,
   "metadata": {
    "ExecuteTime": {
     "end_time": "2020-04-03T19:09:04.585580Z",
     "start_time": "2020-04-03T19:09:04.542265Z"
    }
   },
   "outputs": [
    {
     "data": {
      "text/html": [
       "<div>\n",
       "<style scoped>\n",
       "    .dataframe tbody tr th:only-of-type {\n",
       "        vertical-align: middle;\n",
       "    }\n",
       "\n",
       "    .dataframe tbody tr th {\n",
       "        vertical-align: top;\n",
       "    }\n",
       "\n",
       "    .dataframe thead th {\n",
       "        text-align: right;\n",
       "    }\n",
       "</style>\n",
       "<table border=\"1\" class=\"dataframe\">\n",
       "  <thead>\n",
       "    <tr style=\"text-align: right;\">\n",
       "      <th></th>\n",
       "      <th>Train</th>\n",
       "      <th>Validation</th>\n",
       "    </tr>\n",
       "  </thead>\n",
       "  <tbody>\n",
       "    <tr>\n",
       "      <th>Mean Squared Error</th>\n",
       "      <td>5980130.81</td>\n",
       "      <td>6909007.27</td>\n",
       "    </tr>\n",
       "    <tr>\n",
       "      <th>root MSE</th>\n",
       "      <td>2445.43</td>\n",
       "      <td>2628.50</td>\n",
       "    </tr>\n",
       "    <tr>\n",
       "      <th>R-squared</th>\n",
       "      <td>-3.03</td>\n",
       "      <td>-3.51</td>\n",
       "    </tr>\n",
       "    <tr>\n",
       "      <th>MAE</th>\n",
       "      <td>1547.70</td>\n",
       "      <td>1618.27</td>\n",
       "    </tr>\n",
       "    <tr>\n",
       "      <th>Explained Variance</th>\n",
       "      <td>8719876.99</td>\n",
       "      <td>9784700.87</td>\n",
       "    </tr>\n",
       "  </tbody>\n",
       "</table>\n",
       "</div>"
      ],
      "text/plain": [
       "                         Train  Validation\n",
       "Mean Squared Error  5980130.81  6909007.27\n",
       "root MSE               2445.43     2628.50\n",
       "R-squared                -3.03       -3.51\n",
       "MAE                    1547.70     1618.27\n",
       "Explained Variance  8719876.99  9784700.87"
      ]
     },
     "execution_count": 70,
     "metadata": {},
     "output_type": "execute_result"
    }
   ],
   "source": [
    "df_metrics = pd.concat([df_metrics_train, df_metrics_valid],axis=1)\n",
    "df_metrics.columns = ['Train','Validation']\n",
    "\n",
    "df_metrics.round(2)"
   ]
  },
  {
   "cell_type": "markdown",
   "metadata": {},
   "source": [
    "## Feature Importances"
   ]
  },
  {
   "cell_type": "code",
   "execution_count": 71,
   "metadata": {
    "ExecuteTime": {
     "end_time": "2020-04-03T19:09:32.990111Z",
     "start_time": "2020-04-03T19:09:32.918356Z"
    }
   },
   "outputs": [],
   "source": [
    "featureImportances = bestModel.stages[-1].featureImportances.toArray()"
   ]
  },
  {
   "cell_type": "code",
   "execution_count": 74,
   "metadata": {
    "ExecuteTime": {
     "end_time": "2020-04-03T19:11:22.498778Z",
     "start_time": "2020-04-03T19:11:22.451458Z"
    }
   },
   "outputs": [
    {
     "data": {
      "text/html": [
       "<div>\n",
       "<style scoped>\n",
       "    .dataframe tbody tr th:only-of-type {\n",
       "        vertical-align: middle;\n",
       "    }\n",
       "\n",
       "    .dataframe tbody tr th {\n",
       "        vertical-align: top;\n",
       "    }\n",
       "\n",
       "    .dataframe thead th {\n",
       "        text-align: right;\n",
       "    }\n",
       "</style>\n",
       "<table border=\"1\" class=\"dataframe\">\n",
       "  <thead>\n",
       "    <tr style=\"text-align: right;\">\n",
       "      <th></th>\n",
       "      <th>Feature</th>\n",
       "      <th>Importance</th>\n",
       "    </tr>\n",
       "  </thead>\n",
       "  <tbody>\n",
       "    <tr>\n",
       "      <th>11</th>\n",
       "      <td>idx_cat12</td>\n",
       "      <td>0.086293</td>\n",
       "    </tr>\n",
       "    <tr>\n",
       "      <th>56</th>\n",
       "      <td>idx_cat57</td>\n",
       "      <td>0.180114</td>\n",
       "    </tr>\n",
       "    <tr>\n",
       "      <th>78</th>\n",
       "      <td>idx_cat79</td>\n",
       "      <td>0.169548</td>\n",
       "    </tr>\n",
       "    <tr>\n",
       "      <th>79</th>\n",
       "      <td>idx_cat80</td>\n",
       "      <td>0.446550</td>\n",
       "    </tr>\n",
       "    <tr>\n",
       "      <th>88</th>\n",
       "      <td>idx_cat89</td>\n",
       "      <td>0.026806</td>\n",
       "    </tr>\n",
       "    <tr>\n",
       "      <th>99</th>\n",
       "      <td>idx_cat100</td>\n",
       "      <td>0.059660</td>\n",
       "    </tr>\n",
       "    <tr>\n",
       "      <th>106</th>\n",
       "      <td>idx_cat107</td>\n",
       "      <td>0.014781</td>\n",
       "    </tr>\n",
       "    <tr>\n",
       "      <th>107</th>\n",
       "      <td>idx_cat108</td>\n",
       "      <td>0.006957</td>\n",
       "    </tr>\n",
       "    <tr>\n",
       "      <th>121</th>\n",
       "      <td>cont11</td>\n",
       "      <td>0.009292</td>\n",
       "    </tr>\n",
       "  </tbody>\n",
       "</table>\n",
       "</div>"
      ],
      "text/plain": [
       "        Feature  Importance\n",
       "11    idx_cat12    0.086293\n",
       "56    idx_cat57    0.180114\n",
       "78    idx_cat79    0.169548\n",
       "79    idx_cat80    0.446550\n",
       "88    idx_cat89    0.026806\n",
       "99   idx_cat100    0.059660\n",
       "106  idx_cat107    0.014781\n",
       "107  idx_cat108    0.006957\n",
       "121      cont11    0.009292"
      ]
     },
     "execution_count": 74,
     "metadata": {},
     "output_type": "execute_result"
    }
   ],
   "source": [
    "df_feat_imp = pd.DataFrame({\n",
    "    'Feature': features_selected,\n",
    "    'Importance': featureImportances\n",
    "})\n",
    "\n",
    "df_feat_imp[df_feat_imp['Importance']>0]"
   ]
  },
  {
   "cell_type": "markdown",
   "metadata": {},
   "source": [
    "# Save the output"
   ]
  },
  {
   "cell_type": "code",
   "execution_count": 76,
   "metadata": {
    "ExecuteTime": {
     "end_time": "2020-04-03T19:12:27.187422Z",
     "start_time": "2020-04-03T19:11:43.564446Z"
    }
   },
   "outputs": [],
   "source": [
    "cvModel.transform(test)\\\n",
    ".select(\"id\", \"prediction\")\\\n",
    ".withColumnRenamed(\"prediction\", \"loss\")\\\n",
    ".coalesce(1)\\\n",
    ".write.format(\"csv\")\\\n",
    ".option(\"header\", \"true\")\\\n",
    ".save(\"../data/outputs/test_output_dir\")"
   ]
  },
  {
   "cell_type": "code",
   "execution_count": 88,
   "metadata": {
    "ExecuteTime": {
     "end_time": "2020-04-03T19:16:17.353521Z",
     "start_time": "2020-04-03T19:16:17.244332Z"
    }
   },
   "outputs": [
    {
     "data": {
      "text/plain": [
       "'../data/outputs/test_output_dir/part-00000-194c5ce7-e205-496d-b523-5aeb107e0d72-c000.csv'"
      ]
     },
     "execution_count": 88,
     "metadata": {},
     "output_type": "execute_result"
    }
   ],
   "source": [
    "lst_ofile = !ls ../data/outputs/test_output_dir/*.csv\n",
    "\n",
    "ofile = lst_ofile[0]\n",
    "ofile"
   ]
  },
  {
   "cell_type": "code",
   "execution_count": 87,
   "metadata": {
    "ExecuteTime": {
     "end_time": "2020-04-03T19:15:53.607446Z",
     "start_time": "2020-04-03T19:15:53.355712Z"
    }
   },
   "outputs": [
    {
     "name": "stdout",
     "output_type": "stream",
     "text": [
      "id,loss\r\n",
      "9,7027.552637111308\r\n"
     ]
    }
   ],
   "source": [
    "!head -2 $ofile"
   ]
  },
  {
   "cell_type": "code",
   "execution_count": null,
   "metadata": {},
   "outputs": [],
   "source": []
  }
 ],
 "metadata": {
  "kernelspec": {
   "display_name": "Python (dataSc)",
   "language": "python",
   "name": "datasc"
  },
  "language_info": {
   "codemirror_mode": {
    "name": "ipython",
    "version": 3
   },
   "file_extension": ".py",
   "mimetype": "text/x-python",
   "name": "python",
   "nbconvert_exporter": "python",
   "pygments_lexer": "ipython3",
   "version": "3.7.3"
  },
  "toc": {
   "base_numbering": 1,
   "nav_menu": {},
   "number_sections": true,
   "sideBar": true,
   "skip_h1_title": false,
   "title_cell": "Table of Contents",
   "title_sidebar": "Contents",
   "toc_cell": true,
   "toc_position": {},
   "toc_section_display": true,
   "toc_window_display": true
  }
 },
 "nbformat": 4,
 "nbformat_minor": 2
}
